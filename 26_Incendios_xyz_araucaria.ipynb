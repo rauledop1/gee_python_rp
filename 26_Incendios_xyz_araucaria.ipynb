{
 "cells": [
  {
   "cell_type": "code",
   "execution_count": 1,
   "metadata": {},
   "outputs": [],
   "source": [
    "import ee\n",
    "import geemap\n",
    "import time\n",
    "import arcgis\n",
    "from arcgis.gis import GIS\n",
    "from arcgis.features import FeatureLayerCollection\n",
    "\n",
    "#geemap.ee_search()\n",
    "ee.Initialize()\n",
    "# Create a GIS object\n",
    "gis = GIS('PRO')\n",
    "\n",
    "\n",
    "\n",
    "# %%\n",
    "Map = geemap.Map()"
   ]
  },
  {
   "cell_type": "code",
   "execution_count": 2,
   "metadata": {},
   "outputs": [
    {
     "data": {
      "text/plain": [
       "(TileLayer(attribution='&copy; <a href=\"https://www.openstreetmap.org/copyright\">OpenStreetMap</a> contributors', base=True, max_zoom=19, min_zoom=1, name='OpenStreetMap.Mapnik', options=['attribution', 'bounds', 'detect_retina', 'max_native_zoom', 'max_zoom', 'min_native_zoom', 'min_zoom', 'no_wrap', 'tile_size', 'tms', 'zoom_offset'], url='https://tile.openstreetmap.org/{z}/{x}/{y}.png'),\n",
       " TileLayer(attribution='Google', max_zoom=22, name='Google Maps', options=['attribution', 'bounds', 'detect_retina', 'max_native_zoom', 'max_zoom', 'min_native_zoom', 'min_zoom', 'no_wrap', 'tile_size', 'tms', 'zoom_offset'], url='https://mt1.google.com/vt/lyrs=m&x={x}&y={y}&z={z}'))"
      ]
     },
     "execution_count": 2,
     "metadata": {},
     "output_type": "execute_result"
    }
   ],
   "source": [
    "Map.layers"
   ]
  },
  {
   "cell_type": "code",
   "execution_count": 3,
   "metadata": {},
   "outputs": [
    {
     "data": {
      "text/plain": [
       "True"
      ]
     },
     "execution_count": 3,
     "metadata": {},
     "output_type": "execute_result"
    }
   ],
   "source": [
    "ee.Authenticate()"
   ]
  },
  {
   "cell_type": "code",
   "execution_count": 4,
   "metadata": {},
   "outputs": [
    {
     "ename": "OSError",
     "evalue": "CURRENT",
     "output_type": "error",
     "traceback": [
      "\u001b[1;31m---------------------------------------------------------------------------\u001b[0m",
      "\u001b[1;31mOSError\u001b[0m                                   Traceback (most recent call last)",
      "\u001b[1;32m~\\AppData\\Local\\Temp\\2\\ipykernel_17972\\1987390268.py\u001b[0m in \u001b[0;36m<module>\u001b[1;34m\u001b[0m\n\u001b[0;32m     56\u001b[0m \u001b[1;33m\u001b[0m\u001b[0m\n\u001b[0;32m     57\u001b[0m \u001b[1;31m# Add the reclassified fires layer to the map\u001b[0m\u001b[1;33m\u001b[0m\u001b[1;33m\u001b[0m\u001b[1;33m\u001b[0m\u001b[0m\n\u001b[1;32m---> 58\u001b[1;33m \u001b[0mMap\u001b[0m\u001b[1;33m.\u001b[0m\u001b[0maddLayer\u001b[0m\u001b[1;33m(\u001b[0m\u001b[0mfiremx1Wr\u001b[0m\u001b[1;33m,\u001b[0m \u001b[0mfireVisReclass\u001b[0m\u001b[1;33m,\u001b[0m \u001b[1;34m'Fires'\u001b[0m\u001b[1;33m)\u001b[0m\u001b[1;33m\u001b[0m\u001b[1;33m\u001b[0m\u001b[0m\n\u001b[0m\u001b[0;32m     59\u001b[0m \u001b[1;33m\u001b[0m\u001b[0m\n\u001b[0;32m     60\u001b[0m \u001b[1;31m# Display the map\u001b[0m\u001b[1;33m\u001b[0m\u001b[1;33m\u001b[0m\u001b[1;33m\u001b[0m\u001b[0m\n",
      "\u001b[1;32mc:\\Users\\raul.perez.astorga\\AppData\\Local\\ESRI\\conda\\envs\\arcgispro-py3-clone-3\\lib\\site-packages\\geemap\\geemap.py\u001b[0m in \u001b[0;36madd_ee_layer\u001b[1;34m(self, ee_object, vis_params, name, shown, opacity)\u001b[0m\n\u001b[0;32m   1547\u001b[0m             \u001b[0mself\u001b[0m\u001b[1;33m.\u001b[0m\u001b[0mee_vector_layer_names\u001b[0m\u001b[1;33m.\u001b[0m\u001b[0mappend\u001b[0m\u001b[1;33m(\u001b[0m\u001b[0mname\u001b[0m\u001b[1;33m)\u001b[0m\u001b[1;33m\u001b[0m\u001b[1;33m\u001b[0m\u001b[0m\n\u001b[0;32m   1548\u001b[0m \u001b[1;33m\u001b[0m\u001b[0m\n\u001b[1;32m-> 1549\u001b[1;33m         \u001b[0marc_add_layer\u001b[0m\u001b[1;33m(\u001b[0m\u001b[0murl\u001b[0m\u001b[1;33m,\u001b[0m \u001b[0mname\u001b[0m\u001b[1;33m,\u001b[0m \u001b[0mshown\u001b[0m\u001b[1;33m,\u001b[0m \u001b[0mopacity\u001b[0m\u001b[1;33m)\u001b[0m\u001b[1;33m\u001b[0m\u001b[1;33m\u001b[0m\u001b[0m\n\u001b[0m\u001b[0;32m   1550\u001b[0m \u001b[1;33m\u001b[0m\u001b[0m\n\u001b[0;32m   1551\u001b[0m     \u001b[0maddLayer\u001b[0m \u001b[1;33m=\u001b[0m \u001b[0madd_ee_layer\u001b[0m\u001b[1;33m\u001b[0m\u001b[1;33m\u001b[0m\u001b[0m\n",
      "\u001b[1;32mc:\\Users\\raul.perez.astorga\\AppData\\Local\\ESRI\\conda\\envs\\arcgispro-py3-clone-3\\lib\\site-packages\\geemap\\common.py\u001b[0m in \u001b[0;36marc_add_layer\u001b[1;34m(url, name, shown, opacity)\u001b[0m\n\u001b[0;32m  14029\u001b[0m     \"\"\"\n\u001b[0;32m  14030\u001b[0m     \u001b[1;32mif\u001b[0m \u001b[0mis_arcpy\u001b[0m\u001b[1;33m(\u001b[0m\u001b[1;33m)\u001b[0m\u001b[1;33m:\u001b[0m\u001b[1;33m\u001b[0m\u001b[1;33m\u001b[0m\u001b[0m\n\u001b[1;32m> 14031\u001b[1;33m         \u001b[0mm\u001b[0m \u001b[1;33m=\u001b[0m \u001b[0marc_active_map\u001b[0m\u001b[1;33m(\u001b[0m\u001b[1;33m)\u001b[0m\u001b[1;33m\u001b[0m\u001b[1;33m\u001b[0m\u001b[0m\n\u001b[0m\u001b[0;32m  14032\u001b[0m         \u001b[0mm\u001b[0m\u001b[1;33m.\u001b[0m\u001b[0maddDataFromPath\u001b[0m\u001b[1;33m(\u001b[0m\u001b[0murl\u001b[0m\u001b[1;33m)\u001b[0m\u001b[1;33m\u001b[0m\u001b[1;33m\u001b[0m\u001b[0m\n\u001b[0;32m  14033\u001b[0m         \u001b[1;32mif\u001b[0m \u001b[0misinstance\u001b[0m\u001b[1;33m(\u001b[0m\u001b[0mname\u001b[0m\u001b[1;33m,\u001b[0m \u001b[0mstr\u001b[0m\u001b[1;33m)\u001b[0m\u001b[1;33m:\u001b[0m\u001b[1;33m\u001b[0m\u001b[1;33m\u001b[0m\u001b[0m\n",
      "\u001b[1;32mc:\\Users\\raul.perez.astorga\\AppData\\Local\\ESRI\\conda\\envs\\arcgispro-py3-clone-3\\lib\\site-packages\\geemap\\common.py\u001b[0m in \u001b[0;36marc_active_map\u001b[1;34m()\u001b[0m\n\u001b[0;32m  13996\u001b[0m         \u001b[1;32mimport\u001b[0m \u001b[0marcpy\u001b[0m\u001b[1;33m\u001b[0m\u001b[1;33m\u001b[0m\u001b[0m\n\u001b[0;32m  13997\u001b[0m \u001b[1;33m\u001b[0m\u001b[0m\n\u001b[1;32m> 13998\u001b[1;33m         \u001b[0maprx\u001b[0m \u001b[1;33m=\u001b[0m \u001b[0marcpy\u001b[0m\u001b[1;33m.\u001b[0m\u001b[0mmp\u001b[0m\u001b[1;33m.\u001b[0m\u001b[0mArcGISProject\u001b[0m\u001b[1;33m(\u001b[0m\u001b[1;34m\"CURRENT\"\u001b[0m\u001b[1;33m)\u001b[0m\u001b[1;33m\u001b[0m\u001b[1;33m\u001b[0m\u001b[0m\n\u001b[0m\u001b[0;32m  13999\u001b[0m         \u001b[0mm\u001b[0m \u001b[1;33m=\u001b[0m \u001b[0maprx\u001b[0m\u001b[1;33m.\u001b[0m\u001b[0mactiveMap\u001b[0m\u001b[1;33m\u001b[0m\u001b[1;33m\u001b[0m\u001b[0m\n\u001b[0;32m  14000\u001b[0m         \u001b[1;32mreturn\u001b[0m \u001b[0mm\u001b[0m\u001b[1;33m\u001b[0m\u001b[1;33m\u001b[0m\u001b[0m\n",
      "\u001b[1;32mD:\\Program Files\\ArcGIS\\Pro\\Resources\\ArcPy\\arcpy\\_mp.py\u001b[0m in \u001b[0;36m__init__\u001b[1;34m(self, aprx_path)\u001b[0m\n\u001b[0;32m    344\u001b[0m            A string that includes the full system path and file name of an existing ArcGIS project ( .aprx ) or a string that contains the CURRENT keyword.\"\"\"\n\u001b[0;32m    345\u001b[0m         \u001b[1;32mimport\u001b[0m \u001b[0marcgisscripting\u001b[0m\u001b[1;33m\u001b[0m\u001b[1;33m\u001b[0m\u001b[0m\n\u001b[1;32m--> 346\u001b[1;33m         \u001b[0mself\u001b[0m\u001b[1;33m.\u001b[0m\u001b[0m_arc_object\u001b[0m \u001b[1;33m=\u001b[0m \u001b[0marcgisscripting\u001b[0m\u001b[1;33m.\u001b[0m\u001b[0m_mapping\u001b[0m\u001b[1;33m.\u001b[0m\u001b[0mArcGISProject\u001b[0m\u001b[1;33m(\u001b[0m\u001b[1;33m*\u001b[0m\u001b[0mgp_fixargs\u001b[0m\u001b[1;33m(\u001b[0m\u001b[1;33m(\u001b[0m\u001b[0maprx_path\u001b[0m\u001b[1;33m,\u001b[0m\u001b[1;33m)\u001b[0m\u001b[1;33m,\u001b[0m \u001b[1;32mTrue\u001b[0m\u001b[1;33m)\u001b[0m\u001b[1;33m)\u001b[0m\u001b[1;33m\u001b[0m\u001b[1;33m\u001b[0m\u001b[0m\n\u001b[0m\u001b[0;32m    347\u001b[0m \u001b[1;33m\u001b[0m\u001b[0m\n\u001b[0;32m    348\u001b[0m \u001b[1;32mclass\u001b[0m \u001b[0mBookmark\u001b[0m\u001b[1;33m(\u001b[0m\u001b[0m_ObjectWithoutInitCall\u001b[0m\u001b[1;33m)\u001b[0m\u001b[1;33m:\u001b[0m\u001b[1;33m\u001b[0m\u001b[1;33m\u001b[0m\u001b[0m\n",
      "\u001b[1;31mOSError\u001b[0m: CURRENT"
     ]
    }
   ],
   "source": [
    "import ee\n",
    "import geemap\n",
    "from datetime import datetime\n",
    "\n",
    "# Initialize Earth Engine\n",
    "ee.Initialize()\n",
    "\n",
    "\n",
    "# Define the bound area\n",
    "sppp = ee.FeatureCollection('users/raulperezastorga/Limites_SPPP')\n",
    "\n",
    "# Get the current date\n",
    "t2 = datetime.now().strftime('%Y-%m-%d')\n",
    "\n",
    "# Calculate the dates\n",
    "ti = '2023-08-01'\n",
    "t1 = ee.Date(t2).advance(-4, 'week')\n",
    "t0 = ee.Date(t2).advance(-1, 'day')\n",
    "\n",
    "# Load the FIRMS dataset\n",
    "dataset = ee.ImageCollection('FIRMS')\n",
    "\n",
    "# Filter the FIRMS dataset for the past 1 week\n",
    "fires1W = dataset.select('T21') \\\n",
    "                  .filterDate(ti, t2) \\\n",
    "                  .filterBounds(sppp)\n",
    "\n",
    "# Filter the FIRMS dataset for the past 6 hours\n",
    "fires6H = dataset.select('T21') \\\n",
    "                  .filterDate(t0, t2) \\\n",
    "                  .filterBounds(sppp)\n",
    "\n",
    "# Visualization parameters\n",
    "firesVis = {\n",
    "    'min': 70,\n",
    "    'max': 250,\n",
    "    'palette': ['#ff0000', '#ff5a00', '#ff9a00', '#ffce00', '#ffe808', '#ffffff', '#a41fd6']\n",
    "}\n",
    "\n",
    "fireVisReclass = {\n",
    "    'min': 1,\n",
    "    'max': 3,\n",
    "    'palette': ['#ff0000', '#ff9a00', '#ffe808', '#a41fd6']\n",
    "}\n",
    "\n",
    "# Calculate the maximum temperature for the past 1 week and convert to °C\n",
    "firemx1W = fires1W.max().clip(sppp).subtract(273.15)\n",
    "\n",
    "\n",
    "# Reclassify the maximum temperature for the past 1 week\n",
    "firemx1Wr = firemx1W.gte(80).add(firemx1W.gte(100)).add(firemx1W.gte(150))\n",
    "\n",
    "\n",
    "# Create a map centered on the bound area\n",
    "Map = geemap.Map(center=(sppp.geometry().centroid().getInfo()['coordinates'][::-1]))\n",
    "\n",
    "# Add the reclassified fires layer to the map\n",
    "Map.addLayer(firemx1Wr, fireVisReclass, 'Fires')\n",
    "\n",
    "# Display the map\n",
    "Map"
   ]
  }
 ],
 "metadata": {
  "kernelspec": {
   "display_name": "Python 3",
   "language": "python",
   "name": "python3"
  },
  "language_info": {
   "codemirror_mode": {
    "name": "ipython",
    "version": 3
   },
   "file_extension": ".py",
   "mimetype": "text/x-python",
   "name": "python",
   "nbconvert_exporter": "python",
   "pygments_lexer": "ipython3",
   "version": "3.7.16"
  }
 },
 "nbformat": 4,
 "nbformat_minor": 2
}
