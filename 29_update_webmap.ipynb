{
 "cells": [
  {
   "cell_type": "code",
   "execution_count": 18,
   "metadata": {},
   "outputs": [
    {
     "name": "stdout",
     "output_type": "stream",
     "text": [
      "Web map updated successfully with the new title and the additional feature service!\n"
     ]
    }
   ],
   "source": [
    "from arcgis.gis import GIS\n",
    "\n",
    "# Connect to ArcGIS Online or ArcGIS Enterprise\n",
    "gis = GIS(\"PRO\")\n",
    "\n",
    "# Web map item ID\n",
    "webmap_id = 'c4f71a9bb98043a88023157176641a5e'\n",
    "\n",
    "# Get the web map item\n",
    "webmap_item = gis.content.get(webmap_id)\n",
    "\n",
    "# Define the properties for the updated web map\n",
    "update_properties = {\n",
    "    \"title\": \"New Title for Web Map\"\n",
    "}\n",
    "\n",
    "# Update the web map item with the new title\n",
    "webmap_item.update(item_properties=update_properties)\n",
    "\n",
    "# Feature service item ID to add to the web map\n",
    "feature_service_id = 'd5b63197aea34575970a6b2b05cf1ab6'\n",
    "\n",
    "# Get the feature service item\n",
    "feature_service_item = gis.content.get(feature_service_id)\n",
    "\n",
    "# Retrieve the data for the web map\n",
    "webmap_data = webmap_item.get_data()\n",
    "\n",
    "# Check if 'operationalLayers' exists in the web map data\n",
    "if 'operationalLayers' not in webmap_data:\n",
    "    webmap_data['operationalLayers'] = []\n",
    "\n",
    "# Append the feature service item as a layer to the web map\n",
    "webmap_data['operationalLayers'].append({\n",
    "    \"itemId\": feature_service_id,\n",
    "    \"title\": feature_service_item.title  # Optionally, set a title for the added layer\n",
    "})\n",
    "\n",
    "# Update the web map item with the modified data\n",
    "webmap_item.update(data=webmap_data)\n",
    "\n",
    "print(\"Web map updated successfully with the new title and the additional feature service!\")\n",
    "\n"
   ]
  }
 ],
 "metadata": {
  "kernelspec": {
   "display_name": "Python 3",
   "language": "python",
   "name": "python3"
  },
  "language_info": {
   "codemirror_mode": {
    "name": "ipython",
    "version": 3
   },
   "file_extension": ".py",
   "mimetype": "text/x-python",
   "name": "python",
   "nbconvert_exporter": "python",
   "pygments_lexer": "ipython3",
   "version": "3.7.11"
  }
 },
 "nbformat": 4,
 "nbformat_minor": 2
}
