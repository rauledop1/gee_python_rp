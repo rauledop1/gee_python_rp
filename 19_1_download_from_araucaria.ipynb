{
 "cells": [
  {
   "cell_type": "code",
   "execution_count": 2,
   "metadata": {},
   "outputs": [],
   "source": [
    "####using environment of arcgis pro 3.6.8 most recent run gee\n",
    "import arcpy\n",
    "import time\n",
    "import os\n",
    "import zipfile"
   ]
  },
  {
   "cell_type": "code",
   "execution_count": 3,
   "metadata": {},
   "outputs": [],
   "source": [
    "ahora=time.strftime('%Y%m%d', time.localtime(time.time()))"
   ]
  },
  {
   "cell_type": "code",
   "execution_count": 4,
   "metadata": {},
   "outputs": [
    {
     "data": {
      "text/plain": [
       "'20230608'"
      ]
     },
     "execution_count": 4,
     "metadata": {},
     "output_type": "execute_result"
    }
   ],
   "source": [
    "ahora"
   ]
  },
  {
   "cell_type": "code",
   "execution_count": 5,
   "metadata": {},
   "outputs": [],
   "source": [
    "root='D:/Raul Perez/Uso/CDC'\n",
    "os.chdir(root)\n",
    "uso = f\"uso_{ahora}.shp\"\n",
    "grilla = f\"geocerca_{ahora}.shp\"\n",
    "path_uso = os.path.join(root,uso)\n",
    "path_grilla = os.path.join(root,grilla)\n",
    "\n",
    "\n",
    "if os.path.exists(path_uso):\n",
    "    arcpy.management.Delete(f\"{path_uso};{path_grilla}\", '')\n",
    "    arcpy.conversion.FeatureClassToFeatureClass(\"https://araucaria.arauco.com/server/rest/services/Hosted/COMPRA_DE_BOSQUE_gdb/FeatureServer/0\", root, uso, '', 'index \"index\" true true false 0 Double 0 0,First,#,https://araucaria.arauco.com/server/rest/services/Hosted/COMPRA_DE_BOSQUE_gdb/FeatureServer/0,index,-1,-1;especie \"ESPECIE\" true true false 80 Text 0 0,First,#,https://araucaria.arauco.com/server/rest/services/Hosted/COMPRA_DE_BOSQUE_gdb/FeatureServer/0,especie,0,80;rol \"ROL\" true true false 80 Text 0 0,First,#,https://araucaria.arauco.com/server/rest/services/Hosted/COMPRA_DE_BOSQUE_gdb/FeatureServer/0,rol,0,80;rodal \"RODAL\" true true false 80 Text 0 0,First,#,https://araucaria.arauco.com/server/rest/services/Hosted/COMPRA_DE_BOSQUE_gdb/FeatureServer/0,rodal,0,80;comuna \"COMUNA\" true true false 80 Text 0 0,First,#,https://araucaria.arauco.com/server/rest/services/Hosted/COMPRA_DE_BOSQUE_gdb/FeatureServer/0,comuna,0,80;nom_predio \"NOM_PREDIO\" true true false 80 Text 0 0,First,#,https://araucaria.arauco.com/server/rest/services/Hosted/COMPRA_DE_BOSQUE_gdb/FeatureServer/0,nom_predio,0,80;rut_prov \"RUT_PROV\" true true false 80 Text 0 0,First,#,https://araucaria.arauco.com/server/rest/services/Hosted/COMPRA_DE_BOSQUE_gdb/FeatureServer/0,rut_prov,0,80;nom_prov \"NOM_PROV\" true true false 80 Text 0 0,First,#,https://araucaria.arauco.com/server/rest/services/Hosted/COMPRA_DE_BOSQUE_gdb/FeatureServer/0,nom_prov,0,80;num_contr \"NUM_CONTR\" true true false 80 Text 0 0,First,#,https://araucaria.arauco.com/server/rest/services/Hosted/COMPRA_DE_BOSQUE_gdb/FeatureServer/0,num_contr,0,80;est_contr \"EST_CONTR\" true true false 80 Text 0 0,First,#,https://araucaria.arauco.com/server/rest/services/Hosted/COMPRA_DE_BOSQUE_gdb/FeatureServer/0,est_contr,0,80;zona \"ZONA\" true true false 80 Text 0 0,First,#,https://araucaria.arauco.com/server/rest/services/Hosted/COMPRA_DE_BOSQUE_gdb/FeatureServer/0,zona,0,80;enc_compra \"ENC_COMPRA\" true true false 80 Text 0 0,First,#,https://araucaria.arauco.com/server/rest/services/Hosted/COMPRA_DE_BOSQUE_gdb/FeatureServer/0,enc_compra,0,80;estado \"ESTADO\" true true false 80 Text 0 0,First,#,https://araucaria.arauco.com/server/rest/services/Hosted/COMPRA_DE_BOSQUE_gdb/FeatureServer/0,estado,0,80;id_unico \"ID_UNICO\" true true false 80 Text 0 0,First,#,https://araucaria.arauco.com/server/rest/services/Hosted/COMPRA_DE_BOSQUE_gdb/FeatureServer/0,id_unico,0,80;tile \"TILE\" true true false 80 Text 0 0,First,#,https://araucaria.arauco.com/server/rest/services/Hosted/COMPRA_DE_BOSQUE_gdb/FeatureServer/0,tile,0,80;cosecha \"COSECHA\" true true false 80 Text 0 0,First,#,https://araucaria.arauco.com/server/rest/services/Hosted/COMPRA_DE_BOSQUE_gdb/FeatureServer/0,cosecha,0,80;fecha_imag \"fecha_imag\" true true false 80 Text 0 0,First,#,https://araucaria.arauco.com/server/rest/services/Hosted/COMPRA_DE_BOSQUE_gdb/FeatureServer/0,fecha_imag,0,80;por_nube \"Por_nube\" true true false 0 Double 0 0,First,#,https://araucaria.arauco.com/server/rest/services/Hosted/COMPRA_DE_BOSQUE_gdb/FeatureServer/0,por_nube,-1,-1;sup_ha \"SUP_HAS\" true true false 0 Double 0 0,First,#,https://araucaria.arauco.com/server/rest/services/Hosted/COMPRA_DE_BOSQUE_gdb/FeatureServer/0,sup_ha,-1,-1;sup_cos \"SUP_COS\" true true false 0 Double 0 0,First,#,https://araucaria.arauco.com/server/rest/services/Hosted/COMPRA_DE_BOSQUE_gdb/FeatureServer/0,sup_cos,-1,-1;apl \"APL\" true true false 4 Text 0 0,First,#,https://araucaria.arauco.com/server/rest/services/Hosted/COMPRA_DE_BOSQUE_gdb/FeatureServer/0,apl,0,4;globalid \"GlobalID\" false false false 38 GlobalID 0 0,First,#,https://araucaria.arauco.com/server/rest/services/Hosted/COMPRA_DE_BOSQUE_gdb/FeatureServer/0,globalid,-1,-1;rodpoly \"RODPOLY\" true true false 5 Text 0 0,First,#,https://araucaria.arauco.com/server/rest/services/Hosted/COMPRA_DE_BOSQUE_gdb/FeatureServer/0,rodpoly,0,5', '')\n",
    "    arcpy.conversion.FeatureClassToFeatureClass(\"https://araucaria.arauco.com/server/rest/services/Hosted/GEOCERCA_CDC/FeatureServer/0\", root, grilla, '', 'id_unico \"id_unico\" true true false 80 Text 0 0,First,#,https://araucaria.arauco.com/server/rest/services/Hosted/GEOCERCA_CDC/FeatureServer/0,id_unico,0,80', '')\n",
    "else:\n",
    "    arcpy.conversion.FeatureClassToFeatureClass(\"https://araucaria.arauco.com/server/rest/services/Hosted/COMPRA_DE_BOSQUE_gdb/FeatureServer/0\", root, uso, '', 'index \"index\" true true false 0 Double 0 0,First,#,https://araucaria.arauco.com/server/rest/services/Hosted/COMPRA_DE_BOSQUE_gdb/FeatureServer/0,index,-1,-1;especie \"ESPECIE\" true true false 80 Text 0 0,First,#,https://araucaria.arauco.com/server/rest/services/Hosted/COMPRA_DE_BOSQUE_gdb/FeatureServer/0,especie,0,80;rol \"ROL\" true true false 80 Text 0 0,First,#,https://araucaria.arauco.com/server/rest/services/Hosted/COMPRA_DE_BOSQUE_gdb/FeatureServer/0,rol,0,80;rodal \"RODAL\" true true false 80 Text 0 0,First,#,https://araucaria.arauco.com/server/rest/services/Hosted/COMPRA_DE_BOSQUE_gdb/FeatureServer/0,rodal,0,80;comuna \"COMUNA\" true true false 80 Text 0 0,First,#,https://araucaria.arauco.com/server/rest/services/Hosted/COMPRA_DE_BOSQUE_gdb/FeatureServer/0,comuna,0,80;nom_predio \"NOM_PREDIO\" true true false 80 Text 0 0,First,#,https://araucaria.arauco.com/server/rest/services/Hosted/COMPRA_DE_BOSQUE_gdb/FeatureServer/0,nom_predio,0,80;rut_prov \"RUT_PROV\" true true false 80 Text 0 0,First,#,https://araucaria.arauco.com/server/rest/services/Hosted/COMPRA_DE_BOSQUE_gdb/FeatureServer/0,rut_prov,0,80;nom_prov \"NOM_PROV\" true true false 80 Text 0 0,First,#,https://araucaria.arauco.com/server/rest/services/Hosted/COMPRA_DE_BOSQUE_gdb/FeatureServer/0,nom_prov,0,80;num_contr \"NUM_CONTR\" true true false 80 Text 0 0,First,#,https://araucaria.arauco.com/server/rest/services/Hosted/COMPRA_DE_BOSQUE_gdb/FeatureServer/0,num_contr,0,80;est_contr \"EST_CONTR\" true true false 80 Text 0 0,First,#,https://araucaria.arauco.com/server/rest/services/Hosted/COMPRA_DE_BOSQUE_gdb/FeatureServer/0,est_contr,0,80;zona \"ZONA\" true true false 80 Text 0 0,First,#,https://araucaria.arauco.com/server/rest/services/Hosted/COMPRA_DE_BOSQUE_gdb/FeatureServer/0,zona,0,80;enc_compra \"ENC_COMPRA\" true true false 80 Text 0 0,First,#,https://araucaria.arauco.com/server/rest/services/Hosted/COMPRA_DE_BOSQUE_gdb/FeatureServer/0,enc_compra,0,80;estado \"ESTADO\" true true false 80 Text 0 0,First,#,https://araucaria.arauco.com/server/rest/services/Hosted/COMPRA_DE_BOSQUE_gdb/FeatureServer/0,estado,0,80;id_unico \"ID_UNICO\" true true false 80 Text 0 0,First,#,https://araucaria.arauco.com/server/rest/services/Hosted/COMPRA_DE_BOSQUE_gdb/FeatureServer/0,id_unico,0,80;tile \"TILE\" true true false 80 Text 0 0,First,#,https://araucaria.arauco.com/server/rest/services/Hosted/COMPRA_DE_BOSQUE_gdb/FeatureServer/0,tile,0,80;cosecha \"COSECHA\" true true false 80 Text 0 0,First,#,https://araucaria.arauco.com/server/rest/services/Hosted/COMPRA_DE_BOSQUE_gdb/FeatureServer/0,cosecha,0,80;fecha_imag \"fecha_imag\" true true false 80 Text 0 0,First,#,https://araucaria.arauco.com/server/rest/services/Hosted/COMPRA_DE_BOSQUE_gdb/FeatureServer/0,fecha_imag,0,80;por_nube \"Por_nube\" true true false 0 Double 0 0,First,#,https://araucaria.arauco.com/server/rest/services/Hosted/COMPRA_DE_BOSQUE_gdb/FeatureServer/0,por_nube,-1,-1;sup_ha \"SUP_HAS\" true true false 0 Double 0 0,First,#,https://araucaria.arauco.com/server/rest/services/Hosted/COMPRA_DE_BOSQUE_gdb/FeatureServer/0,sup_ha,-1,-1;sup_cos \"SUP_COS\" true true false 0 Double 0 0,First,#,https://araucaria.arauco.com/server/rest/services/Hosted/COMPRA_DE_BOSQUE_gdb/FeatureServer/0,sup_cos,-1,-1;apl \"APL\" true true false 4 Text 0 0,First,#,https://araucaria.arauco.com/server/rest/services/Hosted/COMPRA_DE_BOSQUE_gdb/FeatureServer/0,apl,0,4;globalid \"GlobalID\" false false false 38 GlobalID 0 0,First,#,https://araucaria.arauco.com/server/rest/services/Hosted/COMPRA_DE_BOSQUE_gdb/FeatureServer/0,globalid,-1,-1;rodpoly \"RODPOLY\" true true false 5 Text 0 0,First,#,https://araucaria.arauco.com/server/rest/services/Hosted/COMPRA_DE_BOSQUE_gdb/FeatureServer/0,rodpoly,0,5', '')\n",
    "    arcpy.conversion.FeatureClassToFeatureClass(\"https://araucaria.arauco.com/server/rest/services/Hosted/GEOCERCA_CDC/FeatureServer/0\", root, grilla, '', 'id_unico \"id_unico\" true true false 80 Text 0 0,First,#,https://araucaria.arauco.com/server/rest/services/Hosted/GEOCERCA_CDC/FeatureServer/0,id_unico,0,80', '')\n"
   ]
  },
  {
   "cell_type": "code",
   "execution_count": 7,
   "metadata": {},
   "outputs": [
    {
     "ename": "Exception",
     "evalue": "Collection query aborted after accumulating over 5000 elements.",
     "output_type": "error",
     "traceback": [
      "\u001b[1;31m---------------------------------------------------------------------------\u001b[0m",
      "\u001b[1;31mHttpError\u001b[0m                                 Traceback (most recent call last)",
      "\u001b[1;32mc:\\Users\\raul.perez.astorga\\AppData\\Local\\Programs\\Python\\Python37\\lib\\site-packages\\ee\\data.py\u001b[0m in \u001b[0;36m_execute_cloud_call\u001b[1;34m(call, num_retries)\u001b[0m\n\u001b[0;32m    327\u001b[0m   \u001b[1;32mtry\u001b[0m\u001b[1;33m:\u001b[0m\u001b[1;33m\u001b[0m\u001b[1;33m\u001b[0m\u001b[0m\n\u001b[1;32m--> 328\u001b[1;33m     \u001b[1;32mreturn\u001b[0m \u001b[0mcall\u001b[0m\u001b[1;33m.\u001b[0m\u001b[0mexecute\u001b[0m\u001b[1;33m(\u001b[0m\u001b[0mnum_retries\u001b[0m\u001b[1;33m=\u001b[0m\u001b[0mnum_retries\u001b[0m\u001b[1;33m)\u001b[0m\u001b[1;33m\u001b[0m\u001b[1;33m\u001b[0m\u001b[0m\n\u001b[0m\u001b[0;32m    329\u001b[0m   \u001b[1;32mexcept\u001b[0m \u001b[0mgoogleapiclient\u001b[0m\u001b[1;33m.\u001b[0m\u001b[0merrors\u001b[0m\u001b[1;33m.\u001b[0m\u001b[0mHttpError\u001b[0m \u001b[1;32mas\u001b[0m \u001b[0me\u001b[0m\u001b[1;33m:\u001b[0m\u001b[1;33m\u001b[0m\u001b[1;33m\u001b[0m\u001b[0m\n",
      "\u001b[1;32mc:\\Users\\raul.perez.astorga\\AppData\\Local\\Programs\\Python\\Python37\\lib\\site-packages\\googleapiclient\\_helpers.py\u001b[0m in \u001b[0;36mpositional_wrapper\u001b[1;34m(*args, **kwargs)\u001b[0m\n\u001b[0;32m    133\u001b[0m                     \u001b[0mlogger\u001b[0m\u001b[1;33m.\u001b[0m\u001b[0mwarning\u001b[0m\u001b[1;33m(\u001b[0m\u001b[0mmessage\u001b[0m\u001b[1;33m)\u001b[0m\u001b[1;33m\u001b[0m\u001b[1;33m\u001b[0m\u001b[0m\n\u001b[1;32m--> 134\u001b[1;33m             \u001b[1;32mreturn\u001b[0m \u001b[0mwrapped\u001b[0m\u001b[1;33m(\u001b[0m\u001b[1;33m*\u001b[0m\u001b[0margs\u001b[0m\u001b[1;33m,\u001b[0m \u001b[1;33m**\u001b[0m\u001b[0mkwargs\u001b[0m\u001b[1;33m)\u001b[0m\u001b[1;33m\u001b[0m\u001b[1;33m\u001b[0m\u001b[0m\n\u001b[0m\u001b[0;32m    135\u001b[0m \u001b[1;33m\u001b[0m\u001b[0m\n",
      "\u001b[1;32mc:\\Users\\raul.perez.astorga\\AppData\\Local\\Programs\\Python\\Python37\\lib\\site-packages\\googleapiclient\\http.py\u001b[0m in \u001b[0;36mexecute\u001b[1;34m(self, http, num_retries)\u001b[0m\n\u001b[0;32m    914\u001b[0m         \u001b[1;32mif\u001b[0m \u001b[0mresp\u001b[0m\u001b[1;33m.\u001b[0m\u001b[0mstatus\u001b[0m \u001b[1;33m>=\u001b[0m \u001b[1;36m300\u001b[0m\u001b[1;33m:\u001b[0m\u001b[1;33m\u001b[0m\u001b[1;33m\u001b[0m\u001b[0m\n\u001b[1;32m--> 915\u001b[1;33m             \u001b[1;32mraise\u001b[0m \u001b[0mHttpError\u001b[0m\u001b[1;33m(\u001b[0m\u001b[0mresp\u001b[0m\u001b[1;33m,\u001b[0m \u001b[0mcontent\u001b[0m\u001b[1;33m,\u001b[0m \u001b[0muri\u001b[0m\u001b[1;33m=\u001b[0m\u001b[0mself\u001b[0m\u001b[1;33m.\u001b[0m\u001b[0muri\u001b[0m\u001b[1;33m)\u001b[0m\u001b[1;33m\u001b[0m\u001b[1;33m\u001b[0m\u001b[0m\n\u001b[0m\u001b[0;32m    916\u001b[0m         \u001b[1;32mreturn\u001b[0m \u001b[0mself\u001b[0m\u001b[1;33m.\u001b[0m\u001b[0mpostproc\u001b[0m\u001b[1;33m(\u001b[0m\u001b[0mresp\u001b[0m\u001b[1;33m,\u001b[0m \u001b[0mcontent\u001b[0m\u001b[1;33m)\u001b[0m\u001b[1;33m\u001b[0m\u001b[1;33m\u001b[0m\u001b[0m\n",
      "\u001b[1;31mHttpError\u001b[0m: <HttpError 400 when requesting https://earthengine.googleapis.com/v1alpha/projects/earthengine-legacy/value:compute?prettyPrint=false&alt=json returned \"Collection query aborted after accumulating over 5000 elements.\". Details: \"Collection query aborted after accumulating over 5000 elements.\">",
      "\nDuring handling of the above exception, another exception occurred:\n",
      "\u001b[1;31mEEException\u001b[0m                               Traceback (most recent call last)",
      "\u001b[1;32mc:\\Users\\raul.perez.astorga\\AppData\\Local\\Programs\\Python\\Python37\\lib\\site-packages\\geemap\\common.py\u001b[0m in \u001b[0;36mee_to_geojson\u001b[1;34m(ee_object, filename, indent, **kwargs)\u001b[0m\n\u001b[0;32m   1329\u001b[0m         ):\n\u001b[1;32m-> 1330\u001b[1;33m             \u001b[0mjson_object\u001b[0m \u001b[1;33m=\u001b[0m \u001b[0mee_object\u001b[0m\u001b[1;33m.\u001b[0m\u001b[0mgetInfo\u001b[0m\u001b[1;33m(\u001b[0m\u001b[1;33m)\u001b[0m\u001b[1;33m\u001b[0m\u001b[1;33m\u001b[0m\u001b[0m\n\u001b[0m\u001b[0;32m   1331\u001b[0m             \u001b[1;32mif\u001b[0m \u001b[0mfilename\u001b[0m \u001b[1;32mis\u001b[0m \u001b[1;32mnot\u001b[0m \u001b[1;32mNone\u001b[0m\u001b[1;33m:\u001b[0m\u001b[1;33m\u001b[0m\u001b[1;33m\u001b[0m\u001b[0m\n",
      "\u001b[1;32mc:\\Users\\raul.perez.astorga\\AppData\\Local\\Programs\\Python\\Python37\\lib\\site-packages\\ee\\collection.py\u001b[0m in \u001b[0;36mgetInfo\u001b[1;34m(self)\u001b[0m\n\u001b[0;32m    132\u001b[0m     \"\"\"\n\u001b[1;32m--> 133\u001b[1;33m     \u001b[1;32mreturn\u001b[0m \u001b[0msuper\u001b[0m\u001b[1;33m(\u001b[0m\u001b[0mCollection\u001b[0m\u001b[1;33m,\u001b[0m \u001b[0mself\u001b[0m\u001b[1;33m)\u001b[0m\u001b[1;33m.\u001b[0m\u001b[0mgetInfo\u001b[0m\u001b[1;33m(\u001b[0m\u001b[1;33m)\u001b[0m\u001b[1;33m\u001b[0m\u001b[1;33m\u001b[0m\u001b[0m\n\u001b[0m\u001b[0;32m    134\u001b[0m \u001b[1;33m\u001b[0m\u001b[0m\n",
      "\u001b[1;32mc:\\Users\\raul.perez.astorga\\AppData\\Local\\Programs\\Python\\Python37\\lib\\site-packages\\ee\\computedobject.py\u001b[0m in \u001b[0;36mgetInfo\u001b[1;34m(self)\u001b[0m\n\u001b[0;32m     97\u001b[0m     \"\"\"\n\u001b[1;32m---> 98\u001b[1;33m     \u001b[1;32mreturn\u001b[0m \u001b[0mdata\u001b[0m\u001b[1;33m.\u001b[0m\u001b[0mcomputeValue\u001b[0m\u001b[1;33m(\u001b[0m\u001b[0mself\u001b[0m\u001b[1;33m)\u001b[0m\u001b[1;33m\u001b[0m\u001b[1;33m\u001b[0m\u001b[0m\n\u001b[0m\u001b[0;32m     99\u001b[0m \u001b[1;33m\u001b[0m\u001b[0m\n",
      "\u001b[1;32mc:\\Users\\raul.perez.astorga\\AppData\\Local\\Programs\\Python\\Python37\\lib\\site-packages\\ee\\data.py\u001b[0m in \u001b[0;36mcomputeValue\u001b[1;34m(obj)\u001b[0m\n\u001b[0;32m    760\u001b[0m           \u001b[0mproject\u001b[0m\u001b[1;33m=\u001b[0m\u001b[0m_get_projects_path\u001b[0m\u001b[1;33m(\u001b[0m\u001b[1;33m)\u001b[0m\u001b[1;33m,\u001b[0m\u001b[1;33m\u001b[0m\u001b[1;33m\u001b[0m\u001b[0m\n\u001b[1;32m--> 761\u001b[1;33m           prettyPrint=False))['result']\n\u001b[0m\u001b[0;32m    762\u001b[0m \u001b[1;33m\u001b[0m\u001b[0m\n",
      "\u001b[1;32mc:\\Users\\raul.perez.astorga\\AppData\\Local\\Programs\\Python\\Python37\\lib\\site-packages\\ee\\data.py\u001b[0m in \u001b[0;36m_execute_cloud_call\u001b[1;34m(call, num_retries)\u001b[0m\n\u001b[0;32m    329\u001b[0m   \u001b[1;32mexcept\u001b[0m \u001b[0mgoogleapiclient\u001b[0m\u001b[1;33m.\u001b[0m\u001b[0merrors\u001b[0m\u001b[1;33m.\u001b[0m\u001b[0mHttpError\u001b[0m \u001b[1;32mas\u001b[0m \u001b[0me\u001b[0m\u001b[1;33m:\u001b[0m\u001b[1;33m\u001b[0m\u001b[1;33m\u001b[0m\u001b[0m\n\u001b[1;32m--> 330\u001b[1;33m     \u001b[1;32mraise\u001b[0m \u001b[0m_translate_cloud_exception\u001b[0m\u001b[1;33m(\u001b[0m\u001b[0me\u001b[0m\u001b[1;33m)\u001b[0m\u001b[1;33m\u001b[0m\u001b[1;33m\u001b[0m\u001b[0m\n\u001b[0m\u001b[0;32m    331\u001b[0m \u001b[1;33m\u001b[0m\u001b[0m\n",
      "\u001b[1;31mEEException\u001b[0m: Collection query aborted after accumulating over 5000 elements.",
      "\nDuring handling of the above exception, another exception occurred:\n",
      "\u001b[1;31mException\u001b[0m                                 Traceback (most recent call last)",
      "\u001b[1;32m~\\AppData\\Local\\Temp\\37\\ipykernel_12260\\3758114390.py\u001b[0m in \u001b[0;36m<module>\u001b[1;34m\u001b[0m\n\u001b[0;32m     19\u001b[0m \u001b[1;31m# Read the updated FeatureCollection from a local file\u001b[0m\u001b[1;33m\u001b[0m\u001b[1;33m\u001b[0m\u001b[1;33m\u001b[0m\u001b[0m\n\u001b[0;32m     20\u001b[0m \u001b[0mupdated_data_path\u001b[0m \u001b[1;33m=\u001b[0m \u001b[0mpath_grilla\u001b[0m\u001b[1;33m\u001b[0m\u001b[1;33m\u001b[0m\u001b[0m\n\u001b[1;32m---> 21\u001b[1;33m \u001b[0mupdated_data\u001b[0m \u001b[1;33m=\u001b[0m \u001b[0mgeemap\u001b[0m\u001b[1;33m.\u001b[0m\u001b[0mee_to_geopandas\u001b[0m\u001b[1;33m(\u001b[0m\u001b[0mee_object\u001b[0m\u001b[1;33m=\u001b[0m\u001b[0mfeature_collection\u001b[0m\u001b[1;33m,\u001b[0m \u001b[0mselectors\u001b[0m\u001b[1;33m=\u001b[0m\u001b[1;33m[\u001b[0m\u001b[1;33m]\u001b[0m\u001b[1;33m)\u001b[0m\u001b[1;33m\u001b[0m\u001b[1;33m\u001b[0m\u001b[0m\n\u001b[0m\u001b[0;32m     22\u001b[0m \u001b[1;33m\u001b[0m\u001b[0m\n\u001b[0;32m     23\u001b[0m \u001b[1;31m# Update the existing FeatureCollection with the updated data\u001b[0m\u001b[1;33m\u001b[0m\u001b[1;33m\u001b[0m\u001b[1;33m\u001b[0m\u001b[0m\n",
      "\u001b[1;32mc:\\Users\\raul.perez.astorga\\AppData\\Local\\Programs\\Python\\Python37\\lib\\site-packages\\geemap\\common.py\u001b[0m in \u001b[0;36mee_to_gdf\u001b[1;34m(ee_object, selectors, verbose)\u001b[0m\n\u001b[0;32m   8905\u001b[0m         \u001b[1;32mraise\u001b[0m \u001b[0mTypeError\u001b[0m\u001b[1;33m(\u001b[0m\u001b[1;34m\"ee_object must be an ee.FeatureCollection\"\u001b[0m\u001b[1;33m)\u001b[0m\u001b[1;33m\u001b[0m\u001b[1;33m\u001b[0m\u001b[0m\n\u001b[0;32m   8906\u001b[0m \u001b[1;33m\u001b[0m\u001b[0m\n\u001b[1;32m-> 8907\u001b[1;33m     \u001b[0mcollection\u001b[0m \u001b[1;33m=\u001b[0m \u001b[0mee_to_geojson\u001b[0m\u001b[1;33m(\u001b[0m\u001b[0mee_object\u001b[0m\u001b[1;33m)\u001b[0m\u001b[1;33m\u001b[0m\u001b[1;33m\u001b[0m\u001b[0m\n\u001b[0m\u001b[0;32m   8908\u001b[0m     \u001b[0mgdf\u001b[0m \u001b[1;33m=\u001b[0m \u001b[0mgpd\u001b[0m\u001b[1;33m.\u001b[0m\u001b[0mGeoDataFrame\u001b[0m\u001b[1;33m.\u001b[0m\u001b[0mfrom_features\u001b[0m\u001b[1;33m(\u001b[0m\u001b[0mcollection\u001b[0m\u001b[1;33m[\u001b[0m\u001b[1;34m\"features\"\u001b[0m\u001b[1;33m]\u001b[0m\u001b[1;33m)\u001b[0m\u001b[1;33m\u001b[0m\u001b[1;33m\u001b[0m\u001b[0m\n\u001b[0;32m   8909\u001b[0m \u001b[1;33m\u001b[0m\u001b[0m\n",
      "\u001b[1;32mc:\\Users\\raul.perez.astorga\\AppData\\Local\\Programs\\Python\\Python37\\lib\\site-packages\\geemap\\common.py\u001b[0m in \u001b[0;36mee_to_geojson\u001b[1;34m(ee_object, filename, indent, **kwargs)\u001b[0m\n\u001b[0;32m   1342\u001b[0m             \u001b[0mprint\u001b[0m\u001b[1;33m(\u001b[0m\u001b[1;34m\"Could not convert the Earth Engine object to geojson\"\u001b[0m\u001b[1;33m)\u001b[0m\u001b[1;33m\u001b[0m\u001b[1;33m\u001b[0m\u001b[0m\n\u001b[0;32m   1343\u001b[0m     \u001b[1;32mexcept\u001b[0m \u001b[0mException\u001b[0m \u001b[1;32mas\u001b[0m \u001b[0me\u001b[0m\u001b[1;33m:\u001b[0m\u001b[1;33m\u001b[0m\u001b[1;33m\u001b[0m\u001b[0m\n\u001b[1;32m-> 1344\u001b[1;33m         \u001b[1;32mraise\u001b[0m \u001b[0mException\u001b[0m\u001b[1;33m(\u001b[0m\u001b[0me\u001b[0m\u001b[1;33m)\u001b[0m\u001b[1;33m\u001b[0m\u001b[1;33m\u001b[0m\u001b[0m\n\u001b[0m\u001b[0;32m   1345\u001b[0m \u001b[1;33m\u001b[0m\u001b[0m\n\u001b[0;32m   1346\u001b[0m \u001b[1;33m\u001b[0m\u001b[0m\n",
      "\u001b[1;31mException\u001b[0m: Collection query aborted after accumulating over 5000 elements."
     ]
    }
   ],
   "source": [
    "import geemap\n",
    "from geemap import ee_initialize\n",
    "import ee\n",
    "import os\n",
    "import time\n",
    "# Authenticate and initialize Earth Engine\n",
    "#ee_initialize()\n",
    "ahora=time.strftime('%Y%m%d', time.localtime(time.time()))\n",
    "root='D:/Raul Perez/Uso/CDC'\n",
    "os.chdir(root)\n",
    "uso = f\"uso_{ahora}.shp\"\n",
    "grilla = f\"geocerca_{ahora}.shp\"\n",
    "path_uso = os.path.join(root,uso)\n",
    "path_grilla = os.path.join(root,grilla)\n",
    "# Load the existing FeatureCollection from the Asset\n",
    "feature_collection_id = 'users/raulperezastorga/uso_cdc_20230502'\n",
    "feature_collection = ee.FeatureCollection(feature_collection_id)\n",
    "\n",
    "# Read the updated FeatureCollection from a local file\n",
    "updated_data_path = path_grilla\n",
    "updated_data = geemap.ee_to_geopandas(ee_object=feature_collection, selectors=[])\n",
    "\n",
    "# Update the existing FeatureCollection with the updated data\n",
    "updated_feature_collection = geemap.geopandas_to_ee(updated_data)\n",
    "\n",
    "# Save the updated FeatureCollection to the Asset\n",
    "geemap.ee_to_ee_asset(\n",
    "    ee_object=updated_feature_collection,\n",
    "    asset_id=feature_collection_id,\n",
    "    properties={},\n",
    "    overwrite=True\n",
    ")\n"
   ]
  },
  {
   "cell_type": "code",
   "execution_count": 6,
   "metadata": {},
   "outputs": [
    {
     "name": "stdout",
     "output_type": "stream",
     "text": [
      "uso_cdc_20230608.zip created successfully\n"
     ]
    }
   ],
   "source": [
    "\n",
    "# Define the name of the zip file to create\n",
    "zip_filename = f'uso_cdc_{ahora}.zip'\n",
    "\n",
    "# Define the list of files to include in the zip file\n",
    "files_to_zip = [f\"uso_{ahora}.shp\",f\"uso_{ahora}.dbf\",f\"uso_{ahora}.shx\",f\"uso_{ahora}.prj\"]\n",
    "\n",
    "# Open a new zip file for writing\n",
    "with zipfile.ZipFile(zip_filename, 'w') as myzip:\n",
    "    # Loop through the list of files to include\n",
    "    for filename in files_to_zip:\n",
    "        # Add each file to the zip file\n",
    "        if os.path.isfile(filename):\n",
    "            myzip.write(filename)\n",
    "        elif os.path.isdir(filename):\n",
    "            for root, dirs, files in os.walk(filename):\n",
    "                for file in files:\n",
    "                    myzip.write(os.path.join(root, file))\n",
    "\n",
    "# Print a message indicating that the zip file was created successfully\n",
    "print(f'{zip_filename} created successfully')\n"
   ]
  },
  {
   "cell_type": "code",
   "execution_count": 7,
   "metadata": {},
   "outputs": [
    {
     "name": "stdout",
     "output_type": "stream",
     "text": [
      "geocerca_20230608.zip created successfully\n"
     ]
    }
   ],
   "source": [
    "# Define the name of the zip file to create\n",
    "zip_filename = f'geocerca_{ahora}.zip'\n",
    "\n",
    "# Define the list of files to include in the zip file\n",
    "files_to_zip = [f\"geocerca_{ahora}.shp\",f\"geocerca_{ahora}.dbf\",f\"geocerca_{ahora}.shx\",f\"geocerca_{ahora}.prj\"]\n",
    "\n",
    "# Open a new zip file for writing\n",
    "with zipfile.ZipFile(zip_filename, 'w') as myzip:\n",
    "    # Loop through the list of files to include\n",
    "    for filename in files_to_zip:\n",
    "        # Add each file to the zip file\n",
    "        if os.path.isfile(filename):\n",
    "            myzip.write(filename)\n",
    "        elif os.path.isdir(filename):\n",
    "            for root, dirs, files in os.walk(filename):\n",
    "                for file in files:\n",
    "                    myzip.write(os.path.join(root, file))\n",
    "\n",
    "# Print a message indicating that the zip file was created successfully\n",
    "print(f'{zip_filename} created successfully')\n"
   ]
  }
 ],
 "metadata": {
  "kernelspec": {
   "display_name": "Python 3",
   "language": "python",
   "name": "python3"
  },
  "language_info": {
   "codemirror_mode": {
    "name": "ipython",
    "version": 3
   },
   "file_extension": ".py",
   "mimetype": "text/x-python",
   "name": "python",
   "nbconvert_exporter": "python",
   "pygments_lexer": "ipython3",
   "version": "3.7.9"
  },
  "orig_nbformat": 4
 },
 "nbformat": 4,
 "nbformat_minor": 2
}
