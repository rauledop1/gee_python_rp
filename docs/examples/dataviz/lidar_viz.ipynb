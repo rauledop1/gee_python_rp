{
  "cells": [
    {
      "cell_type": "markdown",
      "metadata": {
        "id": "dcHpVkECaL0g"
      },
      "source": [
        "[![image](https://studiolab.sagemaker.aws/studiolab.svg)](https://studiolab.sagemaker.aws/import/github/opengeos/geoai/blob/main/docs/examples/dataviz/lidar_viz.ipynb)\n",
        "[![image](https://img.shields.io/badge/Open-Planetary%20Computer-black?style=flat&logo=microsoft)](https://pccompute.westeurope.cloudapp.azure.com/compute/hub/user-redirect/git-pull?repo=https://github.com/opengeos/geoai&urlpath=lab/tree/geoai/docs/examples/dataviz/lidar_viz.ipynb&branch=main)\n",
        "[![image](https://colab.research.google.com/assets/colab-badge.svg)](https://githubtocolab.com/opengeos/geoai/blob/main/docs/examples/dataviz/lidar_viz.ipynb)\n",
        "\n",
        "# Visualizing LiDAR Data with Leafmap\n",
        "\n",
        "This notebook demonstrates how to visualize LiDAR data using [leafmap](https://leafmap.org).\n",
        "\n",
        "## Installation\n",
        "\n",
        "Uncomment and run the following cell to install the required Python packages."
      ],
      "id": "dcHpVkECaL0g"
    },
    {
      "cell_type": "code",
      "execution_count": 1,
      "metadata": {
        "colab": {
          "base_uri": "https://localhost:8080/"
        },
        "id": "XHzOACTxaL0l",
        "outputId": "36143d2c-c783-49af-a781-0314b4a8c704"
      },
      "outputs": [
        {
          "output_type": "stream",
          "name": "stdout",
          "text": [
            "Collecting leafmap[lidar]\n",
            "  Downloading leafmap-0.35.10-py2.py3-none-any.whl (1.9 MB)\n",
            "\u001b[2K     \u001b[90m━━━━━━━━━━━━━━━━━━━━━━━━━━━━━━━━━━━━━━━━\u001b[0m \u001b[32m1.9/1.9 MB\u001b[0m \u001b[31m9.2 MB/s\u001b[0m eta \u001b[36m0:00:00\u001b[0m\n",
            "\u001b[?25hCollecting open3d\n",
            "  Downloading open3d-0.18.0-cp310-cp310-manylinux_2_27_x86_64.whl (399.7 MB)\n",
            "\u001b[2K     \u001b[90m━━━━━━━━━━━━━━━━━━━━━━━━━━━━━━━━━━━━━━━━\u001b[0m \u001b[32m399.7/399.7 MB\u001b[0m \u001b[31m3.1 MB/s\u001b[0m eta \u001b[36m0:00:00\u001b[0m\n",
            "\u001b[?25hRequirement already satisfied: bqplot in /usr/local/lib/python3.10/dist-packages (from leafmap[lidar]) (0.12.43)\n",
            "Requirement already satisfied: colour in /usr/local/lib/python3.10/dist-packages (from leafmap[lidar]) (0.1.5)\n",
            "Requirement already satisfied: duckdb in /usr/local/lib/python3.10/dist-packages (from leafmap[lidar]) (0.10.3)\n",
            "Requirement already satisfied: folium in /usr/local/lib/python3.10/dist-packages (from leafmap[lidar]) (0.14.0)\n",
            "Requirement already satisfied: gdown in /usr/local/lib/python3.10/dist-packages (from leafmap[lidar]) (5.1.0)\n",
            "Collecting geojson (from leafmap[lidar])\n",
            "  Downloading geojson-3.1.0-py3-none-any.whl (15 kB)\n",
            "Requirement already satisfied: ipyevents in /usr/local/lib/python3.10/dist-packages (from leafmap[lidar]) (2.0.2)\n",
            "Requirement already satisfied: ipyfilechooser in /usr/local/lib/python3.10/dist-packages (from leafmap[lidar]) (0.6.0)\n",
            "Requirement already satisfied: ipyleaflet in /usr/local/lib/python3.10/dist-packages (from leafmap[lidar]) (0.18.2)\n",
            "Collecting ipyvuetify (from leafmap[lidar])\n",
            "  Downloading ipyvuetify-1.9.4-py2.py3-none-any.whl (6.1 MB)\n",
            "\u001b[2K     \u001b[90m━━━━━━━━━━━━━━━━━━━━━━━━━━━━━━━━━━━━━━━━\u001b[0m \u001b[32m6.1/6.1 MB\u001b[0m \u001b[31m55.5 MB/s\u001b[0m eta \u001b[36m0:00:00\u001b[0m\n",
            "\u001b[?25hRequirement already satisfied: ipywidgets in /usr/local/lib/python3.10/dist-packages (from leafmap[lidar]) (7.7.1)\n",
            "Requirement already satisfied: matplotlib in /usr/local/lib/python3.10/dist-packages (from leafmap[lidar]) (3.7.1)\n",
            "Requirement already satisfied: numpy<3.0.0 in /usr/local/lib/python3.10/dist-packages (from leafmap[lidar]) (1.25.2)\n",
            "Requirement already satisfied: pandas in /usr/local/lib/python3.10/dist-packages (from leafmap[lidar]) (2.0.3)\n",
            "Requirement already satisfied: plotly in /usr/local/lib/python3.10/dist-packages (from leafmap[lidar]) (5.15.0)\n",
            "Requirement already satisfied: pyshp in /usr/local/lib/python3.10/dist-packages (from leafmap[lidar]) (2.3.1)\n",
            "Collecting pystac-client (from leafmap[lidar])\n",
            "  Downloading pystac_client-0.8.2-py3-none-any.whl (33 kB)\n",
            "Requirement already satisfied: python-box in /usr/local/lib/python3.10/dist-packages (from leafmap[lidar]) (7.2.0)\n",
            "Requirement already satisfied: scooby in /usr/local/lib/python3.10/dist-packages (from leafmap[lidar]) (0.10.0)\n",
            "Collecting whiteboxgui (from leafmap[lidar])\n",
            "  Downloading whiteboxgui-2.3.0-py2.py3-none-any.whl (108 kB)\n",
            "\u001b[2K     \u001b[90m━━━━━━━━━━━━━━━━━━━━━━━━━━━━━━━━━━━━━━━━\u001b[0m \u001b[32m108.6/108.6 kB\u001b[0m \u001b[31m7.3 MB/s\u001b[0m eta \u001b[36m0:00:00\u001b[0m\n",
            "\u001b[?25hRequirement already satisfied: xyzservices in /usr/local/lib/python3.10/dist-packages (from leafmap[lidar]) (2024.6.0)\n",
            "Collecting ipygany (from leafmap[lidar])\n",
            "  Downloading ipygany-0.5.0-py2.py3-none-any.whl (2.9 MB)\n",
            "\u001b[2K     \u001b[90m━━━━━━━━━━━━━━━━━━━━━━━━━━━━━━━━━━━━━━━━\u001b[0m \u001b[32m2.9/2.9 MB\u001b[0m \u001b[31m7.8 MB/s\u001b[0m eta \u001b[36m0:00:00\u001b[0m\n",
            "\u001b[?25hCollecting ipyvtklink (from leafmap[lidar])\n",
            "  Downloading ipyvtklink-0.2.3-py3-none-any.whl (9.4 kB)\n",
            "Collecting laspy (from leafmap[lidar])\n",
            "  Downloading laspy-2.5.4-py3-none-any.whl (84 kB)\n",
            "\u001b[2K     \u001b[90m━━━━━━━━━━━━━━━━━━━━━━━━━━━━━━━━━━━━━━━━\u001b[0m \u001b[32m84.3/84.3 kB\u001b[0m \u001b[31m8.3 MB/s\u001b[0m eta \u001b[36m0:00:00\u001b[0m\n",
            "\u001b[?25hRequirement already satisfied: panel in /usr/local/lib/python3.10/dist-packages (from leafmap[lidar]) (1.3.8)\n",
            "Collecting pyntcloud[las] (from leafmap[lidar])\n",
            "  Downloading pyntcloud-0.3.1-py2.py3-none-any.whl (346 kB)\n",
            "\u001b[2K     \u001b[90m━━━━━━━━━━━━━━━━━━━━━━━━━━━━━━━━━━━━━━━━\u001b[0m \u001b[32m346.3/346.3 kB\u001b[0m \u001b[31m35.4 MB/s\u001b[0m eta \u001b[36m0:00:00\u001b[0m\n",
            "\u001b[?25hCollecting pyvista (from leafmap[lidar])\n",
            "  Downloading pyvista-0.44.0-py3-none-any.whl (2.2 MB)\n",
            "\u001b[2K     \u001b[90m━━━━━━━━━━━━━━━━━━━━━━━━━━━━━━━━━━━━━━━━\u001b[0m \u001b[32m2.2/2.2 MB\u001b[0m \u001b[31m51.1 MB/s\u001b[0m eta \u001b[36m0:00:00\u001b[0m\n",
            "\u001b[?25hCollecting dash>=2.6.0 (from open3d)\n",
            "  Downloading dash-2.17.1-py3-none-any.whl (7.5 MB)\n",
            "\u001b[2K     \u001b[90m━━━━━━━━━━━━━━━━━━━━━━━━━━━━━━━━━━━━━━━━\u001b[0m \u001b[32m7.5/7.5 MB\u001b[0m \u001b[31m57.0 MB/s\u001b[0m eta \u001b[36m0:00:00\u001b[0m\n",
            "\u001b[?25hRequirement already satisfied: werkzeug>=2.2.3 in /usr/local/lib/python3.10/dist-packages (from open3d) (3.0.3)\n",
            "Requirement already satisfied: nbformat>=5.7.0 in /usr/local/lib/python3.10/dist-packages (from open3d) (5.10.4)\n",
            "Collecting configargparse (from open3d)\n",
            "  Downloading ConfigArgParse-1.7-py3-none-any.whl (25 kB)\n",
            "Collecting ipywidgets (from leafmap[lidar])\n",
            "  Downloading ipywidgets-8.1.3-py3-none-any.whl (139 kB)\n",
            "\u001b[2K     \u001b[90m━━━━━━━━━━━━━━━━━━━━━━━━━━━━━━━━━━━━━━━━\u001b[0m \u001b[32m139.4/139.4 kB\u001b[0m \u001b[31m10.0 MB/s\u001b[0m eta \u001b[36m0:00:00\u001b[0m\n",
            "\u001b[?25hCollecting addict (from open3d)\n",
            "  Downloading addict-2.4.0-py3-none-any.whl (3.8 kB)\n",
            "Requirement already satisfied: pillow>=9.3.0 in /usr/local/lib/python3.10/dist-packages (from open3d) (9.4.0)\n",
            "Requirement already satisfied: pyyaml>=5.4.1 in /usr/local/lib/python3.10/dist-packages (from open3d) (6.0.1)\n",
            "Requirement already satisfied: scikit-learn>=0.21 in /usr/local/lib/python3.10/dist-packages (from open3d) (1.2.2)\n",
            "Requirement already satisfied: tqdm in /usr/local/lib/python3.10/dist-packages (from open3d) (4.66.4)\n",
            "Collecting pyquaternion (from open3d)\n",
            "  Downloading pyquaternion-0.9.9-py3-none-any.whl (14 kB)\n",
            "Requirement already satisfied: Flask<3.1,>=1.0.4 in /usr/local/lib/python3.10/dist-packages (from dash>=2.6.0->open3d) (2.2.5)\n",
            "Collecting dash-html-components==2.0.0 (from dash>=2.6.0->open3d)\n",
            "  Downloading dash_html_components-2.0.0-py3-none-any.whl (4.1 kB)\n",
            "Collecting dash-core-components==2.0.0 (from dash>=2.6.0->open3d)\n",
            "  Downloading dash_core_components-2.0.0-py3-none-any.whl (3.8 kB)\n",
            "Collecting dash-table==5.0.0 (from dash>=2.6.0->open3d)\n",
            "  Downloading dash_table-5.0.0-py3-none-any.whl (3.9 kB)\n",
            "Requirement already satisfied: importlib-metadata in /usr/local/lib/python3.10/dist-packages (from dash>=2.6.0->open3d) (8.0.0)\n",
            "Requirement already satisfied: typing-extensions>=4.1.1 in /usr/local/lib/python3.10/dist-packages (from dash>=2.6.0->open3d) (4.12.2)\n",
            "Requirement already satisfied: requests in /usr/local/lib/python3.10/dist-packages (from dash>=2.6.0->open3d) (2.31.0)\n",
            "Collecting retrying (from dash>=2.6.0->open3d)\n",
            "  Downloading retrying-1.3.4-py3-none-any.whl (11 kB)\n",
            "Requirement already satisfied: nest-asyncio in /usr/local/lib/python3.10/dist-packages (from dash>=2.6.0->open3d) (1.6.0)\n",
            "Requirement already satisfied: setuptools in /usr/local/lib/python3.10/dist-packages (from dash>=2.6.0->open3d) (67.7.2)\n",
            "Collecting comm>=0.1.3 (from ipywidgets->leafmap[lidar])\n",
            "  Downloading comm-0.2.2-py3-none-any.whl (7.2 kB)\n",
            "Requirement already satisfied: ipython>=6.1.0 in /usr/local/lib/python3.10/dist-packages (from ipywidgets->leafmap[lidar]) (7.34.0)\n",
            "Requirement already satisfied: traitlets>=4.3.1 in /usr/local/lib/python3.10/dist-packages (from ipywidgets->leafmap[lidar]) (5.7.1)\n",
            "Collecting widgetsnbextension~=4.0.11 (from ipywidgets->leafmap[lidar])\n",
            "  Downloading widgetsnbextension-4.0.11-py3-none-any.whl (2.3 MB)\n",
            "\u001b[2K     \u001b[90m━━━━━━━━━━━━━━━━━━━━━━━━━━━━━━━━━━━━━━━━\u001b[0m \u001b[32m2.3/2.3 MB\u001b[0m \u001b[31m37.5 MB/s\u001b[0m eta \u001b[36m0:00:00\u001b[0m\n",
            "\u001b[?25hRequirement already satisfied: jupyterlab-widgets~=3.0.11 in /usr/local/lib/python3.10/dist-packages (from ipywidgets->leafmap[lidar]) (3.0.11)\n",
            "Requirement already satisfied: contourpy>=1.0.1 in /usr/local/lib/python3.10/dist-packages (from matplotlib->leafmap[lidar]) (1.2.1)\n",
            "Requirement already satisfied: cycler>=0.10 in /usr/local/lib/python3.10/dist-packages (from matplotlib->leafmap[lidar]) (0.12.1)\n",
            "Requirement already satisfied: fonttools>=4.22.0 in /usr/local/lib/python3.10/dist-packages (from matplotlib->leafmap[lidar]) (4.53.1)\n",
            "Requirement already satisfied: kiwisolver>=1.0.1 in /usr/local/lib/python3.10/dist-packages (from matplotlib->leafmap[lidar]) (1.4.5)\n",
            "Requirement already satisfied: packaging>=20.0 in /usr/local/lib/python3.10/dist-packages (from matplotlib->leafmap[lidar]) (24.1)\n",
            "Requirement already satisfied: pyparsing>=2.3.1 in /usr/local/lib/python3.10/dist-packages (from matplotlib->leafmap[lidar]) (3.1.2)\n",
            "Requirement already satisfied: python-dateutil>=2.7 in /usr/local/lib/python3.10/dist-packages (from matplotlib->leafmap[lidar]) (2.8.2)\n",
            "Requirement already satisfied: fastjsonschema>=2.15 in /usr/local/lib/python3.10/dist-packages (from nbformat>=5.7.0->open3d) (2.20.0)\n",
            "Requirement already satisfied: jsonschema>=2.6 in /usr/local/lib/python3.10/dist-packages (from nbformat>=5.7.0->open3d) (4.19.2)\n",
            "Requirement already satisfied: jupyter-core!=5.0.*,>=4.12 in /usr/local/lib/python3.10/dist-packages (from nbformat>=5.7.0->open3d) (5.7.2)\n",
            "Requirement already satisfied: pytz>=2020.1 in /usr/local/lib/python3.10/dist-packages (from pandas->leafmap[lidar]) (2023.4)\n",
            "Requirement already satisfied: tzdata>=2022.1 in /usr/local/lib/python3.10/dist-packages (from pandas->leafmap[lidar]) (2024.1)\n",
            "Requirement already satisfied: tenacity>=6.2.0 in /usr/local/lib/python3.10/dist-packages (from plotly->leafmap[lidar]) (8.5.0)\n",
            "Requirement already satisfied: scipy>=1.3.2 in /usr/local/lib/python3.10/dist-packages (from scikit-learn>=0.21->open3d) (1.11.4)\n",
            "Requirement already satisfied: joblib>=1.1.1 in /usr/local/lib/python3.10/dist-packages (from scikit-learn>=0.21->open3d) (1.4.2)\n",
            "Requirement already satisfied: threadpoolctl>=2.0.0 in /usr/local/lib/python3.10/dist-packages (from scikit-learn>=0.21->open3d) (3.5.0)\n",
            "Requirement already satisfied: MarkupSafe>=2.1.1 in /usr/local/lib/python3.10/dist-packages (from werkzeug>=2.2.3->open3d) (2.1.5)\n",
            "Requirement already satisfied: traittypes>=0.0.6 in /usr/local/lib/python3.10/dist-packages (from bqplot->leafmap[lidar]) (0.2.1)\n",
            "Requirement already satisfied: branca>=0.6.0 in /usr/local/lib/python3.10/dist-packages (from folium->leafmap[lidar]) (0.7.2)\n",
            "Requirement already satisfied: jinja2>=2.9 in /usr/local/lib/python3.10/dist-packages (from folium->leafmap[lidar]) (3.1.4)\n",
            "Requirement already satisfied: beautifulsoup4 in /usr/local/lib/python3.10/dist-packages (from gdown->leafmap[lidar]) (4.12.3)\n",
            "Requirement already satisfied: filelock in /usr/local/lib/python3.10/dist-packages (from gdown->leafmap[lidar]) (3.15.4)\n",
            "Collecting ipycanvas>=0.5.0 (from ipyvtklink->leafmap[lidar])\n",
            "  Downloading ipycanvas-0.13.2-py2.py3-none-any.whl (122 kB)\n",
            "\u001b[2K     \u001b[90m━━━━━━━━━━━━━━━━━━━━━━━━━━━━━━━━━━━━━━━━\u001b[0m \u001b[32m122.9/122.9 kB\u001b[0m \u001b[31m11.5 MB/s\u001b[0m eta \u001b[36m0:00:00\u001b[0m\n",
            "\u001b[?25hINFO: pip is looking at multiple versions of ipyvtklink to determine which version is compatible with other requirements. This could take a while.\n",
            "Collecting ipyvtklink (from leafmap[lidar])\n",
            "  Downloading ipyvtklink-0.2.2-py3-none-any.whl (9.4 kB)\n",
            "Collecting ipyvue<2,>=1.7 (from ipyvuetify->leafmap[lidar])\n",
            "  Downloading ipyvue-1.11.1-py2.py3-none-any.whl (2.7 MB)\n",
            "\u001b[2K     \u001b[90m━━━━━━━━━━━━━━━━━━━━━━━━━━━━━━━━━━━━━━━━\u001b[0m \u001b[32m2.7/2.7 MB\u001b[0m \u001b[31m45.6 MB/s\u001b[0m eta \u001b[36m0:00:00\u001b[0m\n",
            "\u001b[?25hRequirement already satisfied: bokeh<3.4.0,>=3.2.0 in /usr/local/lib/python3.10/dist-packages (from panel->leafmap[lidar]) (3.3.4)\n",
            "Requirement already satisfied: param<3.0,>=2.0.0 in /usr/local/lib/python3.10/dist-packages (from panel->leafmap[lidar]) (2.1.1)\n",
            "Requirement already satisfied: pyviz-comms>=2.0.0 in /usr/local/lib/python3.10/dist-packages (from panel->leafmap[lidar]) (3.0.2)\n",
            "Requirement already satisfied: markdown in /usr/local/lib/python3.10/dist-packages (from panel->leafmap[lidar]) (3.6)\n",
            "Requirement already satisfied: markdown-it-py in /usr/local/lib/python3.10/dist-packages (from panel->leafmap[lidar]) (3.0.0)\n",
            "Requirement already satisfied: linkify-it-py in /usr/local/lib/python3.10/dist-packages (from panel->leafmap[lidar]) (2.0.3)\n",
            "Requirement already satisfied: mdit-py-plugins in /usr/local/lib/python3.10/dist-packages (from panel->leafmap[lidar]) (0.4.1)\n",
            "Requirement already satisfied: bleach in /usr/local/lib/python3.10/dist-packages (from panel->leafmap[lidar]) (6.1.0)\n",
            "Collecting lazrs (from pyntcloud[las]->leafmap[lidar])\n",
            "  Downloading lazrs-0.6.0-cp310-cp310-manylinux_2_17_x86_64.manylinux2014_x86_64.whl (1.4 MB)\n",
            "\u001b[2K     \u001b[90m━━━━━━━━━━━━━━━━━━━━━━━━━━━━━━━━━━━━━━━━\u001b[0m \u001b[32m1.4/1.4 MB\u001b[0m \u001b[31m5.4 MB/s\u001b[0m eta \u001b[36m0:00:00\u001b[0m\n",
            "\u001b[?25hCollecting pystac[validation]>=1.10.0 (from pystac-client->leafmap[lidar])\n",
            "  Downloading pystac-1.10.1-py3-none-any.whl (182 kB)\n",
            "\u001b[2K     \u001b[90m━━━━━━━━━━━━━━━━━━━━━━━━━━━━━━━━━━━━━━━━\u001b[0m \u001b[32m182.9/182.9 kB\u001b[0m \u001b[31m19.1 MB/s\u001b[0m eta \u001b[36m0:00:00\u001b[0m\n",
            "\u001b[?25hRequirement already satisfied: pooch in /usr/local/lib/python3.10/dist-packages (from pyvista->leafmap[lidar]) (1.8.2)\n",
            "Collecting vtk (from pyvista->leafmap[lidar])\n",
            "  Downloading vtk-9.3.1-cp310-cp310-manylinux_2_17_x86_64.manylinux2014_x86_64.whl (92.1 MB)\n",
            "\u001b[2K     \u001b[90m━━━━━━━━━━━━━━━━━━━━━━━━━━━━━━━━━━━━━━━━\u001b[0m \u001b[32m92.1/92.1 MB\u001b[0m \u001b[31m8.3 MB/s\u001b[0m eta \u001b[36m0:00:00\u001b[0m\n",
            "\u001b[?25hRequirement already satisfied: ipytree in /usr/local/lib/python3.10/dist-packages (from whiteboxgui->leafmap[lidar]) (0.2.2)\n",
            "Collecting whitebox (from whiteboxgui->leafmap[lidar])\n",
            "  Downloading whitebox-2.3.5-py2.py3-none-any.whl (72 kB)\n",
            "\u001b[2K     \u001b[90m━━━━━━━━━━━━━━━━━━━━━━━━━━━━━━━━━━━━━━━━\u001b[0m \u001b[32m72.4/72.4 kB\u001b[0m \u001b[31m8.1 MB/s\u001b[0m eta \u001b[36m0:00:00\u001b[0m\n",
            "\u001b[?25hRequirement already satisfied: tornado>=5.1 in /usr/local/lib/python3.10/dist-packages (from bokeh<3.4.0,>=3.2.0->panel->leafmap[lidar]) (6.3.3)\n",
            "Requirement already satisfied: itsdangerous>=2.0 in /usr/local/lib/python3.10/dist-packages (from Flask<3.1,>=1.0.4->dash>=2.6.0->open3d) (2.2.0)\n",
            "Requirement already satisfied: click>=8.0 in /usr/local/lib/python3.10/dist-packages (from Flask<3.1,>=1.0.4->dash>=2.6.0->open3d) (8.1.7)\n",
            "Collecting jedi>=0.16 (from ipython>=6.1.0->ipywidgets->leafmap[lidar])\n",
            "  Downloading jedi-0.19.1-py2.py3-none-any.whl (1.6 MB)\n",
            "\u001b[2K     \u001b[90m━━━━━━━━━━━━━━━━━━━━━━━━━━━━━━━━━━━━━━━━\u001b[0m \u001b[32m1.6/1.6 MB\u001b[0m \u001b[31m55.6 MB/s\u001b[0m eta \u001b[36m0:00:00\u001b[0m\n",
            "\u001b[?25hRequirement already satisfied: decorator in /usr/local/lib/python3.10/dist-packages (from ipython>=6.1.0->ipywidgets->leafmap[lidar]) (4.4.2)\n",
            "Requirement already satisfied: pickleshare in /usr/local/lib/python3.10/dist-packages (from ipython>=6.1.0->ipywidgets->leafmap[lidar]) (0.7.5)\n",
            "Requirement already satisfied: prompt-toolkit!=3.0.0,!=3.0.1,<3.1.0,>=2.0.0 in /usr/local/lib/python3.10/dist-packages (from ipython>=6.1.0->ipywidgets->leafmap[lidar]) (3.0.47)\n",
            "Requirement already satisfied: pygments in /usr/local/lib/python3.10/dist-packages (from ipython>=6.1.0->ipywidgets->leafmap[lidar]) (2.16.1)\n",
            "Requirement already satisfied: backcall in /usr/local/lib/python3.10/dist-packages (from ipython>=6.1.0->ipywidgets->leafmap[lidar]) (0.2.0)\n",
            "Requirement already satisfied: matplotlib-inline in /usr/local/lib/python3.10/dist-packages (from ipython>=6.1.0->ipywidgets->leafmap[lidar]) (0.1.7)\n",
            "Requirement already satisfied: pexpect>4.3 in /usr/local/lib/python3.10/dist-packages (from ipython>=6.1.0->ipywidgets->leafmap[lidar]) (4.9.0)\n",
            "Requirement already satisfied: attrs>=22.2.0 in /usr/local/lib/python3.10/dist-packages (from jsonschema>=2.6->nbformat>=5.7.0->open3d) (23.2.0)\n",
            "Requirement already satisfied: jsonschema-specifications>=2023.03.6 in /usr/local/lib/python3.10/dist-packages (from jsonschema>=2.6->nbformat>=5.7.0->open3d) (2023.12.1)\n",
            "Requirement already satisfied: referencing>=0.28.4 in /usr/local/lib/python3.10/dist-packages (from jsonschema>=2.6->nbformat>=5.7.0->open3d) (0.35.1)\n",
            "Requirement already satisfied: rpds-py>=0.7.1 in /usr/local/lib/python3.10/dist-packages (from jsonschema>=2.6->nbformat>=5.7.0->open3d) (0.19.0)\n",
            "Requirement already satisfied: platformdirs>=2.5 in /usr/local/lib/python3.10/dist-packages (from jupyter-core!=5.0.*,>=4.12->nbformat>=5.7.0->open3d) (4.2.2)\n",
            "Requirement already satisfied: six>=1.5 in /usr/local/lib/python3.10/dist-packages (from python-dateutil>=2.7->matplotlib->leafmap[lidar]) (1.16.0)\n",
            "Requirement already satisfied: charset-normalizer<4,>=2 in /usr/local/lib/python3.10/dist-packages (from requests->dash>=2.6.0->open3d) (3.3.2)\n",
            "Requirement already satisfied: idna<4,>=2.5 in /usr/local/lib/python3.10/dist-packages (from requests->dash>=2.6.0->open3d) (3.7)\n",
            "Requirement already satisfied: urllib3<3,>=1.21.1 in /usr/local/lib/python3.10/dist-packages (from requests->dash>=2.6.0->open3d) (2.0.7)\n",
            "Requirement already satisfied: certifi>=2017.4.17 in /usr/local/lib/python3.10/dist-packages (from requests->dash>=2.6.0->open3d) (2024.7.4)\n",
            "Requirement already satisfied: soupsieve>1.2 in /usr/local/lib/python3.10/dist-packages (from beautifulsoup4->gdown->leafmap[lidar]) (2.5)\n",
            "Requirement already satisfied: webencodings in /usr/local/lib/python3.10/dist-packages (from bleach->panel->leafmap[lidar]) (0.5.1)\n",
            "Requirement already satisfied: zipp>=0.5 in /usr/local/lib/python3.10/dist-packages (from importlib-metadata->dash>=2.6.0->open3d) (3.19.2)\n",
            "Requirement already satisfied: uc-micro-py in /usr/local/lib/python3.10/dist-packages (from linkify-it-py->panel->leafmap[lidar]) (1.0.3)\n",
            "Requirement already satisfied: mdurl~=0.1 in /usr/local/lib/python3.10/dist-packages (from markdown-it-py->panel->leafmap[lidar]) (0.1.2)\n",
            "Requirement already satisfied: PySocks!=1.5.7,>=1.5.6 in /usr/local/lib/python3.10/dist-packages (from requests->dash>=2.6.0->open3d) (1.7.1)\n",
            "Requirement already satisfied: parso<0.9.0,>=0.8.3 in /usr/local/lib/python3.10/dist-packages (from jedi>=0.16->ipython>=6.1.0->ipywidgets->leafmap[lidar]) (0.8.4)\n",
            "Requirement already satisfied: ptyprocess>=0.5 in /usr/local/lib/python3.10/dist-packages (from pexpect>4.3->ipython>=6.1.0->ipywidgets->leafmap[lidar]) (0.7.0)\n",
            "Requirement already satisfied: wcwidth in /usr/local/lib/python3.10/dist-packages (from prompt-toolkit!=3.0.0,!=3.0.1,<3.1.0,>=2.0.0->ipython>=6.1.0->ipywidgets->leafmap[lidar]) (0.2.13)\n",
            "Installing collected packages: lazrs, dash-table, dash-html-components, dash-core-components, addict, widgetsnbextension, whitebox, retrying, pyquaternion, laspy, jedi, geojson, configargparse, comm, pystac, vtk, pyntcloud, ipywidgets, dash, pyvista, ipyvue, ipygany, ipycanvas, whiteboxgui, pystac-client, open3d, ipyvuetify, ipyvtklink, leafmap\n",
            "  Attempting uninstall: widgetsnbextension\n",
            "    Found existing installation: widgetsnbextension 3.6.7\n",
            "    Uninstalling widgetsnbextension-3.6.7:\n",
            "      Successfully uninstalled widgetsnbextension-3.6.7\n",
            "  Attempting uninstall: ipywidgets\n",
            "    Found existing installation: ipywidgets 7.7.1\n",
            "    Uninstalling ipywidgets-7.7.1:\n",
            "      Successfully uninstalled ipywidgets-7.7.1\n",
            "Successfully installed addict-2.4.0 comm-0.2.2 configargparse-1.7 dash-2.17.1 dash-core-components-2.0.0 dash-html-components-2.0.0 dash-table-5.0.0 geojson-3.1.0 ipycanvas-0.13.2 ipygany-0.5.0 ipyvtklink-0.2.2 ipyvue-1.11.1 ipyvuetify-1.9.4 ipywidgets-8.1.3 jedi-0.19.1 laspy-2.5.4 lazrs-0.6.0 leafmap-0.35.10 open3d-0.18.0 pyntcloud-0.3.1 pyquaternion-0.9.9 pystac-1.10.1 pystac-client-0.8.2 pyvista-0.44.0 retrying-1.3.4 vtk-9.3.1 whitebox-2.3.5 whiteboxgui-2.3.0 widgetsnbextension-4.0.11\n"
          ]
        }
      ],
      "source": [
        "%pip install \"leafmap[lidar]\" open3d"
      ],
      "id": "XHzOACTxaL0l"
    },
    {
      "cell_type": "markdown",
      "metadata": {
        "id": "t7XA0wUBaL0m"
      },
      "source": [
        "## Import libraries"
      ],
      "id": "t7XA0wUBaL0m"
    },
    {
      "cell_type": "code",
      "execution_count": 2,
      "metadata": {
        "id": "zjFx3pOXaL0n"
      },
      "outputs": [],
      "source": [
        "import leafmap"
      ],
      "id": "zjFx3pOXaL0n"
    },
    {
      "cell_type": "markdown",
      "metadata": {
        "id": "d35ySM4CaL0n"
      },
      "source": [
        "## Download data"
      ],
      "id": "d35ySM4CaL0n"
    },
    {
      "cell_type": "markdown",
      "metadata": {
        "id": "JOlyBhOMaL0n"
      },
      "source": [
        "Download a [sample LiDAR dataset](https://drive.google.com/file/d/1H_X1190vL63BoFYa_cVBDxtIa8rG-Usb/view?usp=sharing) from Google Drive. The zip file is 52.1 MB and the uncompressed LAS file is 109 MB."
      ],
      "id": "JOlyBhOMaL0n"
    },
    {
      "cell_type": "code",
      "execution_count": 3,
      "metadata": {
        "id": "y3pXEGKHaL0o"
      },
      "outputs": [],
      "source": [
        "url = 'https://open.gishub.org/data/lidar/madison.zip'\n",
        "filename = 'madison.las'"
      ],
      "id": "y3pXEGKHaL0o"
    },
    {
      "cell_type": "code",
      "execution_count": 4,
      "metadata": {
        "colab": {
          "base_uri": "https://localhost:8080/",
          "height": 142
        },
        "id": "-UUffxTYaL0o",
        "outputId": "41c011d3-b073-4e8e-c266-43c1ff74b4a8"
      },
      "outputs": [
        {
          "output_type": "stream",
          "name": "stderr",
          "text": [
            "Downloading...\n",
            "From: https://open.gishub.org/data/lidar/madison.zip\n",
            "To: /content/madison.zip\n",
            "100%|██████████| 54.7M/54.7M [00:00<00:00, 76.8MB/s]\n"
          ]
        },
        {
          "output_type": "stream",
          "name": "stdout",
          "text": [
            "Extracting files...\n"
          ]
        },
        {
          "output_type": "execute_result",
          "data": {
            "text/plain": [
              "'/content/madison.zip'"
            ],
            "application/vnd.google.colaboratory.intrinsic+json": {
              "type": "string"
            }
          },
          "metadata": {},
          "execution_count": 4
        }
      ],
      "source": [
        "leafmap.download_file(url, 'madison.zip', unzip=True)"
      ],
      "id": "-UUffxTYaL0o"
    },
    {
      "cell_type": "markdown",
      "metadata": {
        "id": "hdQK3i52aL0p"
      },
      "source": [
        "## Metadata"
      ],
      "id": "hdQK3i52aL0p"
    },
    {
      "cell_type": "markdown",
      "metadata": {
        "id": "X2wCJv6MaL0p"
      },
      "source": [
        "Read the LiDAR data"
      ],
      "id": "X2wCJv6MaL0p"
    },
    {
      "cell_type": "code",
      "execution_count": 5,
      "metadata": {
        "id": "wxGc0SweaL0q"
      },
      "outputs": [],
      "source": [
        "las = leafmap.read_lidar(filename)"
      ],
      "id": "wxGc0SweaL0q"
    },
    {
      "cell_type": "markdown",
      "metadata": {
        "id": "nfuUMiRMaL0q"
      },
      "source": [
        "The LAS header."
      ],
      "id": "nfuUMiRMaL0q"
    },
    {
      "cell_type": "code",
      "execution_count": 6,
      "metadata": {
        "colab": {
          "base_uri": "https://localhost:8080/"
        },
        "id": "zb5d013caL0q",
        "outputId": "91f9de86-e51d-44e1-8412-2e70e5814572"
      },
      "outputs": [
        {
          "output_type": "execute_result",
          "data": {
            "text/plain": [
              "<LasHeader(1.3, <PointFormat(1, 0 bytes of extra dims)>)>"
            ]
          },
          "metadata": {},
          "execution_count": 6
        }
      ],
      "source": [
        "las.header"
      ],
      "id": "zb5d013caL0q"
    },
    {
      "cell_type": "markdown",
      "metadata": {
        "id": "DbGdV0q6aL0r"
      },
      "source": [
        "The number of points."
      ],
      "id": "DbGdV0q6aL0r"
    },
    {
      "cell_type": "code",
      "execution_count": 7,
      "metadata": {
        "colab": {
          "base_uri": "https://localhost:8080/"
        },
        "id": "gWMWHIhKaL0r",
        "outputId": "47b24dfe-8efc-46c0-d7e4-12f0530880c1"
      },
      "outputs": [
        {
          "output_type": "execute_result",
          "data": {
            "text/plain": [
              "4068294"
            ]
          },
          "metadata": {},
          "execution_count": 7
        }
      ],
      "source": [
        "las.header.point_count"
      ],
      "id": "gWMWHIhKaL0r"
    },
    {
      "cell_type": "markdown",
      "metadata": {
        "id": "jRfkwW7DaL0r"
      },
      "source": [
        "The list of features."
      ],
      "id": "jRfkwW7DaL0r"
    },
    {
      "cell_type": "code",
      "execution_count": 8,
      "metadata": {
        "colab": {
          "base_uri": "https://localhost:8080/"
        },
        "id": "A0IhozmsaL0r",
        "outputId": "ea1fd545-ef5d-49df-ed75-01c33a7aba90"
      },
      "outputs": [
        {
          "output_type": "execute_result",
          "data": {
            "text/plain": [
              "['X',\n",
              " 'Y',\n",
              " 'Z',\n",
              " 'intensity',\n",
              " 'return_number',\n",
              " 'number_of_returns',\n",
              " 'scan_direction_flag',\n",
              " 'edge_of_flight_line',\n",
              " 'classification',\n",
              " 'synthetic',\n",
              " 'key_point',\n",
              " 'withheld',\n",
              " 'scan_angle_rank',\n",
              " 'user_data',\n",
              " 'point_source_id',\n",
              " 'gps_time']"
            ]
          },
          "metadata": {},
          "execution_count": 8
        }
      ],
      "source": [
        "list(las.point_format.dimension_names)"
      ],
      "id": "A0IhozmsaL0r"
    },
    {
      "cell_type": "markdown",
      "metadata": {
        "id": "cmNvAnWtaL0r"
      },
      "source": [
        "## Read data"
      ],
      "id": "cmNvAnWtaL0r"
    },
    {
      "cell_type": "markdown",
      "metadata": {
        "id": "8sB0rNBOaL0s"
      },
      "source": [
        "Inspect data."
      ],
      "id": "8sB0rNBOaL0s"
    },
    {
      "cell_type": "code",
      "execution_count": 9,
      "metadata": {
        "colab": {
          "base_uri": "https://localhost:8080/"
        },
        "id": "EQZgvWbKaL0s",
        "outputId": "76ea3bfc-0f70-45fd-842f-c49882b4e1e9"
      },
      "outputs": [
        {
          "output_type": "execute_result",
          "data": {
            "text/plain": [
              "array([5324343, 5324296, 5323993, ..., 5784049, 5784359, 5784667],\n",
              "      dtype=int32)"
            ]
          },
          "metadata": {},
          "execution_count": 9
        }
      ],
      "source": [
        "las.X"
      ],
      "id": "EQZgvWbKaL0s"
    },
    {
      "cell_type": "code",
      "execution_count": 10,
      "metadata": {
        "colab": {
          "base_uri": "https://localhost:8080/"
        },
        "id": "rV7kIe--aL0s",
        "outputId": "ada6026b-33b2-42a1-f5e2-fdd452622416"
      },
      "outputs": [
        {
          "output_type": "execute_result",
          "data": {
            "text/plain": [
              "array([8035264, 8035347, 8035296, ..., 7550110, 7550066, 7550026],\n",
              "      dtype=int32)"
            ]
          },
          "metadata": {},
          "execution_count": 10
        }
      ],
      "source": [
        "las.Y"
      ],
      "id": "rV7kIe--aL0s"
    },
    {
      "cell_type": "code",
      "execution_count": 11,
      "metadata": {
        "colab": {
          "base_uri": "https://localhost:8080/"
        },
        "id": "RFk7ydJRaL0s",
        "outputId": "b834c892-71fa-4f27-949d-dd793b7fcabf"
      },
      "outputs": [
        {
          "output_type": "execute_result",
          "data": {
            "text/plain": [
              "array([36696, 34835, 34826, ..., 36839, 36858, 36842], dtype=int32)"
            ]
          },
          "metadata": {},
          "execution_count": 11
        }
      ],
      "source": [
        "las.Z"
      ],
      "id": "RFk7ydJRaL0s"
    },
    {
      "cell_type": "code",
      "execution_count": 12,
      "metadata": {
        "colab": {
          "base_uri": "https://localhost:8080/"
        },
        "id": "qN__Uw97aL0t",
        "outputId": "485b6022-db2f-4c1a-81a4-e08a5c7d2d00"
      },
      "outputs": [
        {
          "output_type": "execute_result",
          "data": {
            "text/plain": [
              "array([ 9, 41, 24, ..., 87, 80, 95], dtype=uint16)"
            ]
          },
          "metadata": {},
          "execution_count": 12
        }
      ],
      "source": [
        "las.intensity"
      ],
      "id": "qN__Uw97aL0t"
    },
    {
      "cell_type": "markdown",
      "metadata": {
        "id": "dexTX1GraL0t"
      },
      "source": [
        "## PyVista\n",
        "\n",
        "Visualize LiDAR data using the [pyvista](https://github.com/pyvista/pyvista) backend."
      ],
      "id": "dexTX1GraL0t"
    },
    {
      "cell_type": "code",
      "execution_count": 13,
      "metadata": {
        "colab": {
          "base_uri": "https://localhost:8080/"
        },
        "id": "8dCpXne8aL0t",
        "outputId": "cdd202fd-8e6e-47e1-fba8-2c2079a9b80b"
      },
      "outputs": [
        {
          "output_type": "stream",
          "name": "stdout",
          "text": [
            "This function is not supported in Google Colab.\n"
          ]
        }
      ],
      "source": [
        "leafmap.view_lidar(filename, cmap='terrain', backend='pyvista')"
      ],
      "id": "8dCpXne8aL0t"
    },
    {
      "cell_type": "markdown",
      "metadata": {
        "id": "gDtQx-ZcaL0t"
      },
      "source": [
        "![](https://i.imgur.com/xezcgMP.gif)"
      ],
      "id": "gDtQx-ZcaL0t"
    },
    {
      "cell_type": "markdown",
      "metadata": {
        "id": "mbIXTVugaL0t"
      },
      "source": [
        "## ipygany\n",
        "\n",
        "Visualize LiDAR data using the [ipygany](https://github.com/QuantStack/ipygany) backend."
      ],
      "id": "mbIXTVugaL0t"
    },
    {
      "cell_type": "code",
      "execution_count": 14,
      "metadata": {
        "colab": {
          "base_uri": "https://localhost:8080/"
        },
        "id": "Ql5bhOjkaL0t",
        "outputId": "742b725f-42a1-4506-88c2-7701d89a8bb1"
      },
      "outputs": [
        {
          "output_type": "stream",
          "name": "stdout",
          "text": [
            "This function is not supported in Google Colab.\n"
          ]
        }
      ],
      "source": [
        "leafmap.view_lidar(filename, backend='ipygany', background='white')"
      ],
      "id": "Ql5bhOjkaL0t"
    },
    {
      "cell_type": "markdown",
      "metadata": {
        "id": "vFcuLm9GaL0t"
      },
      "source": [
        "![](https://i.imgur.com/MyMWW4I.gif)"
      ],
      "id": "vFcuLm9GaL0t"
    },
    {
      "cell_type": "markdown",
      "metadata": {
        "id": "vsn9UlZKaL0u"
      },
      "source": [
        "## Panel\n",
        "\n",
        "Visualize LiDAR data using the [panel](https://github.com/holoviz/panel) backend."
      ],
      "id": "vsn9UlZKaL0u"
    },
    {
      "cell_type": "code",
      "execution_count": 15,
      "metadata": {
        "colab": {
          "base_uri": "https://localhost:8080/"
        },
        "id": "lxEtNx37aL0u",
        "outputId": "a74887b0-f53b-4f20-98a8-c6bc0849867a"
      },
      "outputs": [
        {
          "output_type": "stream",
          "name": "stdout",
          "text": [
            "This function is not supported in Google Colab.\n"
          ]
        }
      ],
      "source": [
        "leafmap.view_lidar(filename, cmap='terrain', backend='panel', background='white')"
      ],
      "id": "lxEtNx37aL0u"
    },
    {
      "cell_type": "markdown",
      "metadata": {
        "id": "zVMJ2RCmaL0u"
      },
      "source": [
        "![](https://i.imgur.com/XQGWbJk.gif)"
      ],
      "id": "zVMJ2RCmaL0u"
    },
    {
      "cell_type": "markdown",
      "metadata": {
        "id": "I3UWgSi4aL0u"
      },
      "source": [
        "## Open3D\n",
        "\n",
        "Visualize LiDAR data using the [open3d](http://www.open3d.org) backend."
      ],
      "id": "I3UWgSi4aL0u"
    },
    {
      "cell_type": "code",
      "execution_count": 16,
      "metadata": {
        "colab": {
          "base_uri": "https://localhost:8080/"
        },
        "id": "QkGTfGi4aL0u",
        "outputId": "35f43148-338b-4713-c09d-488940a7ba28"
      },
      "outputs": [
        {
          "output_type": "stream",
          "name": "stdout",
          "text": [
            "This function is not supported in Google Colab.\n"
          ]
        }
      ],
      "source": [
        "leafmap.view_lidar(filename, backend='open3d')"
      ],
      "id": "QkGTfGi4aL0u"
    },
    {
      "cell_type": "markdown",
      "metadata": {
        "id": "e4sypi6caL0u"
      },
      "source": [
        "![](https://i.imgur.com/rL85fbl.gif)"
      ],
      "id": "e4sypi6caL0u"
    }
  ],
  "metadata": {
    "kernelspec": {
      "display_name": "geo",
      "language": "python",
      "name": "python3"
    },
    "language_info": {
      "codemirror_mode": {
        "name": "ipython",
        "version": 3
      },
      "file_extension": ".py",
      "mimetype": "text/x-python",
      "name": "python",
      "nbconvert_exporter": "python",
      "pygments_lexer": "ipython3",
      "version": "3.11.6"
    },
    "colab": {
      "provenance": []
    }
  },
  "nbformat": 4,
  "nbformat_minor": 5
}