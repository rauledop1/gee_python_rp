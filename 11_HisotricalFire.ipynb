{
 "cells": [
  {
   "cell_type": "code",
   "execution_count": 3,
   "metadata": {},
   "outputs": [],
   "source": [
    "import ee\n",
    "import geemap\n",
    "import time\n",
    "import requests\n",
    "import json\n",
    "import os\n",
    "from geemap import geojson_to_ee, ee_to_geojson\n",
    "from ipyleaflet import GeoJSON\n",
    "import geopandas as gpd\n",
    "import topojson as tp\n",
    "from shapely.geometry import Polygon\n",
    "import pandas as pd"
   ]
  },
  {
   "cell_type": "code",
   "execution_count": 4,
   "metadata": {},
   "outputs": [],
   "source": [
    "ee.Initialize()\n",
    "Map = geemap.Map()"
   ]
  },
  {
   "cell_type": "code",
   "execution_count": 5,
   "metadata": {},
   "outputs": [],
   "source": [
    "def fire_boundary(i):\n",
    "    Temporada=int('{}'.format(i)) # temporada 2017 inicia en Julio 2016 y terminia en agosto 2017\n",
    "    countries = ee.FeatureCollection('USDOS/LSIB_SIMPLE/2017')\n",
    "    roi = countries.filterMetadata('country_na', 'equals', 'Chile')\n",
    "\n",
    "    t1 = str(Temporada-1) +'-08-01'\n",
    "    t2 = str(Temporada) +'-08-01'\n",
    "\n",
    "    fire_boundary = ee.FeatureCollection('JRC/GWIS/GlobFire/v2/FinalPerimeters')\\\n",
    "        .filterMetadata('FDate', 'greater_than', ee.Date(t1).millis())\\\n",
    "        .filterMetadata('FDate', 'less_than', ee.Date(t2).millis())\\\n",
    "        .filterBounds(roi)\n",
    "    fire = geemap.ee_to_geopandas(fire_boundary)#.drop(0)\n",
    "    fire['FechaInicio']=pd.to_datetime(fire['IDate'],unit='ms')\n",
    "    fire['FechaFin']=pd.to_datetime(fire['FDate'],unit='ms')\n",
    "    # remove the IDate and Fdate column\n",
    "    fire.drop(['IDate','FDate'], axis=1, inplace=True)\n",
    "    perimetro=\"data/r20_mcd64a1_\"+str(Temporada)+\".json\"\n",
    "    if os.path.exists(perimetro):\n",
    "        os.remove(perimetro)\n",
    "    fire.to_file(perimetro, driver=\"GeoJSON\")\n",
    "    return perimetro"
   ]
  },
  {
   "cell_type": "code",
   "execution_count": 6,
   "metadata": {},
   "outputs": [],
   "source": [
    "fire=fire_boundary(2017)"
   ]
  },
  {
   "cell_type": "code",
   "execution_count": 11,
   "metadata": {},
   "outputs": [
    {
     "data": {
      "text/html": [
       "<div>\n",
       "<style scoped>\n",
       "    .dataframe tbody tr th:only-of-type {\n",
       "        vertical-align: middle;\n",
       "    }\n",
       "\n",
       "    .dataframe tbody tr th {\n",
       "        vertical-align: top;\n",
       "    }\n",
       "\n",
       "    .dataframe thead th {\n",
       "        text-align: right;\n",
       "    }\n",
       "</style>\n",
       "<table border=\"1\" class=\"dataframe\">\n",
       "  <thead>\n",
       "    <tr style=\"text-align: right;\">\n",
       "      <th></th>\n",
       "      <th>Id</th>\n",
       "      <th>FechaInicio</th>\n",
       "      <th>FechaFin</th>\n",
       "      <th>geometry</th>\n",
       "    </tr>\n",
       "  </thead>\n",
       "  <tbody>\n",
       "    <tr>\n",
       "      <th>0</th>\n",
       "      <td>20109883</td>\n",
       "      <td>2016-10-17T00:00:00</td>\n",
       "      <td>2017-03-12T00:00:00</td>\n",
       "      <td>POLYGON ((-180.00000 -90.00000, 180.00000 -90....</td>\n",
       "    </tr>\n",
       "    <tr>\n",
       "      <th>1</th>\n",
       "      <td>19673299</td>\n",
       "      <td>2016-07-30T23:59:56.928001</td>\n",
       "      <td>2016-08-06T00:00:00</td>\n",
       "      <td>MULTIPOLYGON (((-71.29754 -34.67083, -71.30112...</td>\n",
       "    </tr>\n",
       "    <tr>\n",
       "      <th>2</th>\n",
       "      <td>20497683</td>\n",
       "      <td>2017-03-07T00:00:00</td>\n",
       "      <td>2017-03-22T00:00:00</td>\n",
       "      <td>POLYGON ((-72.19464 -38.34583, -72.19048 -38.3...</td>\n",
       "    </tr>\n",
       "    <tr>\n",
       "      <th>3</th>\n",
       "      <td>20497682</td>\n",
       "      <td>2017-03-07T00:00:00</td>\n",
       "      <td>2017-03-10T00:00:00</td>\n",
       "      <td>POLYGON ((-72.27411 -38.30833, -72.27826 -38.3...</td>\n",
       "    </tr>\n",
       "    <tr>\n",
       "      <th>4</th>\n",
       "      <td>20497587</td>\n",
       "      <td>2017-03-07T00:00:00</td>\n",
       "      <td>2017-03-09T00:00:00</td>\n",
       "      <td>MULTIPOLYGON (((-71.88094 -34.12500, -71.87032...</td>\n",
       "    </tr>\n",
       "    <tr>\n",
       "      <th>...</th>\n",
       "      <td>...</td>\n",
       "      <td>...</td>\n",
       "      <td>...</td>\n",
       "      <td>...</td>\n",
       "    </tr>\n",
       "    <tr>\n",
       "      <th>483</th>\n",
       "      <td>20635073</td>\n",
       "      <td>2017-05-27T00:00:00</td>\n",
       "      <td>2017-05-31T00:00:00</td>\n",
       "      <td>MULTIPOLYGON (((-70.60707 -32.07500, -70.61029...</td>\n",
       "    </tr>\n",
       "    <tr>\n",
       "      <th>484</th>\n",
       "      <td>20635076</td>\n",
       "      <td>2017-05-27T00:00:00</td>\n",
       "      <td>2017-05-31T00:00:00</td>\n",
       "      <td>MULTIPOLYGON (((-70.64299 -32.21667, -70.64623...</td>\n",
       "    </tr>\n",
       "    <tr>\n",
       "      <th>485</th>\n",
       "      <td>20160630</td>\n",
       "      <td>2016-11-20T00:00:00</td>\n",
       "      <td>2016-11-20T00:00:00</td>\n",
       "      <td>POLYGON ((-72.12920 -46.99583, -72.13483 -47.0...</td>\n",
       "    </tr>\n",
       "    <tr>\n",
       "      <th>486</th>\n",
       "      <td>20054337</td>\n",
       "      <td>2016-10-11T00:00:00</td>\n",
       "      <td>2016-10-11T00:00:00</td>\n",
       "      <td>POLYGON ((-70.79151 -32.98750, -70.79485 -32.9...</td>\n",
       "    </tr>\n",
       "    <tr>\n",
       "      <th>487</th>\n",
       "      <td>20635094</td>\n",
       "      <td>2017-05-31T00:00:00</td>\n",
       "      <td>2017-05-31T00:00:00</td>\n",
       "      <td>POLYGON ((-70.39397 -32.81250, -70.39727 -32.8...</td>\n",
       "    </tr>\n",
       "  </tbody>\n",
       "</table>\n",
       "<p>488 rows × 4 columns</p>\n",
       "</div>"
      ],
      "text/plain": [
       "           Id                 FechaInicio             FechaFin  \\\n",
       "0    20109883         2016-10-17T00:00:00  2017-03-12T00:00:00   \n",
       "1    19673299  2016-07-30T23:59:56.928001  2016-08-06T00:00:00   \n",
       "2    20497683         2017-03-07T00:00:00  2017-03-22T00:00:00   \n",
       "3    20497682         2017-03-07T00:00:00  2017-03-10T00:00:00   \n",
       "4    20497587         2017-03-07T00:00:00  2017-03-09T00:00:00   \n",
       "..        ...                         ...                  ...   \n",
       "483  20635073         2017-05-27T00:00:00  2017-05-31T00:00:00   \n",
       "484  20635076         2017-05-27T00:00:00  2017-05-31T00:00:00   \n",
       "485  20160630         2016-11-20T00:00:00  2016-11-20T00:00:00   \n",
       "486  20054337         2016-10-11T00:00:00  2016-10-11T00:00:00   \n",
       "487  20635094         2017-05-31T00:00:00  2017-05-31T00:00:00   \n",
       "\n",
       "                                              geometry  \n",
       "0    POLYGON ((-180.00000 -90.00000, 180.00000 -90....  \n",
       "1    MULTIPOLYGON (((-71.29754 -34.67083, -71.30112...  \n",
       "2    POLYGON ((-72.19464 -38.34583, -72.19048 -38.3...  \n",
       "3    POLYGON ((-72.27411 -38.30833, -72.27826 -38.3...  \n",
       "4    MULTIPOLYGON (((-71.88094 -34.12500, -71.87032...  \n",
       "..                                                 ...  \n",
       "483  MULTIPOLYGON (((-70.60707 -32.07500, -70.61029...  \n",
       "484  MULTIPOLYGON (((-70.64299 -32.21667, -70.64623...  \n",
       "485  POLYGON ((-72.12920 -46.99583, -72.13483 -47.0...  \n",
       "486  POLYGON ((-70.79151 -32.98750, -70.79485 -32.9...  \n",
       "487  POLYGON ((-70.39397 -32.81250, -70.39727 -32.8...  \n",
       "\n",
       "[488 rows x 4 columns]"
      ]
     },
     "execution_count": 11,
     "metadata": {},
     "output_type": "execute_result"
    }
   ],
   "source": [
    "# Read file\n",
    "gdf = gpd.read_file(fire)\n",
    "\n",
    "# Sort the GeoDataFrame in descending order by the polygon's area\n",
    "gdf \n"
   ]
  },
  {
   "cell_type": "code",
   "execution_count": 13,
   "metadata": {},
   "outputs": [
    {
     "data": {
      "text/plain": [
       "<AxesSubplot:>"
      ]
     },
     "execution_count": 13,
     "metadata": {},
     "output_type": "execute_result"
    },
    {
     "data": {
      "image/png": "[encoded data removed]",
      "text/plain": [
       "<Figure size 640x480 with 1 Axes>"
      ]
     },
     "metadata": {},
     "output_type": "display_data"
    }
   ],
   "source": [
    "gdf['area']=gdf.geometry.area\n",
    "\n",
    "df = gdf.sort_values('area', ascending=False)\n",
    "\n",
    "# Drop the largest polygon\n",
    "df = df.iloc[1:]\n"
   ]
  },
  {
   "cell_type": "code",
   "execution_count": 17,
   "metadata": {},
   "outputs": [
    {
     "data": {
      "text/html": [
       "<div>\n",
       "<style scoped>\n",
       "    .dataframe tbody tr th:only-of-type {\n",
       "        vertical-align: middle;\n",
       "    }\n",
       "\n",
       "    .dataframe tbody tr th {\n",
       "        vertical-align: top;\n",
       "    }\n",
       "\n",
       "    .dataframe thead th {\n",
       "        text-align: right;\n",
       "    }\n",
       "</style>\n",
       "<table border=\"1\" class=\"dataframe\">\n",
       "  <thead>\n",
       "    <tr style=\"text-align: right;\">\n",
       "      <th></th>\n",
       "      <th>Id</th>\n",
       "      <th>FechaInicio</th>\n",
       "      <th>FechaFin</th>\n",
       "      <th>geometry</th>\n",
       "      <th>area</th>\n",
       "    </tr>\n",
       "  </thead>\n",
       "  <tbody>\n",
       "    <tr>\n",
       "      <th>117</th>\n",
       "      <td>20334710</td>\n",
       "      <td>2017-01-18T00:00:00</td>\n",
       "      <td>2017-02-05T00:00:02.048000</td>\n",
       "      <td>MULTIPOLYGON (((-71.92002 -35.65000, -71.92377...</td>\n",
       "      <td>0.171321</td>\n",
       "    </tr>\n",
       "    <tr>\n",
       "      <th>303</th>\n",
       "      <td>20334783</td>\n",
       "      <td>2017-01-20T00:00:00</td>\n",
       "      <td>2017-02-06T00:00:00</td>\n",
       "      <td>MULTIPOLYGON (((-72.80232 -36.61250, -72.80625...</td>\n",
       "      <td>0.056137</td>\n",
       "    </tr>\n",
       "    <tr>\n",
       "      <th>393</th>\n",
       "      <td>20334692</td>\n",
       "      <td>2017-01-15T00:00:00</td>\n",
       "      <td>2017-02-03T00:00:00</td>\n",
       "      <td>MULTIPOLYGON (((-71.92883 -34.80833, -71.93391...</td>\n",
       "      <td>0.055341</td>\n",
       "    </tr>\n",
       "    <tr>\n",
       "      <th>214</th>\n",
       "      <td>20334677</td>\n",
       "      <td>2017-01-13T00:00:00</td>\n",
       "      <td>2017-01-29T00:00:00</td>\n",
       "      <td>MULTIPOLYGON (((-71.60278 -34.56667, -71.60637...</td>\n",
       "      <td>0.042468</td>\n",
       "    </tr>\n",
       "    <tr>\n",
       "      <th>224</th>\n",
       "      <td>20334747</td>\n",
       "      <td>2017-01-16T00:00:00</td>\n",
       "      <td>2017-02-01T00:00:00</td>\n",
       "      <td>MULTIPOLYGON (((-72.30848 -36.02083, -72.31363...</td>\n",
       "      <td>0.022110</td>\n",
       "    </tr>\n",
       "  </tbody>\n",
       "</table>\n",
       "</div>"
      ],
      "text/plain": [
       "           Id          FechaInicio                    FechaFin  \\\n",
       "117  20334710  2017-01-18T00:00:00  2017-02-05T00:00:02.048000   \n",
       "303  20334783  2017-01-20T00:00:00         2017-02-06T00:00:00   \n",
       "393  20334692  2017-01-15T00:00:00         2017-02-03T00:00:00   \n",
       "214  20334677  2017-01-13T00:00:00         2017-01-29T00:00:00   \n",
       "224  20334747  2017-01-16T00:00:00         2017-02-01T00:00:00   \n",
       "\n",
       "                                              geometry      area  \n",
       "117  MULTIPOLYGON (((-71.92002 -35.65000, -71.92377...  0.171321  \n",
       "303  MULTIPOLYGON (((-72.80232 -36.61250, -72.80625...  0.056137  \n",
       "393  MULTIPOLYGON (((-71.92883 -34.80833, -71.93391...  0.055341  \n",
       "214  MULTIPOLYGON (((-71.60278 -34.56667, -71.60637...  0.042468  \n",
       "224  MULTIPOLYGON (((-72.30848 -36.02083, -72.31363...  0.022110  "
      ]
     },
     "execution_count": 17,
     "metadata": {},
     "output_type": "execute_result"
    }
   ],
   "source": [
    "df.head()"
   ]
  },
  {
   "cell_type": "code",
   "execution_count": 21,
   "metadata": {},
   "outputs": [
    {
     "data": {
      "text/plain": [
       "117    2017-01-18T00:00:00\n",
       "303    2017-01-20T00:00:00\n",
       "393    2017-01-15T00:00:00\n",
       "214    2017-01-13T00:00:00\n",
       "224    2017-01-16T00:00:00\n",
       "              ...         \n",
       "457    2016-10-25T00:00:00\n",
       "481    2017-05-27T00:00:00\n",
       "453    2017-05-29T00:00:00\n",
       "452    2017-05-29T00:00:00\n",
       "479    2017-05-27T00:00:00\n",
       "Name: FechaInicio, Length: 487, dtype: object"
      ]
     },
     "execution_count": 21,
     "metadata": {},
     "output_type": "execute_result"
    }
   ],
   "source": [
    "datetime.strdf['FechaInicio']"
   ]
  },
  {
   "cell_type": "code",
   "execution_count": 57,
   "metadata": {},
   "outputs": [],
   "source": [
    "# for i in list(range(2000,2023)):\n",
    "#     fire_boundary(i)"
   ]
  }
 ],
 "metadata": {
  "kernelspec": {
   "display_name": "Python 3",
   "language": "python",
   "name": "python3"
  },
  "language_info": {
   "codemirror_mode": {
    "name": "ipython",
    "version": 3
   },
   "file_extension": ".py",
   "mimetype": "text/x-python",
   "name": "python",
   "nbconvert_exporter": "python",
   "pygments_lexer": "ipython3",
   "version": "3.7.9"
  },
  "orig_nbformat": 4,
  "vscode": {
   "interpreter": {
    "hash": "a52339dcf69e14b46f653feba7b07f12d612c486846ee45f1b7fdc49d1492172"
   }
  }
 },
 "nbformat": 4,
 "nbformat_minor": 2
}
