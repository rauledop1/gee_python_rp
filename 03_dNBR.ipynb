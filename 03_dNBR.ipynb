{
 "cells": [
  {
   "cell_type": "code",
   "execution_count": 4,
   "metadata": {},
   "outputs": [],
   "source": [
    "import ee\n",
    "import geemap\n",
    "import time"
   ]
  },
  {
   "cell_type": "code",
   "execution_count": 5,
   "metadata": {},
   "outputs": [
    {
     "data": {
      "application/vnd.jupyter.widget-view+json": {
       "model_id": "8de82e596f6446499a3d56081c560f3c",
       "version_major": 2,
       "version_minor": 0
      },
      "text/plain": [
       "Map(center=[20, 0], controls=(WidgetControl(options=['position', 'transparent_bg'], widget=HBox(children=(Togg…"
      ]
     },
     "metadata": {},
     "output_type": "display_data"
    }
   ],
   "source": [
    "Map = geemap.Map()\n",
    "Map"
   ]
  },
  {
   "cell_type": "code",
   "execution_count": 6,
   "metadata": {},
   "outputs": [],
   "source": [
    "#for download files from araucaria update 05_Araucaria2gee\n",
    "\n",
    "predios = r'D:\\Raul Perez\\scripts2023\\Gee_Arauco\\data\\r20_2023\\id_1.shp'\n",
    "predios = geemap.shp_to_ee(predios)"
   ]
  },
  {
   "cell_type": "code",
   "execution_count": 7,
   "metadata": {},
   "outputs": [],
   "source": [
    "prefire_start = '2023-09-29'\n",
    "prefire_end = '2023-11-01'\n",
    "\n",
    "# Now set the same parameters for AFTER the fire.\n",
    "postfire_start = '2024-03-01'\n",
    "#postfire_end = time.strftime('%Y-%m-%d', time.localtime(time.time()))\n",
    "postfire_end = '2024-03-30'\n",
    "\n",
    "bufferfirms = 1\n",
    "\n",
    "# Define the cloud percentage threshold\n",
    "cloud_percentage_threshold = 10\n"
   ]
  },
  {
   "cell_type": "code",
   "execution_count": 8,
   "metadata": {},
   "outputs": [],
   "source": [
    "ImCol = 'COPERNICUS/S2_SR_HARMONIZED'\n",
    "# SPPP = 'projects/gl-for-gis-dsr/assets/images/Limite_SPPP'\n",
    "# firms = 'FIRMS'"
   ]
  },
  {
   "cell_type": "code",
   "execution_count": 9,
   "metadata": {},
   "outputs": [],
   "source": [
    "imagery = ee.ImageCollection(ImCol)\n",
    "# area = ee.FeatureCollection(SPPP)\n",
    "# firms = ee.ImageCollection(firms)"
   ]
  },
  {
   "cell_type": "code",
   "execution_count": 100,
   "metadata": {},
   "outputs": [],
   "source": [
    "# fires_firms = ee.ImageCollection(firms\\\n",
    "#         .select('T21')\\\n",
    "#         .filterDate(prefire_start,postfire_end)\\\n",
    "#         .filterBounds(area)) \n",
    "# fires_firmsmx = fires_firms.max().clip(area).subtract(273.15)\n",
    "# fires_firmsrc = fires_firmsmx.gte(80).add(fires_firmsmx.gte(100)).add(fires_firmsmx.gte(150))\n",
    "# fires_firmsvc= fires_firmsrc.reduceToVectors(**{\n",
    "#   'geometry':area,\n",
    "#   'crs': 'EPSG:32718',\n",
    "#   'scale':500,\n",
    "#   'geometryType':'polygon',\n",
    "#   'eightConnected': False,\n",
    "#   'bestEffort':False,\n",
    "#   'maxPixels':9e10,\n",
    "# }\n",
    "#   )\n",
    "\n",
    "# fires_firmsvc=ee.FeatureCollection(fires_firmsvc.toList(fires_firmsvc.size()))\n",
    "# fires_firmsvc = fires_firmsvc.map(lambda f: f.buffer(bufferfirms))\n",
    "# fires_firmsvc = fires_firmsvc.union()"
   ]
  },
  {
   "cell_type": "code",
   "execution_count": 10,
   "metadata": {},
   "outputs": [],
   "source": [
    "\n",
    "def addNBR_s2h(image):\n",
    "    nbr = image.normalizedDifference(['B8', 'B12']).rename(\"nbr\")\n",
    "    image = image.addBands(nbr)\n",
    "    return image\n",
    "\n",
    "prefireImCol = ee.ImageCollection(imagery \\\n",
    "    .filterDate(prefire_start, prefire_end) \\\n",
    "    .filterBounds(predios))\\\n",
    "    .filterMetadata('CLOUDY_PIXEL_PERCENTAGE','less_than',cloud_percentage_threshold)\\\n",
    "    .map(addNBR_s2h)\n",
    "\n",
    "postfireImCol = ee.ImageCollection(imagery \\\n",
    "    .filterDate(postfire_start, postfire_end) \\\n",
    "    .filterBounds(predios))\\\n",
    "    .filterMetadata('CLOUDY_PIXEL_PERCENTAGE','less_than',cloud_percentage_threshold)\\\n",
    "    .map(addNBR_s2h)\n",
    "\n",
    "# Function to mask clouds from the pixel quality band of Sentinel-2 SR data.\n",
    "def maskS2sr(image):\n",
    "  # Bits 10 and 11 are clouds and cirrus, respectively.\n",
    "  cloudBitMask = ee.Number(2).pow(10).int()\n",
    "  cirrusBitMask = ee.Number(2).pow(11).int()\n",
    "  # Get the pixel QA band.\n",
    "  qa = image.select('QA60')\n",
    "  # All flags should be set to zero, indicating clear conditions.\n",
    "  mask = qa.bitwiseAnd(cloudBitMask).eq(0) \\\n",
    "      .And(qa.bitwiseAnd(cirrusBitMask).eq(0))\n",
    "  # Return the masked image, scaled to TOA reflectance, without the QA bands.\n",
    "  return image.updateMask(mask) \\\n",
    "      .copyProperties(image, [\"system:time_start\"])\n",
    "\n",
    "prefire_CM_ImCol = prefireImCol.map(maskS2sr)\n",
    "postfire_CM_ImCol = postfireImCol.map(maskS2sr)\n",
    "\n",
    "pre_cm_mos = prefire_CM_ImCol.min().clip(predios)\n",
    "post_cm_mos = postfire_CM_ImCol.mosaic().clip(predios)\n",
    "\n",
    "\n",
    "preNBR = pre_cm_mos.select('nbr')\n",
    "postNBR = post_cm_mos.select('nbr')\n",
    "\n",
    "dNBR_withoutsmooth = preNBR.subtract(postNBR)\n",
    "dNBR_unscaled = dNBR_withoutsmooth.reduceNeighborhood(\n",
    "    reducer=ee.Reducer.mean(),\n",
    "    kernel=ee.Kernel.gaussian(radius=3),\n",
    ")\n",
    "#dNBR_unscaled=dNBR_unscaled.clip(r20)\n",
    "dNBR_reclass = dNBR_unscaled.gte(-0.5).add(dNBR_unscaled.gte(-0.25)).add(dNBR_unscaled.gte(-0.1)).add(dNBR_unscaled.gte(0.1)).add(dNBR_unscaled.gte(0.27)).add(dNBR_unscaled.gte(0.44)).add(dNBR_unscaled.gte(0.66))\n",
    "#dNBR_Seguro = dNBR_unscaled.gte(0.27)\n",
    "\n",
    "\n",
    "# dNBR_unscaled = preNBR.subtract(postNBR)\n",
    "# dNBR_reclass = dNBR_unscaled.gte(-0.5).add(dNBR_unscaled.gte(-0.25)).add(dNBR_unscaled.gte(-0.1)).add(dNBR_unscaled.gte(0.1)).add(dNBR_unscaled.gte(0.27)).add(dNBR_unscaled.gte(0.44)).add(dNBR_unscaled.gte(0.66))\n",
    "# #dNBR_Seguro = dNBR_unscaled.gte(0.27)\n",
    "\n",
    "viz_dNBR={\n",
    "  'min':1,\n",
    "  'max':7,#\"#7a8737\",\"#acbe4d\",\"#0ae042\",\n",
    "  'palette':[\"#7a8737\",\"#acbe4d\",\"#0ae042\",\"#fff70b\",\"#ffaf38\",\"#ff641b\",\"#a41fd6\"]\n",
    "}"
   ]
  },
  {
   "cell_type": "code",
   "execution_count": 104,
   "metadata": {},
   "outputs": [],
   "source": [
    "# vizfalsoColor = {\n",
    "#   'bands': ['B8', 'B4', 'B3'],\n",
    "#   'min': 700,\n",
    "#   'max': 4000,\n",
    "#   'gamma': [0.95, 1, 1]\n",
    "# }\n",
    "# Map.addLayer(post_cm_mos,vizfalsoColor,\"Post - Fire FalsoColor\")\n",
    "# vizfalsoColor = {\n",
    "#   'bands': ['B8', 'B4', 'B3'],\n",
    "#   'min': 700,\n",
    "#   'max': 4000,\n",
    "#   'gamma': [0.95, 1, 1]\n",
    "# }\n",
    "# Map.addLayer(pre_cm_mos,vizfalsoColor,\"Pre fire - FalsoColor\")\n",
    "# Map.layers"
   ]
  },
  {
   "cell_type": "code",
   "execution_count": 11,
   "metadata": {},
   "outputs": [
    {
     "ename": "NameError",
     "evalue": "name 'dissolve_by_attribute' is not defined",
     "output_type": "error",
     "traceback": [
      "\u001b[1;31m---------------------------------------------------------------------------\u001b[0m",
      "\u001b[1;31mNameError\u001b[0m                                 Traceback (most recent call last)",
      "\u001b[1;32m~\\AppData\\Local\\Temp\\9\\ipykernel_18964\\1206793408.py\u001b[0m in \u001b[0;36m<module>\u001b[1;34m\u001b[0m\n\u001b[0;32m     11\u001b[0m )\n\u001b[0;32m     12\u001b[0m \u001b[1;33m\u001b[0m\u001b[0m\n\u001b[1;32m---> 13\u001b[1;33m \u001b[0mdissolved_polygon_fc\u001b[0m \u001b[1;33m=\u001b[0m \u001b[0mdissolve_by_attribute\u001b[0m\u001b[1;33m(\u001b[0m\u001b[0mdNBR_vector\u001b[0m\u001b[1;33m,\u001b[0m \u001b[1;34m'id_dano'\u001b[0m\u001b[1;33m)\u001b[0m\u001b[1;33m\u001b[0m\u001b[1;33m\u001b[0m\u001b[0m\n\u001b[0m\u001b[0;32m     14\u001b[0m     \u001b[1;31m#.filterMetadata('label', 'greater_than', 3)\u001b[0m\u001b[1;33m\u001b[0m\u001b[1;33m\u001b[0m\u001b[1;33m\u001b[0m\u001b[0m\n\u001b[0;32m     15\u001b[0m \u001b[1;33m\u001b[0m\u001b[0m\n",
      "\u001b[1;31mNameError\u001b[0m: name 'dissolve_by_attribute' is not defined"
     ]
    }
   ],
   "source": [
    "dNBR_vector= dNBR_reclass.reduceToVectors(**{\n",
    "'geometry':predios,\n",
    "'crs': 'EPSG:32718',\n",
    "'scale':10,\n",
    "'geometryType':'polygon',\n",
    "'eightConnected': False,\n",
    "'bestEffort':False,\n",
    "'maxPixels':9e10,\n",
    "'labelProperty': 'id_dano',\n",
    "}\n",
    ")\n",
    "\n",
    "dissolved_polygon_fc = dissolve_by_attribute(dNBR_vector, 'id_dano')\n",
    "    #.filterMetadata('label', 'greater_than', 3)\n",
    "\n",
    "\n",
    "dNDBR_export=ee.FeatureCollection(dissolved_polygon_fc.toList(dNBR_vector.size()))\n",
    "#Dissolve the simplified polygons and reduce file size\n",
    "\n",
    "geemap.ee_export_vector_to_drive(\n",
    "    dNDBR_export, description=\"dNBR_2023_postfire_10m_1\", fileFormat='GeoJSON', folder=\"dNBR\"\n",
    ")"
   ]
  },
  {
   "cell_type": "code",
   "execution_count": 12,
   "metadata": {},
   "outputs": [
    {
     "name": "stdout",
     "output_type": "stream",
     "text": [
      "_getfullpathname: path should be string, bytes or os.PathLike, not FeatureCollection\n"
     ]
    }
   ],
   "source": [
    "predios = geemap.shp_to_ee(predios)\n",
    "def addNBR_s2h(image):\n",
    "    nbr = image.normalizedDifference(['B8', 'B12']).rename(\"nbr\")\n",
    "    image = image.addBands(nbr)\n",
    "    return image\n",
    "\n",
    "prefireImCol = ee.ImageCollection(imagery \\\n",
    "    .filterDate(prefire_start, prefire_end) \\\n",
    "    .filterBounds(predios))\\\n",
    "    .filterMetadata('CLOUDY_PIXEL_PERCENTAGE','less_than',cloud_percentage_threshold)\\\n",
    "    .map(addNBR_s2h)\n",
    "\n",
    "postfireImCol = ee.ImageCollection(imagery \\\n",
    "    .filterDate(postfire_start, postfire_end) \\\n",
    "    .filterBounds(predios))\\\n",
    "    .filterMetadata('CLOUDY_PIXEL_PERCENTAGE','less_than',cloud_percentage_threshold)\\\n",
    "    .map(addNBR_s2h)\n",
    "\n",
    "# Function to mask clouds from the pixel quality band of Sentinel-2 SR data.\n",
    "def maskS2sr(image):\n",
    "    # Bits 10 and 11 are clouds and cirrus, respectively.\n",
    "    cloudBitMask = ee.Number(2).pow(10).int()\n",
    "    cirrusBitMask = ee.Number(2).pow(11).int()\n",
    "    # Get the pixel QA band.\n",
    "    qa = image.select('QA60')\n",
    "    # All flags should be set to zero, indicating clear conditions.\n",
    "    mask = qa.bitwiseAnd(cloudBitMask).eq(0) \\\n",
    "        .And(qa.bitwiseAnd(cirrusBitMask).eq(0))\n",
    "    # Return the masked image, scaled to TOA reflectance, without the QA bands.\n",
    "    return image.updateMask(mask) \\\n",
    "        .copyProperties(image, [\"system:time_start\"])\n"
   ]
  },
  {
   "cell_type": "code",
   "execution_count": 121,
   "metadata": {},
   "outputs": [
    {
     "name": "stdout",
     "output_type": "stream",
     "text": [
      "134\n",
      "Exporting dNBR_2023_postfire_10m_134... Please check the Task Manager from the JavaScript Code Editor.\n"
     ]
    }
   ],
   "source": [
    "for i in range(134,135):\n",
    "    print(i)\n",
    "    #for download files from araucaria update 05_Araucaria2gee\n",
    "\n",
    "    predios = f'D:/Raul Perez/scripts2023/Gee_Arauco/data/r20_2023/id_{i}.shp'\n",
    "    predios = geemap.shp_to_ee(predios)\n",
    "\n",
    "    prefireImCol = ee.ImageCollection(imagery \\\n",
    "        .filterDate(prefire_start, prefire_end) \\\n",
    "        .filterBounds(predios))\\\n",
    "        .filterMetadata('CLOUDY_PIXEL_PERCENTAGE','less_than',cloud_percentage_threshold)\\\n",
    "        .map(addNBR_s2h)\n",
    "\n",
    "    postfireImCol = ee.ImageCollection(imagery \\\n",
    "        .filterDate(postfire_start, postfire_end) \\\n",
    "        .filterBounds(predios))\\\n",
    "        .filterMetadata('CLOUDY_PIXEL_PERCENTAGE','less_than',cloud_percentage_threshold)\\\n",
    "        .map(addNBR_s2h)\n",
    "\n",
    "    prefire_CM_ImCol = prefireImCol.map(maskS2sr)\n",
    "    postfire_CM_ImCol = postfireImCol.map(maskS2sr)\n",
    "\n",
    "    pre_cm_mos = prefire_CM_ImCol.min().clip(predios)\n",
    "    post_cm_mos = postfire_CM_ImCol.mosaic().clip(predios)\n",
    "\n",
    "\n",
    "    preNBR = pre_cm_mos.select('nbr')\n",
    "    postNBR = post_cm_mos.select('nbr')\n",
    "\n",
    "    dNBR_withoutsmooth = preNBR.subtract(postNBR)\n",
    "    dNBR_unscaled = dNBR_withoutsmooth.reduceNeighborhood(\n",
    "        reducer=ee.Reducer.mean(),\n",
    "        kernel=ee.Kernel.gaussian(radius=3),\n",
    "    )\n",
    "    #dNBR_unscaled=dNBR_unscaled.clip(r20)\n",
    "    dNBR_reclass = dNBR_unscaled.gte(-0.5).add(dNBR_unscaled.gte(-0.25)).add(dNBR_unscaled.gte(-0.1)).add(dNBR_unscaled.gte(0.1)).add(dNBR_unscaled.gte(0.27)).add(dNBR_unscaled.gte(0.44)).add(dNBR_unscaled.gte(0.66))\n",
    "    #dNBR_Seguro = dNBR_unscaled.gte(0.27)\n",
    "\n",
    "    dNBR_vector= dNBR_reclass.reduceToVectors(**{\n",
    "    'geometry':predios,\n",
    "    'crs': 'EPSG:32718',\n",
    "    'scale':15,\n",
    "    'geometryType':'polygon',\n",
    "    'eightConnected': False,\n",
    "    'bestEffort':False,\n",
    "    'maxPixels':9e10,\n",
    "    'labelProperty': 'id_dano',\n",
    "    }\n",
    "    )\n",
    "\n",
    "\n",
    "\n",
    "    dNDBR_export=ee.FeatureCollection(dNBR_vector.toList(dNBR_vector.size()))\n",
    "    #Dissolve the simplified polygons and reduce file size\n",
    "\n",
    "    geemap.ee_export_vector_to_drive(\n",
    "        dNDBR_export, description=f\"dNBR_2023_postfire_10m_{i}\", fileFormat='GeoJSON', folder=\"dNBR\"\n",
    "    )"
   ]
  }
 ],
 "metadata": {
  "kernelspec": {
   "display_name": "Python 3",
   "language": "python",
   "name": "python3"
  },
  "language_info": {
   "codemirror_mode": {
    "name": "ipython",
    "version": 3
   },
   "file_extension": ".py",
   "mimetype": "text/x-python",
   "name": "python",
   "nbconvert_exporter": "python",
   "pygments_lexer": "ipython3",
   "version": "3.7.9"
  },
  "orig_nbformat": 4,
  "vscode": {
   "interpreter": {
    "hash": "a52339dcf69e14b46f653feba7b07f12d612c486846ee45f1b7fdc49d1492172"
   }
  }
 },
 "nbformat": 4,
 "nbformat_minor": 2
}
