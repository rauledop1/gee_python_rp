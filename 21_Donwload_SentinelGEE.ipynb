{
 "cells": [
  {
   "cell_type": "code",
   "execution_count": 9,
   "metadata": {},
   "outputs": [],
   "source": [
    "import ee\n",
    "import logging\n",
    "import multiprocessing\n",
    "import requests\n",
    "import shutil\n",
    "from retry import retry\n",
    "\n",
    "\n",
    "\"\"\"\n",
    "This tool demonstrates extracting data from Earth Engine using parallel\n",
    "request and getThumbURL.\n",
    "\"\"\"\n",
    "\n",
    "ee.Initialize()"
   ]
  },
  {
   "cell_type": "code",
   "execution_count": null,
   "metadata": {},
   "outputs": [],
   "source": [
    "def getRequests():\n",
    "  \"\"\"Generates a list of work items to be downloaded.\n",
    "  Produces 1000 random points in each of the RESOLVE ecoregions in the ROI.\n",
    "  \"\"\"\n",
    "  # Get our ROI from the GAUL regions\n",
    "  gaul = ee.FeatureCollection('FAO/GAUL/2015/level1')\n",
    "  roi = gaul.filter('ADM1_NAME == \"Colorado\"').first().geometry()\n",
    "\n",
    "  # To stratify by RESOLVE ecoregion, paint the ECO_IDs into an image.\n",
    "  resolve = ee.FeatureCollection('RESOLVE/ECOREGIONS/2017')\n",
    "  ecoregions = (resolve.reduceToImage(['ECO_ID'], ee.Reducer.first())\n",
    "                .clip(roi).rename('ECO_ID'))\n",
    "  points = ecoregions.stratifiedSample(\n",
    "      numPoints=1000,\n",
    "      classBand='ECO_ID',\n",
    "      region=roi,\n",
    "      scale=100,\n",
    "      geometries=True)\n",
    "\n",
    "  return points.aggregate_array('.geo').getInfo()\n",
    "\n",
    "\n",
    "@retry(tries=10, delay=1, backoff=2)\n",
    "def getResult(index, point):\n",
    "  \"\"\"Handle the HTTP requests to download an image.\"\"\"\n",
    "\n",
    "  # Generate the desired image from the given point.\n",
    "  point = ee.Geometry.Point(point['coordinates'])\n",
    "  region = point.buffer(127).bounds()\n",
    "  image = (ee.ImageCollection('USDA/NAIP/DOQQ')\n",
    "           .filterBounds(region)\n",
    "           .filterDate('2019', '2020')\n",
    "           .mosaic()\n",
    "           .clip(region)\n",
    "           .select('R', 'G', 'B'))\n",
    "\n",
    "  # Fetch the URL from which to download the image.\n",
    "  url = image.getThumbURL({\n",
    "      'region': region,\n",
    "      'dimensions': '256x256',\n",
    "      'format': 'png'})\n",
    "\n",
    "  # Handle downloading the actual pixels.\n",
    "  r = requests.get(url, stream=True)\n",
    "  if r.status_code != 200:\n",
    "    r.raise_for_status()\n",
    "\n",
    "  filename = 'tile_%05d.png' % index\n",
    "  with open(filename, 'wb') as out_file:\n",
    "    shutil.copyfileobj(r.raw, out_file)\n",
    "  print(\"Done: \", index)\n",
    "\n"
   ]
  },
  {
   "cell_type": "code",
   "execution_count": null,
   "metadata": {},
   "outputs": [],
   "source": [
    "if __name__ == '__main__':\n",
    "  logging.basicConfig()\n",
    "  items = getRequests()\n",
    "\n",
    "  pool = multiprocessing.Pool(25)\n",
    "  pool.starmap(getResult, enumerate(items))\n",
    "\n",
    "  pool.close()"
   ]
  }
 ],
 "metadata": {
  "kernelspec": {
   "display_name": "Python 3",
   "language": "python",
   "name": "python3"
  },
  "language_info": {
   "codemirror_mode": {
    "name": "ipython",
    "version": 3
   },
   "file_extension": ".py",
   "mimetype": "text/x-python",
   "name": "python",
   "nbconvert_exporter": "python",
   "pygments_lexer": "ipython3",
   "version": "3.7.9"
  },
  "orig_nbformat": 4
 },
 "nbformat": 4,
 "nbformat_minor": 2
}
