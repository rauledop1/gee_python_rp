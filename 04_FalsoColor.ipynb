{
 "cells": [
  {
   "cell_type": "code",
   "execution_count": 1,
   "metadata": {},
   "outputs": [],
   "source": [
    "import ee\n",
    "import geemap\n",
    "import time\n",
    "import requests\n",
    "import json\n",
    "import os\n",
    "from geemap import geojson_to_ee, ee_to_geojson\n",
    "from ipyleaflet import GeoJSON\n",
    "import geopandas as gpd\n",
    "import topojson as tp"
   ]
  },
  {
   "cell_type": "code",
   "execution_count": 2,
   "metadata": {},
   "outputs": [],
   "source": [
    "#ee.Authenticate()\n",
    "#geemap.ee_search()\n",
    "ee.Initialize()\n",
    "Map = geemap.Map()"
   ]
  },
  {
   "cell_type": "code",
   "execution_count": 5,
   "metadata": {},
   "outputs": [],
   "source": [
    "token='l4AhfSSNaySzhXPwpmjyY557ymEHhKbxI358fVHUXWlbSaFPaB2Zv-QLDmUpXW8io3Ofkxt2ZX_K03ob6TeLxIUp5_qxYL2-Qw8wPOVxdYmw3GHvxX_2ntfN3N5-QcmshXvfSmkW4qYgrArFcziPTfOUA8DRZE1RpYVxSJqgOL6rUq6KzBzkJ3TxRqczBLlHMoMihFBV_XnPoUFA1Qo0Zz4MJEUXX9hVt-ZaLWx1rOMHNwIwF7d57TilOQi-_ub_'\n",
    "r20='https://araucaria.arauco.com/server/rest/services/Hosted/Perimetro_R20_Oficiales_VERSION_IMAGENES/FeatureServer/0/query?where=objectid+%3E%3D0&objectIds=&time=&geometry=&geometryType=esriGeometryEnvelope&inSR=&spatialRel=esriSpatialRelIntersects&distance=&units=esriSRUnit_Foot&relationParam=&outFields=nom_r20&returnGeometry=true&maxAllowableOffset=&geometryPrecision=&outSR=&having=&gdbVersion=&historicMoment=&returnDistinctValues=false&returnIdsOnly=false&returnCountOnly=false&returnExtentOnly=false&orderByFields=&groupByFieldsForStatistics=&outStatistics=&returnZ=false&returnM=false&multipatchOption=xyFootprint&resultOffset=&resultRecordCount=&returnTrueCurves=false&returnCentroid=false&sqlFormat=none&resultType=&f=geojson&token='+token\n",
    "###token araucaria auth (160323)\n",
    "perimetro=\"data/r20.json\""
   ]
  },
  {
   "cell_type": "code",
   "execution_count": 6,
   "metadata": {},
   "outputs": [],
   "source": [
    "df = gpd.read_file(r20)\\\n",
    "        .to_crs('EPSG:32718')\\\n",
    "        .dissolve(by='nom_r20')\\\n",
    "        .geometry\\\n",
    "        .simplify(tolerance=5)\\\n",
    "        .to_crs('EPSG:4326')"
   ]
  },
  {
   "cell_type": "code",
   "execution_count": 7,
   "metadata": {},
   "outputs": [],
   "source": [
    "if os.path.exists(perimetro):\n",
    "    os.remove(perimetro)\n",
    "df.to_file(perimetro, driver=\"GeoJSON\")"
   ]
  },
  {
   "cell_type": "code",
   "execution_count": 8,
   "metadata": {},
   "outputs": [],
   "source": [
    "gdf = gpd.read_file(\n",
    "    perimetro\n",
    ")"
   ]
  },
  {
   "cell_type": "code",
   "execution_count": 9,
   "metadata": {},
   "outputs": [],
   "source": [
    "fc = geemap.geopandas_to_ee(gdf)"
   ]
  },
  {
   "cell_type": "code",
   "execution_count": 10,
   "metadata": {},
   "outputs": [],
   "source": [
    "prefire_start = '2022-07-01'\n",
    "prefire_end = '2022-12-31'\n",
    "\n",
    "# Now set the same parameters for AFTER the fire.\n",
    "postfire_start = '2022-12-01'\n",
    "#postfire_end = time.strftime('%Y-%m-%d', time.localtime(time.time()))\n",
    "postfire_end = '2023-02-18'"
   ]
  },
  {
   "cell_type": "code",
   "execution_count": 11,
   "metadata": {},
   "outputs": [],
   "source": [
    "vizfalsoColor = {\n",
    "  'bands': ['B8', 'B4B', 'B3'],\n",
    "  'min': 0 ,\n",
    "  'max': 0.35,\n",
    "  'gamma': [1, 1, 1]\n",
    "}\n",
    "\n",
    "vizfalsoColor2 = {\n",
    "  'bands': ['B8', 'B4', 'B3'],\n",
    "  'min': 0 ,\n",
    "  'max': 0.35,\n",
    "  'gamma': [1, 1, 1]\n",
    "}\n",
    "\n",
    "vizfire = {\n",
    "  'bands': ['B11', 'B8B', 'B4'],\n",
    "  'min': 0.17 ,\n",
    "  'max': 0.35,\n",
    "  'gamma': [1, 1, 1]\n",
    "}"
   ]
  },
  {
   "cell_type": "code",
   "execution_count": 12,
   "metadata": {},
   "outputs": [],
   "source": [
    "countries = ee.FeatureCollection('users/raulperezastorga/Limites_SPPP')\n",
    "roi = countries"
   ]
  },
  {
   "cell_type": "code",
   "execution_count": 13,
   "metadata": {},
   "outputs": [],
   "source": [
    "def addNBR(image):\n",
    "    nbr = image.normalizedDifference(['B8', 'B12']).rename(\"nbr\")\n",
    "    image = image.addBands(nbr)\n",
    "    return image"
   ]
  },
  {
   "cell_type": "code",
   "execution_count": 14,
   "metadata": {},
   "outputs": [],
   "source": [
    "def red2(image):\n",
    "    red= image.expression('(RED*1.3)',{'RED': image.select('B4') }).rename('B4B')\n",
    "    image = image.addBands(red)\n",
    "    return image"
   ]
  },
  {
   "cell_type": "code",
   "execution_count": 16,
   "metadata": {},
   "outputs": [],
   "source": [
    "def maskS2clouds(image):\n",
    "  qa = image.select('QA60')\n",
    "\n",
    "  # Bits 10 and 11 are clouds and cirrus, respectively.\n",
    "  cloudBitMask = 1 << 10\n",
    "  cirrusBitMask = 1 << 11\n",
    "\n",
    "  # Both flags should be set to zero, indicating clear conditions.\n",
    "  mask = qa.bitwiseAnd(cloudBitMask).eq(0).And(\n",
    "             qa.bitwiseAnd(cirrusBitMask).eq(0))\n",
    "\n",
    "  # Return the masked image, scaled to [0, 1].\n",
    "  return image.updateMask(mask).divide(10000)"
   ]
  },
  {
   "cell_type": "code",
   "execution_count": 17,
   "metadata": {},
   "outputs": [],
   "source": [
    "# Define a function to simplify the geometries in the feature collection\n",
    "def simplifyGeom(feature):\n",
    "  return feature.simplify(tolerance=50)"
   ]
  },
  {
   "cell_type": "code",
   "execution_count": 18,
   "metadata": {},
   "outputs": [],
   "source": [
    "# Define function to dissolve features based on an attribute name shared across all features (e.g., 'name')\n",
    "def dissolve_by_attribute(fc, attribute):\n",
    "    # Create a distinct list of attribute values for the given attribute name\n",
    "    attributes = fc.distinct(attribute).aggregate_array(attribute)\n",
    "    # Dissolve the polygons by each attribute value\n",
    "    dissolved_fc = ee.FeatureCollection(attributes.map(\n",
    "        lambda attr: ee.Feature(None, {\n",
    "            attribute: ee.String(attr),\n",
    "            'geometry': ee.Geometry.MultiPolygon(\n",
    "                fc.filter(ee.Filter.eq(attribute, attr)).geometry().dissolve())\n",
    "        })))\n",
    "    return dissolved_fc\n"
   ]
  },
  {
   "cell_type": "code",
   "execution_count": 19,
   "metadata": {},
   "outputs": [],
   "source": [
    "prefireImCol = ee.ImageCollection('COPERNICUS/S2_SR_HARMONIZED') \\\n",
    "                  .filterDate(prefire_start, prefire_end) \\\n",
    "                  .filter(ee.Filter.lt('CLOUDY_PIXEL_PERCENTAGE', 20)) \\\n",
    "                  .sort('CLOUDY_PIXEL_PERCENTAGE')\\\n",
    "                  .filterBounds(roi) \\\n",
    "                  .sort('system:time_start')\\\n",
    "                  .map(maskS2clouds)\\\n",
    "                  .map(addNBR)\n",
    "                  \n",
    "postfireImCol = ee.ImageCollection('COPERNICUS/S2_SR_HARMONIZED') \\\n",
    "                  .filterDate(postfire_start, postfire_end) \\\n",
    "                  .filter(ee.Filter.lt('CLOUDY_PIXEL_PERCENTAGE', 1)) \\\n",
    "                  .filterBounds(roi) \\\n",
    "                  .sort('system:time_start')\\\n",
    "                  .map(maskS2clouds)\\\n",
    "                  .map(addNBR)\\\n",
    "                  .map(red2)\n",
    "\n",
    "#HARMONIZE\n",
    "prefire = prefireImCol.max().clip(roi)\n",
    "postfire = postfireImCol.min().clip(roi)"
   ]
  },
  {
   "cell_type": "code",
   "execution_count": 20,
   "metadata": {},
   "outputs": [],
   "source": [
    "# firms = ee.ImageCollection('FIRMS')\n",
    "# fires_firms = ee.ImageCollection(firms\\\n",
    "#         .select('T21')\\\n",
    "#         .filterDate(prefire_start,postfire_end)\\\n",
    "#         .filterBounds(roi)) \n",
    "# fires_firmsmx = fires_firms.max().clip(roi).subtract(273.15)\n",
    "# fires_firmsrc = fires_firmsmx.gte(100)\n",
    "# fires_firmsvc= fires_firmsrc.reduceToVectors(**{\n",
    "#   'geometry':roi,\n",
    "#   'crs': 'EPSG:32718',\n",
    "#   'scale':500,\n",
    "#   'geometryType':'polygon',\n",
    "#   'eightConnected': False,\n",
    "#   'bestEffort':False,\n",
    "#   'maxPixels':9e10,\n",
    "# }\n",
    "#   )\n",
    "\n",
    "# r20=ee.FeatureCollection(fires_firmsvc.toList(fires_firmsvc.size()))\\\n",
    "#     .filterMetadata('label', 'greater_than', 0)\\\n",
    "#     .filterMetadata('count', 'greater_than', 10)\\\n",
    "#     .map(lambda f: f.buffer(500))\\\n",
    "#     .union()\\\n",
    "#     .geometry()\\\n",
    "#     .simplify(50)\n",
    "\n",
    "\n",
    "r20 = fc\\\n",
    "    .map(lambda f: f.buffer(500))\\\n",
    "    .union()"
   ]
  },
  {
   "cell_type": "code",
   "execution_count": 21,
   "metadata": {},
   "outputs": [],
   "source": [
    "preNBR = prefire.select('nbr')\n",
    "postNBR = postfire.select('nbr')\n",
    "dNBR_withoutsmooth = preNBR.subtract(postNBR)\n",
    "dNBR_unscaled = dNBR_withoutsmooth.reduceNeighborhood(\n",
    "    reducer=ee.Reducer.mean(),\n",
    "    kernel=ee.Kernel.gaussian(radius=5),\n",
    ")\n",
    "#dNBR_unscaled=dNBR_unscaled.clip(r20)\n",
    "dNBR_reclass = dNBR_unscaled.gte(-0.5).add(dNBR_unscaled.gte(-0.25)).add(dNBR_unscaled.gte(-0.1)).add(dNBR_unscaled.gte(0.1)).add(dNBR_unscaled.gte(0.27)).add(dNBR_unscaled.gte(0.44)).add(dNBR_unscaled.gte(0.66))\n",
    "#dNBR_Seguro = dNBR_unscaled.gte(0.27)\n",
    "\n",
    "viz_dNBR={\n",
    "  'min':1,\n",
    "  'max':7,#\"#7a8737\",\"#acbe4d\",\"#0ae042\",\n",
    "  'palette':[\"#7a8737\",\"#acbe4d\",\"#0ae042\",\"#fff70b\",\"#ffaf38\",\"#ff641b\",\"#a41fd6\"]\n",
    "}"
   ]
  },
  {
   "cell_type": "code",
   "execution_count": 22,
   "metadata": {},
   "outputs": [],
   "source": [
    "clip_fc= dNBR_reclass.clip(r20)"
   ]
  },
  {
   "cell_type": "code",
   "execution_count": 23,
   "metadata": {},
   "outputs": [
    {
     "data": {
      "application/vnd.jupyter.widget-view+json": {
       "model_id": "b91dad47bd9a422da4c6f97f526151d8",
       "version_major": 2,
       "version_minor": 0
      },
      "text/plain": [
       "Map(center=[20, 0], controls=(WidgetControl(options=['position', 'transparent_bg'], widget=HBox(children=(Togg…"
      ]
     },
     "metadata": {},
     "output_type": "display_data"
    }
   ],
   "source": [
    "Map = geemap.Map()\n",
    "Map"
   ]
  },
  {
   "cell_type": "code",
   "execution_count": 24,
   "metadata": {},
   "outputs": [],
   "source": [
    "Map.addLayer(postfire,vizfalsoColor,\"FalsoColor post\")\n",
    "#Map.addLayer(dNBR_reclass, viz_dNBR, 'dNBR Clase')\n",
    "#Map.addLayer(fc, {}, \"geopandas to ee\")\n",
    "#Map.addLayer(comp,vizfire,\"FalsoColor fire\")\n",
    "#Map.layers"
   ]
  },
  {
   "cell_type": "code",
   "execution_count": 25,
   "metadata": {},
   "outputs": [],
   "source": [
    "Map.addLayer(prefire,vizfalsoColor2,\"FalsoColor pre\")"
   ]
  },
  {
   "cell_type": "code",
   "execution_count": 26,
   "metadata": {},
   "outputs": [],
   "source": [
    "Map.addLayer(dNBR_reclass, viz_dNBR, 'dNBR Clase')"
   ]
  },
  {
   "cell_type": "code",
   "execution_count": 27,
   "metadata": {},
   "outputs": [],
   "source": [
    "Map.addLayer(clip_fc, viz_dNBR, 'dNBR Clase')"
   ]
  },
  {
   "cell_type": "code",
   "execution_count": 28,
   "metadata": {},
   "outputs": [],
   "source": [
    "Map.addLayer(fc, {}, \"geopandas to ee\")"
   ]
  },
  {
   "cell_type": "code",
   "execution_count": 29,
   "metadata": {},
   "outputs": [
    {
     "data": {
      "text/plain": [
       "(TileLayer(attribution='&copy; <a href=\"https://www.openstreetmap.org/copyright\">OpenStreetMap</a> contributors', base=True, max_zoom=19, min_zoom=1, name='OpenStreetMap.Mapnik', options=['attribution', 'bounds', 'detect_retina', 'max_native_zoom', 'max_zoom', 'min_native_zoom', 'min_zoom', 'no_wrap', 'tile_size', 'tms', 'zoom_offset'], url='https://tile.openstreetmap.org/{z}/{x}/{y}.png'),\n",
       " TileLayer(attribution='Google', max_zoom=22, name='Google Maps', options=['attribution', 'bounds', 'detect_retina', 'max_native_zoom', 'max_zoom', 'min_native_zoom', 'min_zoom', 'no_wrap', 'tile_size', 'tms', 'zoom_offset'], url='https://mt1.google.com/vt/lyrs=m&x={x}&y={y}&z={z}'),\n",
       " TileLayer(attribution='Google Earth Engine', max_zoom=24, name='FalsoColor post', options=['attribution', 'bounds', 'detect_retina', 'max_native_zoom', 'max_zoom', 'min_native_zoom', 'min_zoom', 'no_wrap', 'tile_size', 'tms', 'zoom_offset'], url='https://earthengine.googleapis.com/v1alpha/projects/earthengine-legacy/maps/f4f0b30d21bb781836908142222c0499-536f3732888b062df538d558325ccc19/tiles/{z}/{x}/{y}'),\n",
       " TileLayer(attribution='Google Earth Engine', max_zoom=24, name='FalsoColor pre', options=['attribution', 'bounds', 'detect_retina', 'max_native_zoom', 'max_zoom', 'min_native_zoom', 'min_zoom', 'no_wrap', 'tile_size', 'tms', 'zoom_offset'], url='https://earthengine.googleapis.com/v1alpha/projects/earthengine-legacy/maps/5efe9d89dbf0f52afbe85516c38117c6-67dfe35f7e35a3e34c4c67e831e0e889/tiles/{z}/{x}/{y}'),\n",
       " TileLayer(attribution='Google Earth Engine', max_zoom=24, name='dNBR Clase', options=['attribution', 'bounds', 'detect_retina', 'max_native_zoom', 'max_zoom', 'min_native_zoom', 'min_zoom', 'no_wrap', 'tile_size', 'tms', 'zoom_offset'], url='https://earthengine.googleapis.com/v1alpha/projects/earthengine-legacy/maps/9d8b28dfd59dfdfcae9e9ccad026cba0-bf8050b1e4c03141315332ef356ae2e8/tiles/{z}/{x}/{y}'),\n",
       " TileLayer(attribution='Google Earth Engine', max_zoom=24, name='geopandas to ee', options=['attribution', 'bounds', 'detect_retina', 'max_native_zoom', 'max_zoom', 'min_native_zoom', 'min_zoom', 'no_wrap', 'tile_size', 'tms', 'zoom_offset'], url='https://earthengine.googleapis.com/v1alpha/projects/earthengine-legacy/maps/5f1db7b2fc698272662d180fb96840f4-01290b8d55a53da0e380483cebf2af24/tiles/{z}/{x}/{y}'))"
      ]
     },
     "execution_count": 29,
     "metadata": {},
     "output_type": "execute_result"
    }
   ],
   "source": [
    "Map.layers"
   ]
  },
  {
   "cell_type": "code",
   "execution_count": 107,
   "metadata": {},
   "outputs": [
    {
     "name": "stdout",
     "output_type": "stream",
     "text": [
      "Exporting 2023-03-23_dNBR_mxmin_500m... Please check the Task Manager from the JavaScript Code Editor.\n"
     ]
    }
   ],
   "source": [
    "dNBR_vector= dNBR_reclass.reduceToVectors(**{\n",
    "'geometry':r20,\n",
    "'crs': 'EPSG:32718',\n",
    "'scale':30,\n",
    "'geometryType':'polygon',\n",
    "'eightConnected': False,\n",
    "'bestEffort':False,\n",
    "'maxPixels':9e10,\n",
    "'labelProperty': 'zone',\n",
    "}\n",
    ")\n",
    "dNDBR_export=ee.FeatureCollection(dNBR_vector.toList(dNBR_vector.size()))\n",
    "#Dissolve the simplified polygons and reduce file size\n",
    "dissolved_polygon_fc = dissolve_by_attribute(dNDBR_export, 'zone')\n",
    "\n",
    "    #.filterMetadata('label', 'greater_than', 3)\n",
    "geemap.ee_export_vector_to_drive(\n",
    "    dNDBR_export, description=postfire_end+\"_dNBR_mxmin_500m\", fileFormat='GeoJSON', folder=\"dNBR\"\n",
    ")\n",
    "\n"
   ]
  },
  {
   "cell_type": "code",
   "execution_count": 99,
   "metadata": {},
   "outputs": [],
   "source": [
    "# dNBR_vector= dNBR_reclass.reduceToVectors(**{\n",
    "# 'geometry':r20,\n",
    "# 'crs': 'EPSG:32718',\n",
    "# 'scale':20,\n",
    "# 'geometryType':'polygon',\n",
    "# 'eightConnected': False,\n",
    "# 'bestEffort':False,\n",
    "# 'maxPixels':9e10,\n",
    "# }\n",
    "# )\n",
    "# dNDBR_export=ee.FeatureCollection(dNBR_vector.toList(dNBR_vector.size()))\\\n",
    "#     .map(simplifyGeom)\n",
    "# # Dissolve the simplified polygons and reduce file size\n",
    "# dissolved_polygon_fc = dissolve_by_attribute(dNDBR_export, 'label')\n",
    "\n",
    "#     #.filterMetadata('label', 'greater_than', 3)\n",
    "# geemap.ee_export_vector_to_drive(\n",
    "#     dissolved_polygon_fc, description=postfire_end+\"_dNBR_500m\", fileFormat='GeoJSON', folder=\"dNBR\"\n",
    "# )\n",
    "\n"
   ]
  },
  {
   "cell_type": "code",
   "execution_count": 100,
   "metadata": {},
   "outputs": [],
   "source": [
    "# def export_drive(i):\n",
    "#   zona='{}'.format(i)\n",
    "#   area = ee.FeatureCollection('projects/gl-for-gis-dsr/assets/OrganizationalFeatures/Limite_SPPP_1')\\\n",
    "#       .filter(ee.Filter.equals(\"idzona\", int(zona)))\n",
    "#   dNBR_vector= dNBR_reclass.reduceToVectors(**{\n",
    "#     'geometry':area,\n",
    "#     'crs': 'EPSG:32718',\n",
    "#     'scale':30,\n",
    "#     'geometryType':'polygon',\n",
    "#     'eightConnected': False,\n",
    "#     'bestEffort':False,\n",
    "#     'maxPixels':9e10,\n",
    "#   }\n",
    "#     )\n",
    "#   dNDBR_export=ee.FeatureCollection(dNBR_vector.toList(dNBR_vector.size()))\n",
    "#   geemap.ee_export_vector_to_drive(\n",
    "#       dNBR_vector, description=postfire_end+\"_dNBR_\" + zona, fileFormat='GeoJSON', folder=\"dNBR\"\n",
    "#  )"
   ]
  },
  {
   "cell_type": "code",
   "execution_count": 101,
   "metadata": {},
   "outputs": [],
   "source": [
    "# export_drive(4)"
   ]
  },
  {
   "cell_type": "code",
   "execution_count": 102,
   "metadata": {},
   "outputs": [],
   "source": [
    "# for i in zona:\n",
    "#     export_drive(i)"
   ]
  },
  {
   "cell_type": "code",
   "execution_count": 103,
   "metadata": {},
   "outputs": [],
   "source": [
    "# dNBR_vector= dNBR_reclass.reduceToVectors(**{\n",
    "# 'geometry':r20,\n",
    "# 'crs': 'EPSG:32718',\n",
    "# 'scale':30,\n",
    "# 'geometryType':'polygon',\n",
    "# 'eightConnected': False,\n",
    "# 'bestEffort':False,\n",
    "# 'maxPixels':9e10,\n",
    "# }\n",
    "# )\n",
    "# dNDBR_export=ee.FeatureCollection(dNBR_vector.toList(dNBR_vector.size()))\\\n",
    "#     .filterMetadata('label', 'greater_than', 3)\n",
    "# geemap.ee_export_vector_to_cloud_storage(\n",
    "#     dNDBR_export, description=postfire_end+\"_dNBR\", fileFormat='csv',bucket='ee_geomatica'\n",
    "# )\n",
    "\n",
    "# def export_bucket(i):\n",
    "#     sppp='{}'.format(i)\n",
    "#     area = roi\\\n",
    "#         .filter(ee.Filter.equals(\"PaisajeID\", int(sppp)))\n",
    "#     dNBR_vector= dNBR_reclass.reduceToVectors(**{\n",
    "#     'geometry':area,\n",
    "#     'crs': 'EPSG:32718',\n",
    "#     'scale':20,\n",
    "#     'geometryType':'polygon',\n",
    "#     'eightConnected': False,\n",
    "#     'bestEffort':False,\n",
    "#     'maxPixels':9e10,\n",
    "#     }\n",
    "#     )\n",
    "#     dNDBR_export=ee.FeatureCollection(dNBR_vector.toList(dNBR_vector.size()))\n",
    "#     geemap.ee_export_vector_to_cloud_storage(\n",
    "#         dNBR_vector, description=postfire_end+\"_dNBR_\" + str(sppp), fileFormat='SHP',bucket='bck-gl-for-gis-dsr-tfstate/EE_prueba/02_dNBR_vector'\n",
    "#     )"
   ]
  },
  {
   "cell_type": "code",
   "execution_count": 104,
   "metadata": {},
   "outputs": [],
   "source": [
    "# ppp=list(range(21,23))\n",
    "# for i in ppp:\n",
    "#     export_drive(i)"
   ]
  },
  {
   "cell_type": "code",
   "execution_count": 105,
   "metadata": {},
   "outputs": [],
   "source": [
    "#geemap.ee_search()"
   ]
  }
 ],
 "metadata": {
  "kernelspec": {
   "display_name": "Python 3",
   "language": "python",
   "name": "python3"
  },
  "language_info": {
   "codemirror_mode": {
    "name": "ipython",
    "version": 3
   },
   "file_extension": ".py",
   "mimetype": "text/x-python",
   "name": "python",
   "nbconvert_exporter": "python",
   "pygments_lexer": "ipython3",
   "version": "3.7.9"
  },
  "orig_nbformat": 4,
  "vscode": {
   "interpreter": {
    "hash": "a52339dcf69e14b46f653feba7b07f12d612c486846ee45f1b7fdc49d1492172"
   }
  }
 },
 "nbformat": 4,
 "nbformat_minor": 2
}
