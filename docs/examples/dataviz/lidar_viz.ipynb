{
  "cells": [
    {
      "cell_type": "markdown",
      "metadata": {
        "id": "dcHpVkECaL0g"
      },
      "source": [
        "[![image](https://studiolab.sagemaker.aws/studiolab.svg)](https://studiolab.sagemaker.aws/import/github/opengeos/geoai/blob/main/docs/examples/dataviz/lidar_viz.ipynb)\n",
        "[![image](https://img.shields.io/badge/Open-Planetary%20Computer-black?style=flat&logo=microsoft)](https://pccompute.westeurope.cloudapp.azure.com/compute/hub/user-redirect/git-pull?repo=https://github.com/opengeos/geoai&urlpath=lab/tree/geoai/docs/examples/dataviz/lidar_viz.ipynb&branch=main)\n",
        "[![image](https://colab.research.google.com/assets/colab-badge.svg)](https://githubtocolab.com/opengeos/geoai/blob/main/docs/examples/dataviz/lidar_viz.ipynb)\n",
        "\n",
        "# Visualizing LiDAR Data with Leafmap\n",
        "\n",
        "This notebook demonstrates how to visualize LiDAR data using [leafmap](https://leafmap.org).\n",
        "\n",
        "## Installation\n",
        "\n",
        "Uncomment and run the following cell to install the required Python packages."
      ],
      "id": "dcHpVkECaL0g"
    },
    {
      "cell_type": "code",
      "execution_count": null,
      "metadata": {
        "id": "XHzOACTxaL0l",
        "outputId": "36143d2c-c783-49af-a781-0314b4a8c704",
        "colab": {
          "base_uri": "https://localhost:8080/"
        }
      },
      "outputs": [
        {
          "output_type": "stream",
          "name": "stdout",
          "text": [
            "Collecting leafmap[lidar]\n",
            "  Downloading leafmap-0.35.10-py2.py3-none-any.whl (1.9 MB)\n",
            "\u001b[2K     \u001b[90m━━━━━━━━━━━━━━━━━━━━━━━━━━━━━━━━━━━━━━━━\u001b[0m \u001b[32m1.9/1.9 MB\u001b[0m \u001b[31m9.2 MB/s\u001b[0m eta \u001b[36m0:00:00\u001b[0m\n",
            "\u001b[?25hCollecting open3d\n",
            "  Downloading open3d-0.18.0-cp310-cp310-manylinux_2_27_x86_64.whl (399.7 MB)\n",
            "\u001b[2K     \u001b[91m━━━━━━━━━━━━━━━━━━━━━━━━━━━━━━━━\u001b[0m\u001b[91m╸\u001b[0m\u001b[90m━━━━━━━\u001b[0m \u001b[32m328.9/399.7 MB\u001b[0m \u001b[31m77.4 MB/s\u001b[0m eta \u001b[36m0:00:01\u001b[0m"
          ]
        }
      ],
      "source": [
        "%pip install \"leafmap[lidar]\" open3d"
      ],
      "id": "XHzOACTxaL0l"
    },
    {
      "cell_type": "markdown",
      "metadata": {
        "id": "t7XA0wUBaL0m"
      },
      "source": [
        "## Import libraries"
      ],
      "id": "t7XA0wUBaL0m"
    },
    {
      "cell_type": "code",
      "execution_count": null,
      "metadata": {
        "id": "zjFx3pOXaL0n"
      },
      "outputs": [],
      "source": [
        "import leafmap"
      ],
      "id": "zjFx3pOXaL0n"
    },
    {
      "cell_type": "markdown",
      "metadata": {
        "id": "d35ySM4CaL0n"
      },
      "source": [
        "## Download data"
      ],
      "id": "d35ySM4CaL0n"
    },
    {
      "cell_type": "markdown",
      "metadata": {
        "id": "JOlyBhOMaL0n"
      },
      "source": [
        "Download a [sample LiDAR dataset](https://drive.google.com/file/d/1H_X1190vL63BoFYa_cVBDxtIa8rG-Usb/view?usp=sharing) from Google Drive. The zip file is 52.1 MB and the uncompressed LAS file is 109 MB."
      ],
      "id": "JOlyBhOMaL0n"
    },
    {
      "cell_type": "code",
      "execution_count": null,
      "metadata": {
        "id": "y3pXEGKHaL0o"
      },
      "outputs": [],
      "source": [
        "url = 'https://open.gishub.org/data/lidar/madison.zip'\n",
        "filename = 'madison.las'"
      ],
      "id": "y3pXEGKHaL0o"
    },
    {
      "cell_type": "code",
      "execution_count": null,
      "metadata": {
        "id": "-UUffxTYaL0o"
      },
      "outputs": [],
      "source": [
        "leafmap.download_file(url, 'madison.zip', unzip=True)"
      ],
      "id": "-UUffxTYaL0o"
    },
    {
      "cell_type": "markdown",
      "metadata": {
        "id": "hdQK3i52aL0p"
      },
      "source": [
        "## Metadata"
      ],
      "id": "hdQK3i52aL0p"
    },
    {
      "cell_type": "markdown",
      "metadata": {
        "id": "X2wCJv6MaL0p"
      },
      "source": [
        "Read the LiDAR data"
      ],
      "id": "X2wCJv6MaL0p"
    },
    {
      "cell_type": "code",
      "execution_count": null,
      "metadata": {
        "id": "wxGc0SweaL0q"
      },
      "outputs": [],
      "source": [
        "las = leafmap.read_lidar(filename)"
      ],
      "id": "wxGc0SweaL0q"
    },
    {
      "cell_type": "markdown",
      "metadata": {
        "id": "nfuUMiRMaL0q"
      },
      "source": [
        "The LAS header."
      ],
      "id": "nfuUMiRMaL0q"
    },
    {
      "cell_type": "code",
      "execution_count": null,
      "metadata": {
        "id": "zb5d013caL0q"
      },
      "outputs": [],
      "source": [
        "las.header"
      ],
      "id": "zb5d013caL0q"
    },
    {
      "cell_type": "markdown",
      "metadata": {
        "id": "DbGdV0q6aL0r"
      },
      "source": [
        "The number of points."
      ],
      "id": "DbGdV0q6aL0r"
    },
    {
      "cell_type": "code",
      "execution_count": null,
      "metadata": {
        "id": "gWMWHIhKaL0r"
      },
      "outputs": [],
      "source": [
        "las.header.point_count"
      ],
      "id": "gWMWHIhKaL0r"
    },
    {
      "cell_type": "markdown",
      "metadata": {
        "id": "jRfkwW7DaL0r"
      },
      "source": [
        "The list of features."
      ],
      "id": "jRfkwW7DaL0r"
    },
    {
      "cell_type": "code",
      "execution_count": null,
      "metadata": {
        "id": "A0IhozmsaL0r"
      },
      "outputs": [],
      "source": [
        "list(las.point_format.dimension_names)"
      ],
      "id": "A0IhozmsaL0r"
    },
    {
      "cell_type": "markdown",
      "metadata": {
        "id": "cmNvAnWtaL0r"
      },
      "source": [
        "## Read data"
      ],
      "id": "cmNvAnWtaL0r"
    },
    {
      "cell_type": "markdown",
      "metadata": {
        "id": "8sB0rNBOaL0s"
      },
      "source": [
        "Inspect data."
      ],
      "id": "8sB0rNBOaL0s"
    },
    {
      "cell_type": "code",
      "execution_count": null,
      "metadata": {
        "id": "EQZgvWbKaL0s"
      },
      "outputs": [],
      "source": [
        "las.X"
      ],
      "id": "EQZgvWbKaL0s"
    },
    {
      "cell_type": "code",
      "execution_count": null,
      "metadata": {
        "id": "rV7kIe--aL0s"
      },
      "outputs": [],
      "source": [
        "las.Y"
      ],
      "id": "rV7kIe--aL0s"
    },
    {
      "cell_type": "code",
      "execution_count": null,
      "metadata": {
        "id": "RFk7ydJRaL0s"
      },
      "outputs": [],
      "source": [
        "las.Z"
      ],
      "id": "RFk7ydJRaL0s"
    },
    {
      "cell_type": "code",
      "execution_count": null,
      "metadata": {
        "id": "qN__Uw97aL0t"
      },
      "outputs": [],
      "source": [
        "las.intensity"
      ],
      "id": "qN__Uw97aL0t"
    },
    {
      "cell_type": "markdown",
      "metadata": {
        "id": "dexTX1GraL0t"
      },
      "source": [
        "## PyVista\n",
        "\n",
        "Visualize LiDAR data using the [pyvista](https://github.com/pyvista/pyvista) backend."
      ],
      "id": "dexTX1GraL0t"
    },
    {
      "cell_type": "code",
      "execution_count": null,
      "metadata": {
        "id": "8dCpXne8aL0t"
      },
      "outputs": [],
      "source": [
        "leafmap.view_lidar(filename, cmap='terrain', backend='pyvista')"
      ],
      "id": "8dCpXne8aL0t"
    },
    {
      "cell_type": "markdown",
      "metadata": {
        "id": "gDtQx-ZcaL0t"
      },
      "source": [
        "![](https://i.imgur.com/xezcgMP.gif)"
      ],
      "id": "gDtQx-ZcaL0t"
    },
    {
      "cell_type": "markdown",
      "metadata": {
        "id": "mbIXTVugaL0t"
      },
      "source": [
        "## ipygany\n",
        "\n",
        "Visualize LiDAR data using the [ipygany](https://github.com/QuantStack/ipygany) backend."
      ],
      "id": "mbIXTVugaL0t"
    },
    {
      "cell_type": "code",
      "execution_count": null,
      "metadata": {
        "id": "Ql5bhOjkaL0t"
      },
      "outputs": [],
      "source": [
        "leafmap.view_lidar(filename, backend='ipygany', background='white')"
      ],
      "id": "Ql5bhOjkaL0t"
    },
    {
      "cell_type": "markdown",
      "metadata": {
        "id": "vFcuLm9GaL0t"
      },
      "source": [
        "![](https://i.imgur.com/MyMWW4I.gif)"
      ],
      "id": "vFcuLm9GaL0t"
    },
    {
      "cell_type": "markdown",
      "metadata": {
        "id": "vsn9UlZKaL0u"
      },
      "source": [
        "## Panel\n",
        "\n",
        "Visualize LiDAR data using the [panel](https://github.com/holoviz/panel) backend."
      ],
      "id": "vsn9UlZKaL0u"
    },
    {
      "cell_type": "code",
      "execution_count": null,
      "metadata": {
        "id": "lxEtNx37aL0u"
      },
      "outputs": [],
      "source": [
        "leafmap.view_lidar(filename, cmap='terrain', backend='panel', background='white')"
      ],
      "id": "lxEtNx37aL0u"
    },
    {
      "cell_type": "markdown",
      "metadata": {
        "id": "zVMJ2RCmaL0u"
      },
      "source": [
        "![](https://i.imgur.com/XQGWbJk.gif)"
      ],
      "id": "zVMJ2RCmaL0u"
    },
    {
      "cell_type": "markdown",
      "metadata": {
        "id": "I3UWgSi4aL0u"
      },
      "source": [
        "## Open3D\n",
        "\n",
        "Visualize LiDAR data using the [open3d](http://www.open3d.org) backend."
      ],
      "id": "I3UWgSi4aL0u"
    },
    {
      "cell_type": "code",
      "execution_count": null,
      "metadata": {
        "id": "QkGTfGi4aL0u"
      },
      "outputs": [],
      "source": [
        "leafmap.view_lidar(filename, backend='open3d')"
      ],
      "id": "QkGTfGi4aL0u"
    },
    {
      "cell_type": "markdown",
      "metadata": {
        "id": "e4sypi6caL0u"
      },
      "source": [
        "![](https://i.imgur.com/rL85fbl.gif)"
      ],
      "id": "e4sypi6caL0u"
    }
  ],
  "metadata": {
    "kernelspec": {
      "display_name": "geo",
      "language": "python",
      "name": "python3"
    },
    "language_info": {
      "codemirror_mode": {
        "name": "ipython",
        "version": 3
      },
      "file_extension": ".py",
      "mimetype": "text/x-python",
      "name": "python",
      "nbconvert_exporter": "python",
      "pygments_lexer": "ipython3",
      "version": "3.11.6"
    },
    "colab": {
      "provenance": []
    }
  },
  "nbformat": 4,
  "nbformat_minor": 5
}