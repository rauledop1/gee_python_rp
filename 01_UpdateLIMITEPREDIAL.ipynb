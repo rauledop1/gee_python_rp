{
 "cells": [
  {
   "cell_type": "code",
   "execution_count": 1,
   "metadata": {},
   "outputs": [],
   "source": [
    "import arcpy\n",
    "import time\n",
    "import zipfile\n",
    "import glob, os"
   ]
  },
  {
   "cell_type": "code",
   "execution_count": 2,
   "metadata": {},
   "outputs": [],
   "source": [
    "fecha=time.strftime('%Y%m%dT%H%M', time.localtime())\n",
    "predio='https://araucaria.arauco.com/server/rest/services/Demo/PrediosOnLine/FeatureServer/0'\n",
    "uso='https://araucaria.arauco.com/server/rest/services/Cosecha/UsoActual/FeatureServer/0'"
   ]
  },
  {
   "cell_type": "code",
   "execution_count": 3,
   "metadata": {},
   "outputs": [],
   "source": [
    "list_files=[\"D:\\\\Raul Perez\\\\Uso\\\\PREDIO\"+fecha+\".shp\",\"D:\\\\Raul Perez\\\\Uso\\\\PREDIO\"+fecha+\".dbf\",\"D:\\\\Raul Perez\\\\Uso\\\\PREDIO\"+fecha+\".prj\",\"D:\\\\Raul Perez\\\\Uso\\\\PREDIO\"+fecha+\".shx\"]"
   ]
  },
  {
   "cell_type": "code",
   "execution_count": 4,
   "metadata": {},
   "outputs": [
    {
     "data": {
      "text/plain": [
       "<Result 'D:\\\\Raul Perez\\\\Uso\\\\PREDIO20230202T1149.shp'>"
      ]
     },
     "execution_count": 4,
     "metadata": {},
     "output_type": "execute_result"
    }
   ],
   "source": [
    "arcpy.conversion.FeatureClassToFeatureClass(predio, r\"D:\\Raul Perez\\Uso\", \"PREDIO\"+fecha+\".shp\", '', 'IDPREDIO \"IDPREDIO\" true true false 0 Long 0 0,First,#,PrediosOnLine,IDPREDIO,-1,-1;PREDIO \"Predio\" true true false 269 Text 0 0,First,#,PrediosOnLine,PREDIO,0,269;ZONA \"Zona\" true true false 255 Text 0 0,First,#,PrediosOnLine,ZONA,0,255;IDAREA \"IDAREA\" true true false 0 Long 0 0,First,#,PrediosOnLine,IDAREA,-1,-1;NOMBREAREA \"NOMBREAREA\" true true false 255 Text 0 0,First,#,PrediosOnLine,NOMBREAREA,0,255;SUPERFICIE \"Superficie_Ha\" true true false 0 Double 0 0,First,#,PrediosOnLine,SUPERFICIE_HA,-1,-1;REGION \"REGION\" true true false 255 Text 0 0,First,#,PrediosOnLine,REGION,0,255;PROVINCIA \"Provincia\" true true false 255 Text 0 0,First,#,PrediosOnLine,PROVINCIA,0,255;COMUNA \"Comuna\" true true false 50 Text 0 0,First,#,PrediosOnLine,COMUNA,0,50;REGIMENDOM \"REGIMENDOMINIO\" true true false 255 Text 0 0,First,#,PrediosOnLine,REGIMENDOMINIO,0,255', '')"
   ]
  },
  {
   "cell_type": "code",
   "execution_count": 5,
   "metadata": {},
   "outputs": [],
   "source": [
    "with zipfile.ZipFile(\"D:\\\\Raul Perez\\\\Uso\\\\PREDIO_\"+fecha+\".zip\", 'w') as zipMe:        \n",
    "    for file in list_files:\n",
    "        zipMe.write(file, compress_type=zipfile.ZIP_DEFLATED)"
   ]
  },
  {
   "cell_type": "code",
   "execution_count": 6,
   "metadata": {},
   "outputs": [],
   "source": [
    "for f in glob.glob(\"D:\\\\Raul Perez\\\\Uso\\\\PREDIO\"+fecha+\".*\"):\n",
    "    os.remove(f)"
   ]
  },
  {
   "cell_type": "code",
   "execution_count": 7,
   "metadata": {},
   "outputs": [
    {
     "data": {
      "text/plain": [
       "<Result 'D:\\\\Raul Perez\\\\Uso\\\\USO20230202T1151.shp'>"
      ]
     },
     "execution_count": 7,
     "metadata": {},
     "output_type": "execute_result"
    }
   ],
   "source": [
    "fecha=time.strftime('%Y%m%dT%H%M', time.localtime())\n",
    "arcpy.conversion.FeatureClassToFeatureClass(uso, r\"D:\\Raul Perez\\Uso\", \"USO\"+fecha+\".shp\", '', \"IDPREDIO \"\"idPredio\"\" true true false 0 Long 0 0,First,#,UsoActual,IDPREDIO,-1,-1;IDRODAL \"\"idRodal\"\" true true false 0 Long 0 0,First,#,UsoActual,IDRODAL,-1,-1;IDTIPOUSO \"\"idTipoUso\"\" true true false 0 Long 0 0,First,#,UsoActual,IDTIPOUSO,-1,-1;IDUSOACTUA \"\"idUsoActual\"\" true true false 0 Long 0 0,First,#,UsoActual,IDUSOACTUAL,-1,-1;ANOPLANTAC \"\"anoPlantacion\"\" true true false 0 Long 0 0,First,#,UsoActual,ANOPLANTACION,-1,-1;GLOSALEGAD \"\"glosaLegada\"\" true true false 80 Text 0 0,First,#,UsoActual,GLOSALEGADA,0,80;MESPLANTAC \"\"mesPlantacion\"\" true true false 0 Long 0 0,First,#,UsoActual,MESPLANTACION,-1,-1;SUPERFICIE \"\"superficieHA\"\" true true false 0 Double 0 0,First,#,UsoActual,SUPERFICIEHA,-1,-1;TIPOUSO \"\"tipoUso\"\" true true false 50 Text 0 0,First,#,UsoActual,TIPOUSO,0,50;CLAVELEGAD \"\"claveLegada\"\" true true false 255 Text 0 0,First,#,UsoActual,CLAVELEGADA,0,255;PORCENTAJE \"\"porcentajePropiedad\"\" true true false 0 Double 0 0,First,#,UsoActual,PORCENTAJEPROPIEDAD,-1,-1;SECCION \"\"seccion\"\" true true false 0 Long 0 0,First,#,UsoActual,SECCION,-1,-1;JUSTMIN \"\"JUSTMIN\"\" true true false 0 Long 0 0,First,#,UsoActual,JUSTMIN,-1,-1;Shape__Are \"\"SHAPE.SHAPE.ST_Area('planar degree')\"\" false true false 0 Double 0 0,First,#,UsoActual,Shape__Area,-1,-1;Shape__Len \"\"SHAPE.ST_Perimeter('planar degree')\"\" false true false 0 Double 0 0,First,#,UsoActual,Shape__Length,-1,-1\", '')"
   ]
  },
  {
   "cell_type": "code",
   "execution_count": 8,
   "metadata": {},
   "outputs": [],
   "source": [
    "file_uso=[\"D:\\\\Raul Perez\\\\Uso\\\\USO\"+fecha+\".shp\",\"D:\\\\Raul Perez\\\\Uso\\\\USO\"+fecha+\".dbf\",\"D:\\\\Raul Perez\\\\Uso\\\\USO\"+fecha+\".prj\",\"D:\\\\Raul Perez\\\\Uso\\\\USO\"+fecha+\".shx\"]"
   ]
  },
  {
   "cell_type": "code",
   "execution_count": 10,
   "metadata": {},
   "outputs": [],
   "source": [
    "with zipfile.ZipFile(\"D:\\\\Raul Perez\\\\Uso\\\\USO_\"+fecha+\".zip\", 'w') as zipMe:        \n",
    "    for file in file_uso:\n",
    "        zipMe.write(file, compress_type=zipfile.ZIP_DEFLATED)"
   ]
  },
  {
   "cell_type": "code",
   "execution_count": null,
   "metadata": {},
   "outputs": [],
   "source": [
    "for f in glob.glob(\"D:\\\\Raul Perez\\\\Uso\\\\USO\"+fecha+\".*\"):\n",
    "    os.remove(f)"
   ]
  }
 ],
 "metadata": {
  "kernelspec": {
   "display_name": "Python 3",
   "language": "python",
   "name": "python3"
  },
  "language_info": {
   "codemirror_mode": {
    "name": "ipython",
    "version": 3
   },
   "file_extension": ".py",
   "mimetype": "text/x-python",
   "name": "python",
   "nbconvert_exporter": "python",
   "pygments_lexer": "ipython3",
   "version": "3.6.8"
  },
  "orig_nbformat": 4,
  "vscode": {
   "interpreter": {
    "hash": "2bf978d2ff02f8294dfb4f692a253cc99e8b078036d773992e5c77a6713879cf"
   }
  }
 },
 "nbformat": 4,
 "nbformat_minor": 2
}
