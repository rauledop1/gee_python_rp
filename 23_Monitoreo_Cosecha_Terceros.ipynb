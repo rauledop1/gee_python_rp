{
 "cells": [
  {
   "cell_type": "code",
   "execution_count": 1,
   "metadata": {},
   "outputs": [],
   "source": [
    "import os\n",
    "import time\n",
    "from datetime import datetime, timedelta\n",
    "import ee\n",
    "import geemap\n",
    "import geopandas as gpd\n",
    "import pandas as pd\n",
    "import pandasql as sqldf\n",
    "#ee.Authenticate()\n",
    "#geemap.ee_search()\n",
    "ee.Initialize()\n",
    "Map = geemap.Map()"
   ]
  },
  {
   "cell_type": "code",
   "execution_count": 2,
   "metadata": {},
   "outputs": [],
   "source": [
    "token='WaghgDFMNLfxzKTRXY2byPVfVxudO9IUc0NTqnsPZ_IvcVzjj847lwzkTpymAU212iMsc0ALecNQH_mfYEoOVG0MdTBw4pv4g_dkcqm-9Avsj8b4hCcNzToNbYsjl4jonPObD_yd0f8Xb7ZZ5IVoJH1UfLv1G_i-KrngOOLgM86YVZkcjJew8OyDwEPT4Wb7_txKl0uVitdsoeJPhr3S8ISquIHYWci1FP84KEdFyEsJmBwXQxc99FTVXZlc757b'"
   ]
  },
  {
   "cell_type": "code",
   "execution_count": 3,
   "metadata": {},
   "outputs": [],
   "source": [
    "rodales_cdc='https://araucaria.arauco.com/server/rest/services/Hosted/COMPRA_DE_BOSQUE_gdb/FeatureServer/0/query?where=rol%3D+%27{rol}%27+and+comuna+%3D+%27{comuna}%27+and+especie+%3D+%27{especie}%27+and+rut_prov%3D%27{rut}%27&objectIds=&time=&geometry=&geometryType=esriGeometryEnvelope&inSR=&spatialRel=esriSpatialRelIntersects&distance=&units=esriSRUnit_Foot&relationParam=&outFields=*&returnGeometry=true&maxAllowableOffset=&geometryPrecision=&outSR=&having=&gdbVersion=&historicMoment=&returnDistinctValues=false&returnIdsOnly=false&returnCountOnly=false&returnExtentOnly=false&orderByFields=&groupByFieldsForStatistics=&outStatistics=&returnZ=false&returnM=false&multipatchOption=xyFootprint&resultOffset=&resultRecordCount=&returnTrueCurves=false&returnCentroid=false&sqlFormat=none&resultType=&f=geojson&token='+token"
   ]
  },
  {
   "cell_type": "code",
   "execution_count": 4,
   "metadata": {},
   "outputs": [],
   "source": [
    "# %%\n",
    "ahora=time.strftime('%Y%m%d', time.localtime(time.time()))\n",
    "cvol='//fileserverscl/gpd$/212_CADENA_CUSTODIA/Control_Volumen.xlsb'\n"
   ]
  },
  {
   "cell_type": "code",
   "execution_count": 5,
   "metadata": {},
   "outputs": [],
   "source": [
    "dfcv=pd.read_excel(cvol, sheet_name='Reporte Volumen', header=7, engine='pyxlsb')\n",
    "dfcv_1=dfcv[dfcv['ROL']=='140-40']\n",
    "dfcv_1['pk'] = dfcv_1['ROL'].astype(str) + '_' + dfcv_1['COMUNA'] + '_' + dfcv_1['ESPECIE'] + '_' + dfcv_1['RUT PROVEEDOR'].astype(str)"
   ]
  },
  {
   "cell_type": "code",
   "execution_count": 6,
   "metadata": {},
   "outputs": [
    {
     "data": {
      "text/html": [
       "<div>\n",
       "<style scoped>\n",
       "    .dataframe tbody tr th:only-of-type {\n",
       "        vertical-align: middle;\n",
       "    }\n",
       "\n",
       "    .dataframe tbody tr th {\n",
       "        vertical-align: top;\n",
       "    }\n",
       "\n",
       "    .dataframe thead th {\n",
       "        text-align: right;\n",
       "    }\n",
       "</style>\n",
       "<table border=\"1\" class=\"dataframe\">\n",
       "  <thead>\n",
       "    <tr style=\"text-align: right;\">\n",
       "      <th></th>\n",
       "      <th>RutProvEspecieComunaRol1Rol2GruProducto</th>\n",
       "      <th>Con_Rol</th>\n",
       "      <th>FECHA INICIO CONTRATO</th>\n",
       "      <th>ENC. GESTION COMERCIAL</th>\n",
       "      <th>RUT PROVEEDOR</th>\n",
       "      <th>PROVEEDOR</th>\n",
       "      <th>ESPECIE</th>\n",
       "      <th>PRODUCTO</th>\n",
       "      <th>ROL</th>\n",
       "      <th>NOMBRE_ORIGEN</th>\n",
       "      <th>COMUNA</th>\n",
       "      <th>VOL. TOTAL CONTRATADO</th>\n",
       "      <th>VOLUMEN REAL</th>\n",
       "      <th>VOLUMEN DIFERENCIA</th>\n",
       "      <th>% CUMPLIMIENTO</th>\n",
       "      <th>ESTADO ROL</th>\n",
       "      <th>CERTIFICACION\\nFSC</th>\n",
       "      <th>CERTIFICACION\\nPEFC</th>\n",
       "      <th>ULTIMA ENTREGA</th>\n",
       "      <th>pk</th>\n",
       "    </tr>\n",
       "  </thead>\n",
       "  <tbody>\n",
       "    <tr>\n",
       "      <th>224</th>\n",
       "      <td>0x17</td>\n",
       "      <td>0x17</td>\n",
       "      <td>44927</td>\n",
       "      <td>ALVENIS CHAVEZ</td>\n",
       "      <td>77032386-K</td>\n",
       "      <td>SOCIEDAD AGP MADERAS SPA</td>\n",
       "      <td>EUGL</td>\n",
       "      <td>PULPABLE</td>\n",
       "      <td>140-40</td>\n",
       "      <td>CONCAVEN LAS HERAS</td>\n",
       "      <td>VICHUQUEN</td>\n",
       "      <td>7564.0</td>\n",
       "      <td>8237.92</td>\n",
       "      <td>-673.92</td>\n",
       "      <td>1.089096</td>\n",
       "      <td>CONTRATADO</td>\n",
       "      <td>MATERIAL CONTROLADO</td>\n",
       "      <td>OTROS MATERIALES</td>\n",
       "      <td>45090</td>\n",
       "      <td>140-40_VICHUQUEN_EUGL_77032386-K</td>\n",
       "    </tr>\n",
       "  </tbody>\n",
       "</table>\n",
       "</div>"
      ],
      "text/plain": [
       "    RutProvEspecieComunaRol1Rol2GruProducto Con_Rol  FECHA INICIO CONTRATO  \\\n",
       "224                                    0x17    0x17                  44927   \n",
       "\n",
       "    ENC. GESTION COMERCIAL RUT PROVEEDOR                 PROVEEDOR ESPECIE  \\\n",
       "224         ALVENIS CHAVEZ    77032386-K  SOCIEDAD AGP MADERAS SPA    EUGL   \n",
       "\n",
       "     PRODUCTO     ROL       NOMBRE_ORIGEN     COMUNA  VOL. TOTAL CONTRATADO  \\\n",
       "224  PULPABLE  140-40  CONCAVEN LAS HERAS  VICHUQUEN                 7564.0   \n",
       "\n",
       "     VOLUMEN REAL  VOLUMEN DIFERENCIA  % CUMPLIMIENTO  ESTADO ROL  \\\n",
       "224       8237.92             -673.92        1.089096  CONTRATADO   \n",
       "\n",
       "      CERTIFICACION\\nFSC CERTIFICACION\\nPEFC ULTIMA ENTREGA  \\\n",
       "224  MATERIAL CONTROLADO    OTROS MATERIALES          45090   \n",
       "\n",
       "                                   pk  \n",
       "224  140-40_VICHUQUEN_EUGL_77032386-K  "
      ]
     },
     "execution_count": 6,
     "metadata": {},
     "output_type": "execute_result"
    }
   ],
   "source": [
    "dfcv_1"
   ]
  },
  {
   "cell_type": "code",
   "execution_count": 7,
   "metadata": {},
   "outputs": [],
   "source": [
    "df_analizar=dfcv_1['pk'].tolist()"
   ]
  },
  {
   "cell_type": "code",
   "execution_count": 8,
   "metadata": {},
   "outputs": [
    {
     "data": {
      "text/plain": [
       "'140-40_VICHUQUEN_EUGL_77032386-K'"
      ]
     },
     "execution_count": 8,
     "metadata": {},
     "output_type": "execute_result"
    }
   ],
   "source": [
    "df_analizar[0]"
   ]
  },
  {
   "cell_type": "code",
   "execution_count": 9,
   "metadata": {},
   "outputs": [],
   "source": [
    "pk_parts = df_analizar[0].split('_')\n"
   ]
  },
  {
   "cell_type": "code",
   "execution_count": 10,
   "metadata": {},
   "outputs": [],
   "source": [
    "rol=pk_parts[0]\n",
    "comuna=pk_parts[1]\n",
    "especie=pk_parts[2]\n",
    "rut=pk_parts[3]"
   ]
  },
  {
   "cell_type": "code",
   "execution_count": 11,
   "metadata": {},
   "outputs": [
    {
     "data": {
      "text/plain": [
       "<AxesSubplot:>"
      ]
     },
     "execution_count": 11,
     "metadata": {},
     "output_type": "execute_result"
    },
    {
     "data": {
      "image/png": "[encoded data removed]",
      "text/plain": [
       "<Figure size 640x480 with 1 Axes>"
      ]
     },
     "metadata": {},
     "output_type": "display_data"
    }
   ],
   "source": [
    "gdf_rd = gpd.read_file(rodales_cdc.format(rol=rol,comuna=comuna,especie=especie, rut=rut))\n",
    "gdf_rd['pk']=gdf_rd['rol'] + '-'+gdf_rd['comuna']+ '-'+gdf_rd['especie']+'-'+gdf_rd['rut_prov']\n",
    "gdf_rd.plot()"
   ]
  },
  {
   "cell_type": "code",
   "execution_count": 12,
   "metadata": {},
   "outputs": [],
   "source": [
    "fc_rd=geemap.geopandas_to_ee(gdf_rd)\n",
    "fc_rd2=fc_rd.map(lambda f: f.buffer(30))"
   ]
  },
  {
   "cell_type": "code",
   "execution_count": 13,
   "metadata": {},
   "outputs": [],
   "source": [
    "import pandas as pd\n",
    "from datetime import datetime, timedelta\n",
    "\n",
    "# Assuming dfcv_1 is your DataFrame\n",
    "dfcv_1['ULTIMA ENTREGA'] = dfcv_1['ULTIMA ENTREGA'].astype(int)\n",
    "\n",
    "base_date = datetime(1899, 12, 30)  # Excel's base date\n",
    "\n",
    "dfcv_1['Date'] = dfcv_1['ULTIMA ENTREGA'].apply(lambda x: base_date + timedelta(days=x))\n",
    "dfcv_1['Formatted Date'] = dfcv_1['Date'].dt.strftime('%Y-%m-%d')\n",
    "dfcv_1['date_contrato']=dfcv_1['FECHA INICIO CONTRATO'].apply(lambda x: base_date + timedelta(days=x))\n",
    "dfcv_1['dcf']=dfcv_1['date_contrato'].dt.strftime('%Y-%m-%d')"
   ]
  },
  {
   "cell_type": "code",
   "execution_count": 14,
   "metadata": {},
   "outputs": [],
   "source": [
    "last_not=dfcv_1['Formatted Date'].tolist()[0]\n",
    "end_date2=(datetime.strptime(last_not, '%Y-%m-%d') - timedelta(days=6*30)).strftime('%Y-%m-%d')\n",
    "start_date2=dfcv_1['dcf'].tolist()[0]"
   ]
  },
  {
   "cell_type": "code",
   "execution_count": 15,
   "metadata": {},
   "outputs": [],
   "source": [
    "# Define the date range\n",
    "start_date = '2019-12-01'\n",
    "end_date = '2019-12-01'\n",
    "\n",
    "\n",
    "# end_date2=time.strftime('%Y-%m-%d', time.localtime(time.time()))\n",
    "# start_date2=(datetime.strptime(last_not, '%Y-%m-%d') + timedelta(days=3*30)).strftime('%Y-%m-%d')\n",
    "\n",
    "# Define the function to add NDVI band\n",
    "def addNDVI(image):\n",
    "    ndvi = image.normalizedDifference(['B8', 'B4']).rename(\"ndvi\")\n",
    "    image = image.addBands(ndvi)\n",
    "    return image\n",
    "\n",
    "st2_inicial = ee.ImageCollection(\"COPERNICUS/S2_SR_HARMONIZED\") \\\n",
    "    .filterDate(start_date, end_date) \\\n",
    "    .filterBounds(fc_rd2) \\\n",
    "    .filter(ee.Filter.lt('CLOUDY_PIXEL_PERCENTAGE', 10)) \\\n",
    "    .filter(ee.Filter.gte('system:asset_size', 1e9)) \\\n",
    "    .map(addNDVI)\n",
    "\n",
    "st2_final = st2_inicial = ee.ImageCollection(\"COPERNICUS/S2_SR_HARMONIZED\") \\\n",
    "    .filterDate(start_date2, end_date2) \\\n",
    "    .filterBounds(fc_rd2) \\\n",
    "    .filter(ee.Filter.lt('CLOUDY_PIXEL_PERCENTAGE', 10)) \\\n",
    "    .filter(ee.Filter.gte('system:asset_size', 1e9)) \\\n",
    "    .map(addNDVI)\n",
    "\n",
    "preharvest=st2_inicial.max()\\\n",
    "            .clip(fc_rd2)\\\n",
    "            .select('ndvi')\n",
    "\n",
    "preharvest_mean = preharvest.reduceRegions(\n",
    "    collection=fc_rd2,\n",
    "    reducer=ee.Reducer.mean(),\n",
    "    scale=10\n",
    ")\n",
    "\n",
    "ndvi0 = preharvest_mean.filter(ee.Filter.notNull(['mean'])).reduceToImage(\n",
    "    properties=['mean'],\n",
    "    reducer=ee.Reducer.first()\n",
    ")\n",
    "\n",
    "ndvi1=st2_final.min()\\\n",
    "            .clip(fc_rd2)\\\n",
    "            .select('ndvi')\n",
    "min_ndvi_date = ndvi1.date().format('YYYY-MM-dd')\n",
    "\n",
    "Dndvi=ndvi0.subtract(ndvi1)\n",
    "\n",
    "harvest_zone = Dndvi.gte(0.1)\n",
    "\n",
    "zones = harvest_zone.updateMask(harvest_zone.neq(0))\n",
    "\n",
    "# Reduce to vectors\n",
    "vectors = zones.reduceToVectors(\n",
    "    geometry=fc_rd2,\n",
    "    crs='EPSG:4326',\n",
    "    scale=1,\n",
    "    geometryType='polygon',\n",
    "    eightConnected=True,\n",
    "    labelProperty='zone',\n",
    "    bestEffort=False,\n",
    "    maxPixels=9e10\n",
    ")"
   ]
  },
  {
   "cell_type": "code",
   "execution_count": 16,
   "metadata": {},
   "outputs": [
    {
     "data": {
      "application/vnd.jupyter.widget-view+json": {
       "model_id": "0a118a980362448291d75efdf1757ed4",
       "version_major": 2,
       "version_minor": 0
      },
      "text/plain": [
       "Map(center=[20, 0], controls=(WidgetControl(options=['position', 'transparent_bg'], widget=HBox(children=(Togg…"
      ]
     },
     "metadata": {},
     "output_type": "display_data"
    }
   ],
   "source": [
    "Map"
   ]
  },
  {
   "cell_type": "code",
   "execution_count": 17,
   "metadata": {},
   "outputs": [
    {
     "ename": "EEException",
     "evalue": "Empty date ranges not supported for the current operation.",
     "output_type": "error",
     "traceback": [
      "\u001b[1;31m---------------------------------------------------------------------------\u001b[0m",
      "\u001b[1;31mHttpError\u001b[0m                                 Traceback (most recent call last)",
      "\u001b[1;32mc:\\Users\\raul.perez.astorga\\AppData\\Local\\Programs\\Python\\Python37\\lib\\site-packages\\ee\\data.py\u001b[0m in \u001b[0;36m_execute_cloud_call\u001b[1;34m(call, num_retries)\u001b[0m\n\u001b[0;32m    327\u001b[0m   \u001b[1;32mtry\u001b[0m\u001b[1;33m:\u001b[0m\u001b[1;33m\u001b[0m\u001b[1;33m\u001b[0m\u001b[0m\n\u001b[1;32m--> 328\u001b[1;33m     \u001b[1;32mreturn\u001b[0m \u001b[0mcall\u001b[0m\u001b[1;33m.\u001b[0m\u001b[0mexecute\u001b[0m\u001b[1;33m(\u001b[0m\u001b[0mnum_retries\u001b[0m\u001b[1;33m=\u001b[0m\u001b[0mnum_retries\u001b[0m\u001b[1;33m)\u001b[0m\u001b[1;33m\u001b[0m\u001b[1;33m\u001b[0m\u001b[0m\n\u001b[0m\u001b[0;32m    329\u001b[0m   \u001b[1;32mexcept\u001b[0m \u001b[0mgoogleapiclient\u001b[0m\u001b[1;33m.\u001b[0m\u001b[0merrors\u001b[0m\u001b[1;33m.\u001b[0m\u001b[0mHttpError\u001b[0m \u001b[1;32mas\u001b[0m \u001b[0me\u001b[0m\u001b[1;33m:\u001b[0m\u001b[1;33m\u001b[0m\u001b[1;33m\u001b[0m\u001b[0m\n",
      "\u001b[1;32mc:\\Users\\raul.perez.astorga\\AppData\\Local\\Programs\\Python\\Python37\\lib\\site-packages\\googleapiclient\\_helpers.py\u001b[0m in \u001b[0;36mpositional_wrapper\u001b[1;34m(*args, **kwargs)\u001b[0m\n\u001b[0;32m    133\u001b[0m                     \u001b[0mlogger\u001b[0m\u001b[1;33m.\u001b[0m\u001b[0mwarning\u001b[0m\u001b[1;33m(\u001b[0m\u001b[0mmessage\u001b[0m\u001b[1;33m)\u001b[0m\u001b[1;33m\u001b[0m\u001b[1;33m\u001b[0m\u001b[0m\n\u001b[1;32m--> 134\u001b[1;33m             \u001b[1;32mreturn\u001b[0m \u001b[0mwrapped\u001b[0m\u001b[1;33m(\u001b[0m\u001b[1;33m*\u001b[0m\u001b[0margs\u001b[0m\u001b[1;33m,\u001b[0m \u001b[1;33m**\u001b[0m\u001b[0mkwargs\u001b[0m\u001b[1;33m)\u001b[0m\u001b[1;33m\u001b[0m\u001b[1;33m\u001b[0m\u001b[0m\n\u001b[0m\u001b[0;32m    135\u001b[0m \u001b[1;33m\u001b[0m\u001b[0m\n",
      "\u001b[1;32mc:\\Users\\raul.perez.astorga\\AppData\\Local\\Programs\\Python\\Python37\\lib\\site-packages\\googleapiclient\\http.py\u001b[0m in \u001b[0;36mexecute\u001b[1;34m(self, http, num_retries)\u001b[0m\n\u001b[0;32m    914\u001b[0m         \u001b[1;32mif\u001b[0m \u001b[0mresp\u001b[0m\u001b[1;33m.\u001b[0m\u001b[0mstatus\u001b[0m \u001b[1;33m>=\u001b[0m \u001b[1;36m300\u001b[0m\u001b[1;33m:\u001b[0m\u001b[1;33m\u001b[0m\u001b[1;33m\u001b[0m\u001b[0m\n\u001b[1;32m--> 915\u001b[1;33m             \u001b[1;32mraise\u001b[0m \u001b[0mHttpError\u001b[0m\u001b[1;33m(\u001b[0m\u001b[0mresp\u001b[0m\u001b[1;33m,\u001b[0m \u001b[0mcontent\u001b[0m\u001b[1;33m,\u001b[0m \u001b[0muri\u001b[0m\u001b[1;33m=\u001b[0m\u001b[0mself\u001b[0m\u001b[1;33m.\u001b[0m\u001b[0muri\u001b[0m\u001b[1;33m)\u001b[0m\u001b[1;33m\u001b[0m\u001b[1;33m\u001b[0m\u001b[0m\n\u001b[0m\u001b[0;32m    916\u001b[0m         \u001b[1;32mreturn\u001b[0m \u001b[0mself\u001b[0m\u001b[1;33m.\u001b[0m\u001b[0mpostproc\u001b[0m\u001b[1;33m(\u001b[0m\u001b[0mresp\u001b[0m\u001b[1;33m,\u001b[0m \u001b[0mcontent\u001b[0m\u001b[1;33m)\u001b[0m\u001b[1;33m\u001b[0m\u001b[1;33m\u001b[0m\u001b[0m\n",
      "\u001b[1;31mHttpError\u001b[0m: <HttpError 400 when requesting https://earthengine.googleapis.com/v1alpha/projects/earthengine-legacy/value:compute?prettyPrint=false&alt=json returned \"Empty date ranges not supported for the current operation.\". Details: \"Empty date ranges not supported for the current operation.\">",
      "\nDuring handling of the above exception, another exception occurred:\n",
      "\u001b[1;31mEEException\u001b[0m                               Traceback (most recent call last)",
      "\u001b[1;32m~\\AppData\\Local\\Temp\\5\\ipykernel_36488\\2393235497.py\u001b[0m in \u001b[0;36m<module>\u001b[1;34m\u001b[0m\n\u001b[0;32m      1\u001b[0m \u001b[0mviz_ndiiReclass_vector\u001b[0m \u001b[1;33m=\u001b[0m \u001b[1;33m{\u001b[0m\u001b[1;34m'color'\u001b[0m\u001b[1;33m:\u001b[0m \u001b[1;34m'white'\u001b[0m\u001b[1;33m}\u001b[0m\u001b[1;33m\u001b[0m\u001b[1;33m\u001b[0m\u001b[0m\n\u001b[1;32m----> 2\u001b[1;33m \u001b[0mMap\u001b[0m\u001b[1;33m.\u001b[0m\u001b[0mcenterObject\u001b[0m\u001b[1;33m(\u001b[0m\u001b[0mvectors\u001b[0m\u001b[1;33m)\u001b[0m\u001b[1;33m\u001b[0m\u001b[1;33m\u001b[0m\u001b[0m\n\u001b[0m\u001b[0;32m      3\u001b[0m \u001b[0mMap\u001b[0m\u001b[1;33m.\u001b[0m\u001b[0maddLayer\u001b[0m\u001b[1;33m(\u001b[0m\u001b[0mvectors\u001b[0m\u001b[1;33m,\u001b[0m \u001b[0mviz_ndiiReclass_vector\u001b[0m\u001b[1;33m,\u001b[0m \u001b[1;34m'Diferencias'\u001b[0m\u001b[1;33m)\u001b[0m\u001b[1;33m\u001b[0m\u001b[1;33m\u001b[0m\u001b[0m\n",
      "\u001b[1;32mc:\\Users\\raul.perez.astorga\\AppData\\Local\\Programs\\Python\\Python37\\lib\\site-packages\\geemap\\geemap.py\u001b[0m in \u001b[0;36mcenter_object\u001b[1;34m(self, ee_object, zoom)\u001b[0m\n\u001b[0;32m   1637\u001b[0m \u001b[1;33m\u001b[0m\u001b[0m\n\u001b[0;32m   1638\u001b[0m         \u001b[1;32melse\u001b[0m\u001b[1;33m:\u001b[0m\u001b[1;33m\u001b[0m\u001b[1;33m\u001b[0m\u001b[0m\n\u001b[1;32m-> 1639\u001b[1;33m             \u001b[0mcoordinates\u001b[0m \u001b[1;33m=\u001b[0m \u001b[0mgeometry\u001b[0m\u001b[1;33m.\u001b[0m\u001b[0mbounds\u001b[0m\u001b[1;33m(\u001b[0m\u001b[0mmaxError\u001b[0m\u001b[1;33m)\u001b[0m\u001b[1;33m.\u001b[0m\u001b[0mgetInfo\u001b[0m\u001b[1;33m(\u001b[0m\u001b[1;33m)\u001b[0m\u001b[1;33m[\u001b[0m\u001b[1;34m\"coordinates\"\u001b[0m\u001b[1;33m]\u001b[0m\u001b[1;33m[\u001b[0m\u001b[1;36m0\u001b[0m\u001b[1;33m]\u001b[0m\u001b[1;33m\u001b[0m\u001b[1;33m\u001b[0m\u001b[0m\n\u001b[0m\u001b[0;32m   1640\u001b[0m             \u001b[0mx\u001b[0m \u001b[1;33m=\u001b[0m \u001b[1;33m[\u001b[0m\u001b[0mc\u001b[0m\u001b[1;33m[\u001b[0m\u001b[1;36m0\u001b[0m\u001b[1;33m]\u001b[0m \u001b[1;32mfor\u001b[0m \u001b[0mc\u001b[0m \u001b[1;32min\u001b[0m \u001b[0mcoordinates\u001b[0m\u001b[1;33m]\u001b[0m\u001b[1;33m\u001b[0m\u001b[1;33m\u001b[0m\u001b[0m\n\u001b[0;32m   1641\u001b[0m             \u001b[0my\u001b[0m \u001b[1;33m=\u001b[0m \u001b[1;33m[\u001b[0m\u001b[0mc\u001b[0m\u001b[1;33m[\u001b[0m\u001b[1;36m1\u001b[0m\u001b[1;33m]\u001b[0m \u001b[1;32mfor\u001b[0m \u001b[0mc\u001b[0m \u001b[1;32min\u001b[0m \u001b[0mcoordinates\u001b[0m\u001b[1;33m]\u001b[0m\u001b[1;33m\u001b[0m\u001b[1;33m\u001b[0m\u001b[0m\n",
      "\u001b[1;32mc:\\Users\\raul.perez.astorga\\AppData\\Local\\Programs\\Python\\Python37\\lib\\site-packages\\ee\\computedobject.py\u001b[0m in \u001b[0;36mgetInfo\u001b[1;34m(self)\u001b[0m\n\u001b[0;32m     96\u001b[0m       \u001b[0mThe\u001b[0m \u001b[0mobject\u001b[0m \u001b[0mcan\u001b[0m \u001b[0mevaluate\u001b[0m \u001b[0mto\u001b[0m \u001b[0manything\u001b[0m\u001b[1;33m.\u001b[0m\u001b[1;33m\u001b[0m\u001b[1;33m\u001b[0m\u001b[0m\n\u001b[0;32m     97\u001b[0m     \"\"\"\n\u001b[1;32m---> 98\u001b[1;33m     \u001b[1;32mreturn\u001b[0m \u001b[0mdata\u001b[0m\u001b[1;33m.\u001b[0m\u001b[0mcomputeValue\u001b[0m\u001b[1;33m(\u001b[0m\u001b[0mself\u001b[0m\u001b[1;33m)\u001b[0m\u001b[1;33m\u001b[0m\u001b[1;33m\u001b[0m\u001b[0m\n\u001b[0m\u001b[0;32m     99\u001b[0m \u001b[1;33m\u001b[0m\u001b[0m\n\u001b[0;32m    100\u001b[0m   \u001b[1;32mdef\u001b[0m \u001b[0mencode\u001b[0m\u001b[1;33m(\u001b[0m\u001b[0mself\u001b[0m\u001b[1;33m,\u001b[0m \u001b[0mencoder\u001b[0m\u001b[1;33m)\u001b[0m\u001b[1;33m:\u001b[0m\u001b[1;33m\u001b[0m\u001b[1;33m\u001b[0m\u001b[0m\n",
      "\u001b[1;32mc:\\Users\\raul.perez.astorga\\AppData\\Local\\Programs\\Python\\Python37\\lib\\site-packages\\ee\\data.py\u001b[0m in \u001b[0;36mcomputeValue\u001b[1;34m(obj)\u001b[0m\n\u001b[0;32m    759\u001b[0m           \u001b[0mbody\u001b[0m\u001b[1;33m=\u001b[0m\u001b[0mbody\u001b[0m\u001b[1;33m,\u001b[0m\u001b[1;33m\u001b[0m\u001b[1;33m\u001b[0m\u001b[0m\n\u001b[0;32m    760\u001b[0m           \u001b[0mproject\u001b[0m\u001b[1;33m=\u001b[0m\u001b[0m_get_projects_path\u001b[0m\u001b[1;33m(\u001b[0m\u001b[1;33m)\u001b[0m\u001b[1;33m,\u001b[0m\u001b[1;33m\u001b[0m\u001b[1;33m\u001b[0m\u001b[0m\n\u001b[1;32m--> 761\u001b[1;33m           prettyPrint=False))['result']\n\u001b[0m\u001b[0;32m    762\u001b[0m \u001b[1;33m\u001b[0m\u001b[0m\n\u001b[0;32m    763\u001b[0m \u001b[1;33m\u001b[0m\u001b[0m\n",
      "\u001b[1;32mc:\\Users\\raul.perez.astorga\\AppData\\Local\\Programs\\Python\\Python37\\lib\\site-packages\\ee\\data.py\u001b[0m in \u001b[0;36m_execute_cloud_call\u001b[1;34m(call, num_retries)\u001b[0m\n\u001b[0;32m    328\u001b[0m     \u001b[1;32mreturn\u001b[0m \u001b[0mcall\u001b[0m\u001b[1;33m.\u001b[0m\u001b[0mexecute\u001b[0m\u001b[1;33m(\u001b[0m\u001b[0mnum_retries\u001b[0m\u001b[1;33m=\u001b[0m\u001b[0mnum_retries\u001b[0m\u001b[1;33m)\u001b[0m\u001b[1;33m\u001b[0m\u001b[1;33m\u001b[0m\u001b[0m\n\u001b[0;32m    329\u001b[0m   \u001b[1;32mexcept\u001b[0m \u001b[0mgoogleapiclient\u001b[0m\u001b[1;33m.\u001b[0m\u001b[0merrors\u001b[0m\u001b[1;33m.\u001b[0m\u001b[0mHttpError\u001b[0m \u001b[1;32mas\u001b[0m \u001b[0me\u001b[0m\u001b[1;33m:\u001b[0m\u001b[1;33m\u001b[0m\u001b[1;33m\u001b[0m\u001b[0m\n\u001b[1;32m--> 330\u001b[1;33m     \u001b[1;32mraise\u001b[0m \u001b[0m_translate_cloud_exception\u001b[0m\u001b[1;33m(\u001b[0m\u001b[0me\u001b[0m\u001b[1;33m)\u001b[0m\u001b[1;33m\u001b[0m\u001b[1;33m\u001b[0m\u001b[0m\n\u001b[0m\u001b[0;32m    331\u001b[0m \u001b[1;33m\u001b[0m\u001b[0m\n\u001b[0;32m    332\u001b[0m \u001b[1;33m\u001b[0m\u001b[0m\n",
      "\u001b[1;31mEEException\u001b[0m: Empty date ranges not supported for the current operation."
     ]
    }
   ],
   "source": [
    "viz_ndiiReclass_vector = {'color': 'white'}\n",
    "Map.centerObject(vectors)\n",
    "Map.addLayer(vectors, viz_ndiiReclass_vector, 'Diferencias')\n"
   ]
  },
  {
   "cell_type": "code",
   "execution_count": null,
   "metadata": {},
   "outputs": [],
   "source": [
    "viz_ndiiReclass_vector = {'color': 'red'}\n",
    "Map.addLayer(fc_rd, viz_ndiiReclass_vector, 'rodal')"
   ]
  }
 ],
 "metadata": {
  "kernelspec": {
   "display_name": "Python 3",
   "language": "python",
   "name": "python3"
  },
  "language_info": {
   "codemirror_mode": {
    "name": "ipython",
    "version": 3
   },
   "file_extension": ".py",
   "mimetype": "text/x-python",
   "name": "python",
   "nbconvert_exporter": "python",
   "pygments_lexer": "ipython3",
   "version": "3.7.9"
  },
  "orig_nbformat": 4
 },
 "nbformat": 4,
 "nbformat_minor": 2
}
