{
 "cells": [
  {
   "cell_type": "code",
   "execution_count": 1,
   "metadata": {},
   "outputs": [],
   "source": [
    "####using environment of arcgis pro 3.6.8 most recent run gee\n",
    "import arcpy\n",
    "import time\n",
    "import os\n",
    "import zipfile\n",
    "ahora=time.strftime('%Y%m%d', time.localtime(time.time()))"
   ]
  },
  {
   "cell_type": "code",
   "execution_count": 2,
   "metadata": {},
   "outputs": [],
   "source": [
    "root='D:/Raul Perez/Uso/CDC'\n",
    "os.chdir(root)\n",
    "uso = f\"uso_{ahora}.shp\"\n",
    "grilla = f\"geocerca_{ahora}.shp\"\n",
    "path_uso = os.path.join(root,uso)\n",
    "path_grilla = os.path.join(root,grilla)\n",
    "\n",
    "\n",
    "if os.path.exists(path_uso):\n",
    "    arcpy.management.Delete(f\"{path_uso};{path_grilla}\", '')\n",
    "    arcpy.conversion.FeatureClassToFeatureClass(\"https://araucaria.arauco.com/server/rest/services/Hosted/COMPRA_DE_BOSQUE_gdb/FeatureServer/0\", root, uso, '', 'index \"index\" true true false 0 Double 0 0,First,#,https://araucaria.arauco.com/server/rest/services/Hosted/COMPRA_DE_BOSQUE_gdb/FeatureServer/0,index,-1,-1;especie \"ESPECIE\" true true false 80 Text 0 0,First,#,https://araucaria.arauco.com/server/rest/services/Hosted/COMPRA_DE_BOSQUE_gdb/FeatureServer/0,especie,0,80;rol \"ROL\" true true false 80 Text 0 0,First,#,https://araucaria.arauco.com/server/rest/services/Hosted/COMPRA_DE_BOSQUE_gdb/FeatureServer/0,rol,0,80;rodal \"RODAL\" true true false 80 Text 0 0,First,#,https://araucaria.arauco.com/server/rest/services/Hosted/COMPRA_DE_BOSQUE_gdb/FeatureServer/0,rodal,0,80;comuna \"COMUNA\" true true false 80 Text 0 0,First,#,https://araucaria.arauco.com/server/rest/services/Hosted/COMPRA_DE_BOSQUE_gdb/FeatureServer/0,comuna,0,80;nom_predio \"NOM_PREDIO\" true true false 80 Text 0 0,First,#,https://araucaria.arauco.com/server/rest/services/Hosted/COMPRA_DE_BOSQUE_gdb/FeatureServer/0,nom_predio,0,80;rut_prov \"RUT_PROV\" true true false 80 Text 0 0,First,#,https://araucaria.arauco.com/server/rest/services/Hosted/COMPRA_DE_BOSQUE_gdb/FeatureServer/0,rut_prov,0,80;nom_prov \"NOM_PROV\" true true false 80 Text 0 0,First,#,https://araucaria.arauco.com/server/rest/services/Hosted/COMPRA_DE_BOSQUE_gdb/FeatureServer/0,nom_prov,0,80;num_contr \"NUM_CONTR\" true true false 80 Text 0 0,First,#,https://araucaria.arauco.com/server/rest/services/Hosted/COMPRA_DE_BOSQUE_gdb/FeatureServer/0,num_contr,0,80;est_contr \"EST_CONTR\" true true false 80 Text 0 0,First,#,https://araucaria.arauco.com/server/rest/services/Hosted/COMPRA_DE_BOSQUE_gdb/FeatureServer/0,est_contr,0,80;zona \"ZONA\" true true false 80 Text 0 0,First,#,https://araucaria.arauco.com/server/rest/services/Hosted/COMPRA_DE_BOSQUE_gdb/FeatureServer/0,zona,0,80;enc_compra \"ENC_COMPRA\" true true false 80 Text 0 0,First,#,https://araucaria.arauco.com/server/rest/services/Hosted/COMPRA_DE_BOSQUE_gdb/FeatureServer/0,enc_compra,0,80;estado \"ESTADO\" true true false 80 Text 0 0,First,#,https://araucaria.arauco.com/server/rest/services/Hosted/COMPRA_DE_BOSQUE_gdb/FeatureServer/0,estado,0,80;id_unico \"ID_UNICO\" true true false 80 Text 0 0,First,#,https://araucaria.arauco.com/server/rest/services/Hosted/COMPRA_DE_BOSQUE_gdb/FeatureServer/0,id_unico,0,80;tile \"TILE\" true true false 80 Text 0 0,First,#,https://araucaria.arauco.com/server/rest/services/Hosted/COMPRA_DE_BOSQUE_gdb/FeatureServer/0,tile,0,80;cosecha \"COSECHA\" true true false 80 Text 0 0,First,#,https://araucaria.arauco.com/server/rest/services/Hosted/COMPRA_DE_BOSQUE_gdb/FeatureServer/0,cosecha,0,80;fecha_imag \"fecha_imag\" true true false 80 Text 0 0,First,#,https://araucaria.arauco.com/server/rest/services/Hosted/COMPRA_DE_BOSQUE_gdb/FeatureServer/0,fecha_imag,0,80;por_nube \"Por_nube\" true true false 0 Double 0 0,First,#,https://araucaria.arauco.com/server/rest/services/Hosted/COMPRA_DE_BOSQUE_gdb/FeatureServer/0,por_nube,-1,-1;sup_ha \"SUP_HAS\" true true false 0 Double 0 0,First,#,https://araucaria.arauco.com/server/rest/services/Hosted/COMPRA_DE_BOSQUE_gdb/FeatureServer/0,sup_ha,-1,-1;sup_cos \"SUP_COS\" true true false 0 Double 0 0,First,#,https://araucaria.arauco.com/server/rest/services/Hosted/COMPRA_DE_BOSQUE_gdb/FeatureServer/0,sup_cos,-1,-1;apl \"APL\" true true false 4 Text 0 0,First,#,https://araucaria.arauco.com/server/rest/services/Hosted/COMPRA_DE_BOSQUE_gdb/FeatureServer/0,apl,0,4;globalid \"GlobalID\" false false false 38 GlobalID 0 0,First,#,https://araucaria.arauco.com/server/rest/services/Hosted/COMPRA_DE_BOSQUE_gdb/FeatureServer/0,globalid,-1,-1;rodpoly \"RODPOLY\" true true false 5 Text 0 0,First,#,https://araucaria.arauco.com/server/rest/services/Hosted/COMPRA_DE_BOSQUE_gdb/FeatureServer/0,rodpoly,0,5', '')\n",
    "    arcpy.conversion.FeatureClassToFeatureClass(\"https://araucaria.arauco.com/server/rest/services/Hosted/GEOCERCA_CDC/FeatureServer/0\", root, grilla, '', 'id_unico \"id_unico\" true true false 80 Text 0 0,First,#,https://araucaria.arauco.com/server/rest/services/Hosted/GEOCERCA_CDC/FeatureServer/0,id_unico,0,80', '')\n",
    "else:\n",
    "    arcpy.conversion.FeatureClassToFeatureClass(\"https://araucaria.arauco.com/server/rest/services/Hosted/COMPRA_DE_BOSQUE_gdb/FeatureServer/0\", root, uso, '', 'index \"index\" true true false 0 Double 0 0,First,#,https://araucaria.arauco.com/server/rest/services/Hosted/COMPRA_DE_BOSQUE_gdb/FeatureServer/0,index,-1,-1;especie \"ESPECIE\" true true false 80 Text 0 0,First,#,https://araucaria.arauco.com/server/rest/services/Hosted/COMPRA_DE_BOSQUE_gdb/FeatureServer/0,especie,0,80;rol \"ROL\" true true false 80 Text 0 0,First,#,https://araucaria.arauco.com/server/rest/services/Hosted/COMPRA_DE_BOSQUE_gdb/FeatureServer/0,rol,0,80;rodal \"RODAL\" true true false 80 Text 0 0,First,#,https://araucaria.arauco.com/server/rest/services/Hosted/COMPRA_DE_BOSQUE_gdb/FeatureServer/0,rodal,0,80;comuna \"COMUNA\" true true false 80 Text 0 0,First,#,https://araucaria.arauco.com/server/rest/services/Hosted/COMPRA_DE_BOSQUE_gdb/FeatureServer/0,comuna,0,80;nom_predio \"NOM_PREDIO\" true true false 80 Text 0 0,First,#,https://araucaria.arauco.com/server/rest/services/Hosted/COMPRA_DE_BOSQUE_gdb/FeatureServer/0,nom_predio,0,80;rut_prov \"RUT_PROV\" true true false 80 Text 0 0,First,#,https://araucaria.arauco.com/server/rest/services/Hosted/COMPRA_DE_BOSQUE_gdb/FeatureServer/0,rut_prov,0,80;nom_prov \"NOM_PROV\" true true false 80 Text 0 0,First,#,https://araucaria.arauco.com/server/rest/services/Hosted/COMPRA_DE_BOSQUE_gdb/FeatureServer/0,nom_prov,0,80;num_contr \"NUM_CONTR\" true true false 80 Text 0 0,First,#,https://araucaria.arauco.com/server/rest/services/Hosted/COMPRA_DE_BOSQUE_gdb/FeatureServer/0,num_contr,0,80;est_contr \"EST_CONTR\" true true false 80 Text 0 0,First,#,https://araucaria.arauco.com/server/rest/services/Hosted/COMPRA_DE_BOSQUE_gdb/FeatureServer/0,est_contr,0,80;zona \"ZONA\" true true false 80 Text 0 0,First,#,https://araucaria.arauco.com/server/rest/services/Hosted/COMPRA_DE_BOSQUE_gdb/FeatureServer/0,zona,0,80;enc_compra \"ENC_COMPRA\" true true false 80 Text 0 0,First,#,https://araucaria.arauco.com/server/rest/services/Hosted/COMPRA_DE_BOSQUE_gdb/FeatureServer/0,enc_compra,0,80;estado \"ESTADO\" true true false 80 Text 0 0,First,#,https://araucaria.arauco.com/server/rest/services/Hosted/COMPRA_DE_BOSQUE_gdb/FeatureServer/0,estado,0,80;id_unico \"ID_UNICO\" true true false 80 Text 0 0,First,#,https://araucaria.arauco.com/server/rest/services/Hosted/COMPRA_DE_BOSQUE_gdb/FeatureServer/0,id_unico,0,80;tile \"TILE\" true true false 80 Text 0 0,First,#,https://araucaria.arauco.com/server/rest/services/Hosted/COMPRA_DE_BOSQUE_gdb/FeatureServer/0,tile,0,80;cosecha \"COSECHA\" true true false 80 Text 0 0,First,#,https://araucaria.arauco.com/server/rest/services/Hosted/COMPRA_DE_BOSQUE_gdb/FeatureServer/0,cosecha,0,80;fecha_imag \"fecha_imag\" true true false 80 Text 0 0,First,#,https://araucaria.arauco.com/server/rest/services/Hosted/COMPRA_DE_BOSQUE_gdb/FeatureServer/0,fecha_imag,0,80;por_nube \"Por_nube\" true true false 0 Double 0 0,First,#,https://araucaria.arauco.com/server/rest/services/Hosted/COMPRA_DE_BOSQUE_gdb/FeatureServer/0,por_nube,-1,-1;sup_ha \"SUP_HAS\" true true false 0 Double 0 0,First,#,https://araucaria.arauco.com/server/rest/services/Hosted/COMPRA_DE_BOSQUE_gdb/FeatureServer/0,sup_ha,-1,-1;sup_cos \"SUP_COS\" true true false 0 Double 0 0,First,#,https://araucaria.arauco.com/server/rest/services/Hosted/COMPRA_DE_BOSQUE_gdb/FeatureServer/0,sup_cos,-1,-1;apl \"APL\" true true false 4 Text 0 0,First,#,https://araucaria.arauco.com/server/rest/services/Hosted/COMPRA_DE_BOSQUE_gdb/FeatureServer/0,apl,0,4;globalid \"GlobalID\" false false false 38 GlobalID 0 0,First,#,https://araucaria.arauco.com/server/rest/services/Hosted/COMPRA_DE_BOSQUE_gdb/FeatureServer/0,globalid,-1,-1;rodpoly \"RODPOLY\" true true false 5 Text 0 0,First,#,https://araucaria.arauco.com/server/rest/services/Hosted/COMPRA_DE_BOSQUE_gdb/FeatureServer/0,rodpoly,0,5', '')\n",
    "    arcpy.conversion.FeatureClassToFeatureClass(\"https://araucaria.arauco.com/server/rest/services/Hosted/GEOCERCA_CDC/FeatureServer/0\", root, grilla, '', 'id_unico \"id_unico\" true true false 80 Text 0 0,First,#,https://araucaria.arauco.com/server/rest/services/Hosted/GEOCERCA_CDC/FeatureServer/0,id_unico,0,80', '')"
   ]
  }
 ],
 "metadata": {
  "kernelspec": {
   "display_name": "Python 3",
   "language": "python",
   "name": "python3"
  },
  "language_info": {
   "codemirror_mode": {
    "name": "ipython",
    "version": 3
   },
   "file_extension": ".py",
   "mimetype": "text/x-python",
   "name": "python",
   "nbconvert_exporter": "python",
   "pygments_lexer": "ipython3",
   "version": "3.7.11"
  },
  "orig_nbformat": 4
 },
 "nbformat": 4,
 "nbformat_minor": 2
}
