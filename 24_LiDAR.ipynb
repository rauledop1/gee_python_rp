{
 "cells": [
  {
   "cell_type": "code",
   "execution_count": 3,
   "metadata": {},
   "outputs": [],
   "source": [
    "import ee\n",
    "import geemap\n",
    "from google.cloud import storage"
   ]
  },
  {
   "cell_type": "code",
   "execution_count": 4,
   "metadata": {},
   "outputs": [
    {
     "data": {
      "text/html": [
       "<p>To authorize access needed by Earth Engine, open the following\n",
       "        URL in a web browser and follow the instructions:</p>\n",
       "        <p><a href=https://code.earthengine.google.com/client-auth?scopes=https%3A//www.googleapis.com/auth/earthengine%20https%3A//www.googleapis.com/auth/devstorage.full_control&request_id=-52_GhVHJQLj4bTR4DLS16_pRzQaCImdp1k-mliELH0&tc=t9_V1AT7NTqZoUa2TnN7aqNsA9IfBmziKPvzRxceTb0&cc=D2Nxcipc069Wo6Ycks6eQrhL_KV3y-F3-zpUz-21HNI>https://code.earthengine.google.com/client-auth?scopes=https%3A//www.googleapis.com/auth/earthengine%20https%3A//www.googleapis.com/auth/devstorage.full_control&request_id=-52_GhVHJQLj4bTR4DLS16_pRzQaCImdp1k-mliELH0&tc=t9_V1AT7NTqZoUa2TnN7aqNsA9IfBmziKPvzRxceTb0&cc=D2Nxcipc069Wo6Ycks6eQrhL_KV3y-F3-zpUz-21HNI</a></p>\n",
       "        <p>The authorization workflow will generate a code, which you should paste in the box below.</p>\n",
       "        "
      ],
      "text/plain": [
       "<IPython.core.display.HTML object>"
      ]
     },
     "metadata": {},
     "output_type": "display_data"
    },
    {
     "name": "stdout",
     "output_type": "stream",
     "text": [
      "\n",
      "Successfully saved authorization token.\n"
     ]
    }
   ],
   "source": [
    "#ee.Authenticate()"
   ]
  },
  {
   "cell_type": "code",
   "execution_count": 8,
   "metadata": {},
   "outputs": [
    {
     "name": "stderr",
     "output_type": "stream",
     "text": [
      "c:\\Users\\raul.perez.astorga\\AppData\\Local\\ESRI\\conda\\envs\\arcgispro-py3-clone\\lib\\site-packages\\google\\auth\\_default.py:79: UserWarning: Your application has authenticated using end user credentials from Google Cloud SDK without a quota project. You might receive a \"quota exceeded\" or \"API not enabled\" error. We recommend you rerun `gcloud auth application-default login` and make sure a quota project is added. Or you can use service accounts instead. For more information about service accounts, see https://cloud.google.com/docs/authentication/\n",
      "  warnings.warn(_CLOUD_SDK_CREDENTIALS_WARNING)\n"
     ]
    }
   ],
   "source": [
    "def list_tif_files_recursive(bucket_name, folder_path):\n",
    "    # Initialize the storage client\n",
    "    storage_client = storage.Client(project='gl-for-gis-dsr')\n",
    "\n",
    "    # Get the bucket\n",
    "    bucket = storage_client.bucket(bucket_name)\n",
    "\n",
    "    # Recursive function to list .tif files\n",
    "    def find_tif_files(prefix):\n",
    "        blobs = bucket.list_blobs(prefix=prefix)\n",
    "        tif_files = [blob.name for blob in blobs if blob.name.endswith('.tif')]\n",
    "        return tif_files\n",
    "\n",
    "    # Start the recursive search\n",
    "    tif_files = find_tif_files(folder_path)\n",
    "\n",
    "    return tif_files\n",
    "\n",
    "# Replace with your bucket name and folder path\n",
    "bucket_name = 'ee_geomatica'\n",
    "folder_path = 'tif_prueba/01_TIF'\n",
    "\n",
    "tif_files_list = list_tif_files_recursive(bucket_name, folder_path)\n",
    "uris = ['gs://ee_geomatica/' + tif_file for tif_file in tif_files_list]\n",
    "\n"
   ]
  },
  {
   "cell_type": "code",
   "execution_count": 10,
   "metadata": {},
   "outputs": [
    {
     "data": {
      "application/vnd.jupyter.widget-view+json": {
       "model_id": "78627a9d248e491dad6df5cf2b016d05",
       "version_major": 2,
       "version_minor": 0
      },
      "text/plain": [
       "Map(center=[20, 0], controls=(WidgetControl(options=['position', 'transparent_bg'], widget=HBox(children=(Togg…"
      ]
     },
     "metadata": {},
     "output_type": "display_data"
    }
   ],
   "source": [
    "ee.Initialize()\n",
    "\n",
    "# Define the base URI for the images\n",
    "uriBase = 'gs://ee_geomatica/tif_prueba/01_TIF/'\n",
    "\n",
    "\n",
    "# Create an ImageCollection from the URIs\n",
    "images = [ee.Image.loadGeoTIFF(uri) for uri in uris]\n",
    "collection = ee.ImageCollection(images)\n",
    "\n",
    "# Center the map on the collection and add the collection as a layer\n",
    "Map = geemap.Map()\n",
    "Map.centerObject(collection)\n",
    "vis_params = {'bands': ['B0', 'B1', 'B2'], 'min': 0, 'max': 255}\n",
    "Map.addLayer(collection, vis_params, 'rgb')\n",
    "\n",
    "# Display the map\n",
    "Map\n",
    "Map.layers\n"
   ]
  }
 ],
 "metadata": {
  "kernelspec": {
   "display_name": "Python 3",
   "language": "python",
   "name": "python3"
  },
  "language_info": {
   "codemirror_mode": {
    "name": "ipython",
    "version": 3
   },
   "file_extension": ".py",
   "mimetype": "text/x-python",
   "name": "python",
   "nbconvert_exporter": "python",
   "pygments_lexer": "ipython3",
   "version": "3.7.11"
  },
  "orig_nbformat": 4
 },
 "nbformat": 4,
 "nbformat_minor": 2
}
