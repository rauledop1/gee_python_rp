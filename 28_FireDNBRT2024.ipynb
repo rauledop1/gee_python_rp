{
 "cells": [
  {
   "cell_type": "code",
   "execution_count": null,
   "metadata": {},
   "outputs": [],
   "source": [
    "import ee\n",
    "import geemap\n",
    "import time\n",
    "import requests\n",
    "import json\n",
    "import os\n",
    "from geemap import geojson_to_ee, ee_to_geojson\n",
    "from ipyleaflet import GeoJSON\n",
    "import geopandas as gpd\n",
    "import topojson as tp\n",
    "import pandas as pd\n",
    "import datetime\n",
    "from pivottablejs import pivot_ui"
   ]
  },
  {
   "cell_type": "code",
   "execution_count": 5,
   "metadata": {},
   "outputs": [],
   "source": [
    "#ee.Authenticate()\n",
    "#geemap.ee_search()\n",
    "ee.Initialize()\n",
    "Map = geemap.Map()"
   ]
  },
  {
   "cell_type": "code",
   "execution_count": 9,
   "metadata": {},
   "outputs": [],
   "source": [
    "token='d3WVa9uBFDKvJ0TZcgcVI1HpOP6Pi6TsWBLUerNC0uGpiaWuMqYXbpMExHtJC1mTUS7lsb0iIsfJV-q6USznxd23rrTy0YyHuCaYFvXHkTFAtJpdk9wELq3FZ-ey_wSlJelEBYKHCMgNcej5LoLLbEvmakPrASvcJWU2HKm2k2nv-K6GYu1gzJcoa4i2Tf3gI2FJPzFuY9bg0z330dPSJucV5vIrgGw1Qwzsn8fs85DLyfMQFeVIOFEavoHZsmXP'\n",
    "r20='https://araucaria.arauco.com/server/rest/services/Hosted/PERIMETROS_INCENDIOS_T2024_EDITABLE/FeatureServer/115/query?where=status+%3D+%271%27+and+not+estado_med+%3D%273%27&objectIds=&time=&geometry=&geometryType=esriGeometryEnvelope&inSR=&spatialRel=esriSpatialRelIntersects&distance=&units=esriSRUnit_Foot&relationParam=&outFields=ficha&returnGeometry=true&maxAllowableOffset=&geometryPrecision=&outSR=&havingClause=&gdbVersion=&historicMoment=&returnDistinctValues=false&returnIdsOnly=false&returnCountOnly=false&returnExtentOnly=false&orderByFields=&groupByFieldsForStatistics=&outStatistics=&returnZ=false&returnM=false&multipatchOption=xyFootprint&resultOffset=&resultRecordCount=&returnTrueCurves=false&returnCentroid=false&timeReferenceUnknownClient=false&sqlFormat=none&resultType=&datumTransformation=&lodType=geohash&lod=&lodSR=&f=geojson&token='+token\n",
    "###token araucaria auth (160323)\n",
    "perimetro=\"data/r20.json\""
   ]
  },
  {
   "cell_type": "code",
   "execution_count": 10,
   "metadata": {},
   "outputs": [],
   "source": [
    "df = gpd.read_file(r20)\\\n",
    "        .to_crs('EPSG:32718')\\\n",
    "        .dissolve(by='ficha')\\\n",
    "        .simplify(tolerance=5)\\\n",
    "        .geometry\\\n",
    "        .to_crs('EPSG:4326')"
   ]
  },
  {
   "cell_type": "code",
   "execution_count": 11,
   "metadata": {},
   "outputs": [],
   "source": [
    "if os.path.exists(perimetro):\n",
    "    os.remove(perimetro)\n",
    "df.to_file(perimetro, driver=\"GeoJSON\")"
   ]
  },
  {
   "cell_type": "code",
   "execution_count": 12,
   "metadata": {},
   "outputs": [],
   "source": [
    "gdf = gpd.read_file(\n",
    "    perimetro\n",
    ")"
   ]
  },
  {
   "cell_type": "code",
   "execution_count": 13,
   "metadata": {},
   "outputs": [],
   "source": [
    "lst=pd.read_html('https://www.estar.cl/fire/planilla.php')\n",
    "df2=pd.DataFrame(lst[0],columns=['TEMPORADA',\t'INICIO',\t'SEMANA INICIO',\t'SEMANA KPI',\t'ANO INICIO',\t'MES INICIO',\t'DIA INICIO',\t'HORA INICIO',\t'COD_SEMANA',\t'DIA_SEMANA',\t'RANGO_PREV',\t'REGION',\t'PROVINCIA',\t'COMUNA',\t'EMPRESA',\t'PROPIETARIO',\t'TIPO',\t'AREA',\t'FICHA',\t'COD_PREDIO',\t'PREDIO',\t'FOCOS',\t'MULTIFOCO',\t'DANO PLANTAC',\t'CAUSA',\t'CODIGO_CAUSA',\t'CONFLICTO',\t'GRUPO CAUSAL',\t'ZONA META',\t'COD META',\t'COMBUSTIBLE INICIAL',\t'COMBUSTIBLE FINAL',\t'DESPACHADOR',\t'DETECTOR',\t'AVISO',\t'COMANDANTE',\t'ANCHO LINEA',\t'LARGO LINEA',\t'CLASE',\t'GASTO COMBATE UF',\t'FECHA CONTROL',\t'HORA CONTROL',\t'LONGITUD',\t'LATITUD',\t'ESTADO',\t'SUP INICIAL',\t'PIRA',\t'EUCA',\t'OTRAS',\t'TOTAL',\t'SUM DANO',\t'USD DANO',\t'ESTADO DANO',\t'DETECCION',\t'DESPACHO',\t'ARRIBO',\t'CONTENCION',\t'CONTROL',\t'EXTINCION',\t'MIN DESPACHO',\t'PROM SALIDA',\t'MIN ARRIBO',\t'PROM INICIO COMBATE',\t'MIN CONTENCION',\t'MIN CONTROL',\t'MIN EXTINCION',\t'MIN HASTA CONTENCION',\t'MIN TOTAL',\t'RECURSOS DESPACHO',\t'RECURSOS COMBATE',\t'RECURSOS CONTROL',\t'ESTIMADO CONTROL',\t'AREA CONTROL'])\n"
   ]
  },
  {
   "cell_type": "code",
   "execution_count": 14,
   "metadata": {},
   "outputs": [],
   "source": [
    "df_columns=['FICHA','PIRA','EUCA','INICIO','CONTROL']\n",
    "df2=df2.loc[:,df_columns]\n"
   ]
  },
  {
   "cell_type": "code",
   "execution_count": 15,
   "metadata": {},
   "outputs": [],
   "source": [
    "gdf['ficha']=gdf['ficha'].astype(int)"
   ]
  },
  {
   "cell_type": "code",
   "execution_count": 16,
   "metadata": {},
   "outputs": [],
   "source": [
    "fichas=gdf['ficha'].tolist()"
   ]
  },
  {
   "cell_type": "code",
   "execution_count": 22,
   "metadata": {},
   "outputs": [],
   "source": [
    "fichas.remove(999)"
   ]
  },
  {
   "cell_type": "code",
   "execution_count": 24,
   "metadata": {},
   "outputs": [],
   "source": [
    "df_incendio=pd.merge(gdf,df2,left_on=['ficha'],right_on=['FICHA'], how='left')"
   ]
  },
  {
   "cell_type": "code",
   "execution_count": 25,
   "metadata": {},
   "outputs": [
    {
     "data": {
      "text/html": [
       "<div>\n",
       "<style scoped>\n",
       "    .dataframe tbody tr th:only-of-type {\n",
       "        vertical-align: middle;\n",
       "    }\n",
       "\n",
       "    .dataframe tbody tr th {\n",
       "        vertical-align: top;\n",
       "    }\n",
       "\n",
       "    .dataframe thead th {\n",
       "        text-align: right;\n",
       "    }\n",
       "</style>\n",
       "<table border=\"1\" class=\"dataframe\">\n",
       "  <thead>\n",
       "    <tr style=\"text-align: right;\">\n",
       "      <th></th>\n",
       "      <th>ficha</th>\n",
       "      <th>geometry</th>\n",
       "      <th>FICHA</th>\n",
       "      <th>PIRA</th>\n",
       "      <th>EUCA</th>\n",
       "      <th>INICIO</th>\n",
       "      <th>CONTROL</th>\n",
       "    </tr>\n",
       "  </thead>\n",
       "  <tbody>\n",
       "    <tr>\n",
       "      <th>0</th>\n",
       "      <td>999</td>\n",
       "      <td>MULTIPOLYGON (((-73.06777 -41.45511, -73.06674...</td>\n",
       "      <td>NaN</td>\n",
       "      <td>NaN</td>\n",
       "      <td>NaN</td>\n",
       "      <td>NaN</td>\n",
       "      <td>NaN</td>\n",
       "    </tr>\n",
       "    <tr>\n",
       "      <th>1</th>\n",
       "      <td>224011944</td>\n",
       "      <td>POLYGON ((-72.42615 -36.63048, -72.42642 -36.6...</td>\n",
       "      <td>224011944.0</td>\n",
       "      <td>34870.0</td>\n",
       "      <td>0.0</td>\n",
       "      <td>2024-01-22 15:59:34</td>\n",
       "      <td>2024-01-23 21:00:30</td>\n",
       "    </tr>\n",
       "    <tr>\n",
       "      <th>2</th>\n",
       "      <td>224011971</td>\n",
       "      <td>POLYGON ((-72.91383 -36.86951, -72.91326 -36.8...</td>\n",
       "      <td>224011971.0</td>\n",
       "      <td>162300.0</td>\n",
       "      <td>900.0</td>\n",
       "      <td>2024-01-23 09:39:33</td>\n",
       "      <td>2024-01-24 09:40:28</td>\n",
       "    </tr>\n",
       "    <tr>\n",
       "      <th>3</th>\n",
       "      <td>224011981</td>\n",
       "      <td>POLYGON ((-71.70588 -35.12268, -71.70548 -35.1...</td>\n",
       "      <td>224011981.0</td>\n",
       "      <td>1000.0</td>\n",
       "      <td>0.0</td>\n",
       "      <td>2024-01-23 15:24:42</td>\n",
       "      <td>2024-01-23 16:39:30</td>\n",
       "    </tr>\n",
       "    <tr>\n",
       "      <th>4</th>\n",
       "      <td>224012846</td>\n",
       "      <td>POLYGON ((-71.83976 -35.84575, -71.84197 -35.8...</td>\n",
       "      <td>224012846.0</td>\n",
       "      <td>28000.0</td>\n",
       "      <td>0.0</td>\n",
       "      <td>2024-02-28 22:15:03</td>\n",
       "      <td>2024-02-29 01:30:00</td>\n",
       "    </tr>\n",
       "    <tr>\n",
       "      <th>5</th>\n",
       "      <td>224012941</td>\n",
       "      <td>POLYGON ((-72.71019 -37.82640, -72.70988 -37.8...</td>\n",
       "      <td>224012941.0</td>\n",
       "      <td>52500.0</td>\n",
       "      <td>0.0</td>\n",
       "      <td>2024-03-04 16:31:10</td>\n",
       "      <td>2024-03-04 20:50:00</td>\n",
       "    </tr>\n",
       "    <tr>\n",
       "      <th>6</th>\n",
       "      <td>224012954</td>\n",
       "      <td>POLYGON ((-72.62030 -36.82887, -72.61962 -36.8...</td>\n",
       "      <td>224012954.0</td>\n",
       "      <td>5950.0</td>\n",
       "      <td>0.0</td>\n",
       "      <td>2024-03-05 05:27:32</td>\n",
       "      <td>2024-03-05 07:05:18</td>\n",
       "    </tr>\n",
       "    <tr>\n",
       "      <th>7</th>\n",
       "      <td>224013188</td>\n",
       "      <td>POLYGON ((-72.61941 -36.83072, -72.61980 -36.8...</td>\n",
       "      <td>224013188.0</td>\n",
       "      <td>26000.0</td>\n",
       "      <td>0.0</td>\n",
       "      <td>2024-03-14 22:27:08</td>\n",
       "      <td>2024-03-15 01:20:43</td>\n",
       "    </tr>\n",
       "  </tbody>\n",
       "</table>\n",
       "</div>"
      ],
      "text/plain": [
       "       ficha                                           geometry        FICHA  \\\n",
       "0        999  MULTIPOLYGON (((-73.06777 -41.45511, -73.06674...          NaN   \n",
       "1  224011944  POLYGON ((-72.42615 -36.63048, -72.42642 -36.6...  224011944.0   \n",
       "2  224011971  POLYGON ((-72.91383 -36.86951, -72.91326 -36.8...  224011971.0   \n",
       "3  224011981  POLYGON ((-71.70588 -35.12268, -71.70548 -35.1...  224011981.0   \n",
       "4  224012846  POLYGON ((-71.83976 -35.84575, -71.84197 -35.8...  224012846.0   \n",
       "5  224012941  POLYGON ((-72.71019 -37.82640, -72.70988 -37.8...  224012941.0   \n",
       "6  224012954  POLYGON ((-72.62030 -36.82887, -72.61962 -36.8...  224012954.0   \n",
       "7  224013188  POLYGON ((-72.61941 -36.83072, -72.61980 -36.8...  224013188.0   \n",
       "\n",
       "       PIRA   EUCA               INICIO              CONTROL  \n",
       "0       NaN    NaN                  NaN                  NaN  \n",
       "1   34870.0    0.0  2024-01-22 15:59:34  2024-01-23 21:00:30  \n",
       "2  162300.0  900.0  2024-01-23 09:39:33  2024-01-24 09:40:28  \n",
       "3    1000.0    0.0  2024-01-23 15:24:42  2024-01-23 16:39:30  \n",
       "4   28000.0    0.0  2024-02-28 22:15:03  2024-02-29 01:30:00  \n",
       "5   52500.0    0.0  2024-03-04 16:31:10  2024-03-04 20:50:00  \n",
       "6    5950.0    0.0  2024-03-05 05:27:32  2024-03-05 07:05:18  \n",
       "7   26000.0    0.0  2024-03-14 22:27:08  2024-03-15 01:20:43  "
      ]
     },
     "execution_count": 25,
     "metadata": {},
     "output_type": "execute_result"
    }
   ],
   "source": [
    "df_incendio\n",
    "\n",
    "\n"
   ]
  },
  {
   "cell_type": "code",
   "execution_count": 27,
   "metadata": {},
   "outputs": [
    {
     "data": {
      "text/plain": [
       "1    2024-01-23\n",
       "2    2024-01-24\n",
       "3    2024-01-24\n",
       "4    2024-02-29\n",
       "5    2024-03-05\n",
       "6    2024-03-06\n",
       "7    2024-03-15\n",
       "Name: INICIO, dtype: object"
      ]
     },
     "execution_count": 27,
     "metadata": {},
     "output_type": "execute_result"
    }
   ],
   "source": [
    "df_incendio.query('ficha >1000')['INICIO'].apply(lambda x: datetime.datetime.strptime(x, '%Y-%m-%d %H:%M:%S') - datetime.timedelta(days=-1)).dt.date"
   ]
  },
  {
   "cell_type": "code",
   "execution_count": null,
   "metadata": {},
   "outputs": [],
   "source": [
    "#.to_file('dNBRT2024_caso25marzo.shp')\n",
    "\n",
    "    gdf2=gdf.query(f'ficha == {i}')\n",
    "    fc = geemap.geopandas_to_ee(gdf2)\n",
    "    df3=df2[df2['FICHA'].isin(gdf['ficha'])]\n",
    "    date_inicio2 = df2.query(f'FICHA == {i}')['INICIO'].tolist()[0], '%Y-%m-%d %H:%M:%S')\n",
    "    date_control1 = datetime.datetime.strptime(df2.query(f'FICHA == {i}')['CONTROL'].tolist()[0], '%Y-%m-%d %H:%M:%S')\n",
    "    date_inicio2 =   date_inicio2 - datetime.timedelta(days=-1)\n",
    "    date_control1 = date_control1 + datetime.timedelta(days=-1)\n",
    "    date_inicio1 = date_inicio2 - datetime.timedelta(days=36)\n",
    "    date_control2 = date_control1 + datetime.timedelta(days=36)\n",
    "    date_inicio1 = date_inicio1.strftime('%Y-%m-%d')\n",
    "    date_inicio2 = date_inicio2.strftime('%Y-%m-%d')\n",
    "    date_control1 = date_control1.strftime('%Y-%m-%d')\n",
    "    date_control2 = date_control2.strftime('%Y-%m-%d')\n",
    "    prefire_start = f'{date_inicio1}'\n",
    "    prefire_end = f'{date_inicio2}'\n",
    "\n",
    "    # Now set the same parameters for AFTER the fire.\n",
    "    postfire_start = f'{date_control1}'\n",
    "    #postfire_end = time.strftime('%Y-%m-%d', time.localtime(time.time()))\n",
    "    postfire_end = f'{date_control2}'"
   ]
  },
  {
   "cell_type": "code",
   "execution_count": 28,
   "metadata": {},
   "outputs": [],
   "source": [
    "def addNBR(image):\n",
    "    nbr = image.normalizedDifference(['B8', 'B12']).rename(\"nbr\")\n",
    "    image = image.addBands(nbr)\n",
    "    return image\n",
    "\n",
    "def red2(image):\n",
    "    red= image.expression('(RED*1.3)',{'RED': image.select('B4') }).rename('B4B')\n",
    "    image = image.addBands(red)\n",
    "    return image\n",
    "\n",
    "def maskS2clouds(image):\n",
    "  qa = image.select('QA60')\n",
    "\n",
    "  # Bits 10 and 11 are clouds and cirrus, respectively.\n",
    "  cloudBitMask = 1 << 10\n",
    "  cirrusBitMask = 1 << 11\n",
    "\n",
    "  # Both flags should be set to zero, indicating clear conditions.\n",
    "  mask = qa.bitwiseAnd(cloudBitMask).eq(0).And(\n",
    "             qa.bitwiseAnd(cirrusBitMask).eq(0))\n",
    "\n",
    "  # Return the masked image, scaled to [0, 1].\n",
    "  return image.updateMask(mask).divide(10000)\n",
    "\n",
    "# Define a function to simplify the geometries in the feature collection\n",
    "def simplifyGeom(feature):\n",
    "  return feature.simplify(tolerance=50)\n",
    "\n",
    "# Define function to dissolve features based on an attribute name shared across all features (e.g., 'name')\n",
    "def dissolve_by_attribute(fc, attribute):\n",
    "    # Create a distinct list of attribute values for the given attribute name\n",
    "    attributes = fc.distinct(attribute).aggregate_array(attribute)\n",
    "    # Dissolve the polygons by each attribute value\n",
    "    dissolved_fc = ee.FeatureCollection(attributes.map(\n",
    "        lambda attr: ee.Feature(None, {\n",
    "            attribute: ee.String(attr),\n",
    "            'geometry': ee.Geometry.MultiPolygon(\n",
    "                fc.filter(ee.Filter.eq(attribute, attr)).geometry().dissolve())\n",
    "        })))\n",
    "    return dissolved_fc"
   ]
  },
  {
   "cell_type": "code",
   "execution_count": 29,
   "metadata": {},
   "outputs": [],
   "source": [
    "vizfalsoColor = {\n",
    "  'bands': ['B8', 'B4B', 'B3'],\n",
    "  'min': 0 ,\n",
    "  'max': 0.35,\n",
    "  'gamma': [1, 1, 1]\n",
    "}\n",
    "\n",
    "vizfalsoColor2 = {\n",
    "  'bands': ['B8', 'B4', 'B3'],\n",
    "  'min': 0 ,\n",
    "  'max': 0.35,\n",
    "  'gamma': [1, 1, 1]\n",
    "}\n",
    "\n",
    "vizfire = {\n",
    "  'bands': ['B11', 'B8B', 'B4'],\n",
    "  'min': 0.17 ,\n",
    "  'max': 0.35,\n",
    "  'gamma': [1, 1, 1]\n",
    "}\n",
    "\n",
    "viz_dNBR={\n",
    "  'min':1,\n",
    "  'max':7,#\"#7a8737\",\"#acbe4d\",\"#0ae042\",\n",
    "  'palette':[\"#7a8737\",\"#acbe4d\",\"#0ae042\",\"#fff70b\",\"#ffaf38\",\"#ff641b\",\"#a41fd6\"]\n",
    "}\n",
    "\n",
    "dNBR_col={0:\"#ffffff\",\n",
    "          1:\"#7a8737\",\n",
    "          2:\"#acbe4d\",\n",
    "          3:\"#0ae042\",\n",
    "          4:\"#fff70b\",\n",
    "          5:\"#ffaf38\",\n",
    "          6:\"#ff641b\",\n",
    "          7:\"#a41fd6\"}\n",
    "dNBR_name={0:\"Alta Regeneracion\",\n",
    "          1:\"Alta Regeneracion\",\n",
    "          2:\"Baja Regeneracion\",\n",
    "          3:\"No Quemado\",\n",
    "          4:\"Baja Severidad\",\n",
    "          5:\"Moderada Baja Severidad\",\n",
    "          6:\"Moderada Alta Severidad\",\n",
    "          7:\"Alta Severidad\"}"
   ]
  },
  {
   "cell_type": "code",
   "execution_count": 30,
   "metadata": {},
   "outputs": [],
   "source": [
    "appended_gdf = gpd.GeoDataFrame(crs='EPSG:4326')"
   ]
  },
  {
   "cell_type": "code",
   "execution_count": 31,
   "metadata": {},
   "outputs": [],
   "source": [
    "appended_gdf2=appended_gdf.copy()"
   ]
  },
  {
   "cell_type": "code",
   "execution_count": 32,
   "metadata": {},
   "outputs": [
    {
     "name": "stdout",
     "output_type": "stream",
     "text": [
      "224011944 2023-12-18 2024-01-23\n",
      "224011944 2024-01-22 2024-02-27\n",
      "224011971 2023-12-19 2024-01-24\n",
      "224011971 2024-01-23 2024-02-28\n",
      "224011981 2023-12-19 2024-01-24\n",
      "224011981 2024-01-22 2024-02-27\n",
      "224012846 2024-01-24 2024-02-29\n",
      "224012846 2024-02-28 2024-04-04\n"
     ]
    },
    {
     "ename": "AttributeError",
     "evalue": "No geometry data set yet (expected in column 'geometry'.)",
     "output_type": "error",
     "traceback": [
      "\u001b[1;31m---------------------------------------------------------------------------\u001b[0m",
      "\u001b[1;31mAttributeError\u001b[0m                            Traceback (most recent call last)",
      "\u001b[1;32m~\\AppData\\Local\\Temp\\5\\ipykernel_10772\\3003763083.py\u001b[0m in \u001b[0;36m<module>\u001b[1;34m\u001b[0m\n\u001b[0;32m     76\u001b[0m     \u001b[0mgdf3\u001b[0m\u001b[1;33m[\u001b[0m\u001b[1;34m'postfire_1'\u001b[0m\u001b[1;33m]\u001b[0m\u001b[1;33m=\u001b[0m\u001b[1;34mf'{postfire_start}'\u001b[0m\u001b[1;33m\u001b[0m\u001b[1;33m\u001b[0m\u001b[0m\n\u001b[0;32m     77\u001b[0m     \u001b[0mgdf3\u001b[0m\u001b[1;33m[\u001b[0m\u001b[1;34m'postfire_2'\u001b[0m\u001b[1;33m]\u001b[0m\u001b[1;33m=\u001b[0m\u001b[1;34mf'{postfire_end}'\u001b[0m\u001b[1;33m\u001b[0m\u001b[1;33m\u001b[0m\u001b[0m\n\u001b[1;32m---> 78\u001b[1;33m     \u001b[0mgdf3\u001b[0m\u001b[1;33m=\u001b[0m\u001b[0mgdf3\u001b[0m\u001b[1;33m.\u001b[0m\u001b[0mdissolve\u001b[0m\u001b[1;33m(\u001b[0m\u001b[1;34m'zone'\u001b[0m\u001b[1;33m,\u001b[0m\u001b[0maggfunc\u001b[0m\u001b[1;33m=\u001b[0m\u001b[1;34m'max'\u001b[0m\u001b[1;33m)\u001b[0m\u001b[1;33m.\u001b[0m\u001b[0mreset_index\u001b[0m\u001b[1;33m(\u001b[0m\u001b[1;33m)\u001b[0m\u001b[1;33m\u001b[0m\u001b[1;33m\u001b[0m\u001b[0m\n\u001b[0m\u001b[0;32m     79\u001b[0m     \u001b[0mappended_gdf\u001b[0m \u001b[1;33m=\u001b[0m \u001b[0mappended_gdf\u001b[0m\u001b[1;33m.\u001b[0m\u001b[0mappend\u001b[0m\u001b[1;33m(\u001b[0m\u001b[0mgdf3\u001b[0m\u001b[1;33m,\u001b[0m \u001b[0mignore_index\u001b[0m\u001b[1;33m=\u001b[0m\u001b[1;32mTrue\u001b[0m\u001b[1;33m)\u001b[0m\u001b[1;33m\u001b[0m\u001b[1;33m\u001b[0m\u001b[0m\n\u001b[0;32m     80\u001b[0m \u001b[1;31m# gdf3['dNBR_Desc'] = gdf3['zone'].map(dNBR_name)\u001b[0m\u001b[1;33m\u001b[0m\u001b[1;33m\u001b[0m\u001b[1;33m\u001b[0m\u001b[0m\n",
      "\u001b[1;32mc:\\Users\\raul.perez.astorga\\AppData\\Local\\Programs\\Python\\Python37\\lib\\site-packages\\geopandas\\geodataframe.py\u001b[0m in \u001b[0;36mdissolve\u001b[1;34m(self, by, aggfunc, as_index, level, sort, observed, dropna)\u001b[0m\n\u001b[0;32m   1528\u001b[0m \u001b[1;33m\u001b[0m\u001b[0m\n\u001b[0;32m   1529\u001b[0m         \u001b[1;31m# Process non-spatial component\u001b[0m\u001b[1;33m\u001b[0m\u001b[1;33m\u001b[0m\u001b[1;33m\u001b[0m\u001b[0m\n\u001b[1;32m-> 1530\u001b[1;33m         \u001b[0mdata\u001b[0m \u001b[1;33m=\u001b[0m \u001b[0mself\u001b[0m\u001b[1;33m.\u001b[0m\u001b[0mdrop\u001b[0m\u001b[1;33m(\u001b[0m\u001b[0mlabels\u001b[0m\u001b[1;33m=\u001b[0m\u001b[0mself\u001b[0m\u001b[1;33m.\u001b[0m\u001b[0mgeometry\u001b[0m\u001b[1;33m.\u001b[0m\u001b[0mname\u001b[0m\u001b[1;33m,\u001b[0m \u001b[0maxis\u001b[0m\u001b[1;33m=\u001b[0m\u001b[1;36m1\u001b[0m\u001b[1;33m)\u001b[0m\u001b[1;33m\u001b[0m\u001b[1;33m\u001b[0m\u001b[0m\n\u001b[0m\u001b[0;32m   1531\u001b[0m         \u001b[0maggregated_data\u001b[0m \u001b[1;33m=\u001b[0m \u001b[0mdata\u001b[0m\u001b[1;33m.\u001b[0m\u001b[0mgroupby\u001b[0m\u001b[1;33m(\u001b[0m\u001b[1;33m**\u001b[0m\u001b[0mgroupby_kwargs\u001b[0m\u001b[1;33m)\u001b[0m\u001b[1;33m.\u001b[0m\u001b[0magg\u001b[0m\u001b[1;33m(\u001b[0m\u001b[0maggfunc\u001b[0m\u001b[1;33m)\u001b[0m\u001b[1;33m\u001b[0m\u001b[1;33m\u001b[0m\u001b[0m\n\u001b[0;32m   1532\u001b[0m \u001b[1;33m\u001b[0m\u001b[0m\n",
      "\u001b[1;32mc:\\Users\\raul.perez.astorga\\AppData\\Local\\Programs\\Python\\Python37\\lib\\site-packages\\pandas\\core\\generic.py\u001b[0m in \u001b[0;36m__getattr__\u001b[1;34m(self, name)\u001b[0m\n\u001b[0;32m   5463\u001b[0m             \u001b[1;32mif\u001b[0m \u001b[0mself\u001b[0m\u001b[1;33m.\u001b[0m\u001b[0m_info_axis\u001b[0m\u001b[1;33m.\u001b[0m\u001b[0m_can_hold_identifiers_and_holds_name\u001b[0m\u001b[1;33m(\u001b[0m\u001b[0mname\u001b[0m\u001b[1;33m)\u001b[0m\u001b[1;33m:\u001b[0m\u001b[1;33m\u001b[0m\u001b[1;33m\u001b[0m\u001b[0m\n\u001b[0;32m   5464\u001b[0m                 \u001b[1;32mreturn\u001b[0m \u001b[0mself\u001b[0m\u001b[1;33m[\u001b[0m\u001b[0mname\u001b[0m\u001b[1;33m]\u001b[0m\u001b[1;33m\u001b[0m\u001b[1;33m\u001b[0m\u001b[0m\n\u001b[1;32m-> 5465\u001b[1;33m             \u001b[1;32mreturn\u001b[0m \u001b[0mobject\u001b[0m\u001b[1;33m.\u001b[0m\u001b[0m__getattribute__\u001b[0m\u001b[1;33m(\u001b[0m\u001b[0mself\u001b[0m\u001b[1;33m,\u001b[0m \u001b[0mname\u001b[0m\u001b[1;33m)\u001b[0m\u001b[1;33m\u001b[0m\u001b[1;33m\u001b[0m\u001b[0m\n\u001b[0m\u001b[0;32m   5466\u001b[0m \u001b[1;33m\u001b[0m\u001b[0m\n\u001b[0;32m   5467\u001b[0m     \u001b[1;32mdef\u001b[0m \u001b[0m__setattr__\u001b[0m\u001b[1;33m(\u001b[0m\u001b[0mself\u001b[0m\u001b[1;33m,\u001b[0m \u001b[0mname\u001b[0m\u001b[1;33m:\u001b[0m \u001b[0mstr\u001b[0m\u001b[1;33m,\u001b[0m \u001b[0mvalue\u001b[0m\u001b[1;33m)\u001b[0m \u001b[1;33m->\u001b[0m \u001b[1;32mNone\u001b[0m\u001b[1;33m:\u001b[0m\u001b[1;33m\u001b[0m\u001b[1;33m\u001b[0m\u001b[0m\n",
      "\u001b[1;32mc:\\Users\\raul.perez.astorga\\AppData\\Local\\Programs\\Python\\Python37\\lib\\site-packages\\geopandas\\geodataframe.py\u001b[0m in \u001b[0;36m_get_geometry\u001b[1;34m(self)\u001b[0m\n\u001b[0;32m    203\u001b[0m             raise AttributeError(\n\u001b[0;32m    204\u001b[0m                 \u001b[1;34m\"No geometry data set yet (expected in\"\u001b[0m\u001b[1;33m\u001b[0m\u001b[1;33m\u001b[0m\u001b[0m\n\u001b[1;32m--> 205\u001b[1;33m                 \u001b[1;34m\" column '%s'.)\"\u001b[0m \u001b[1;33m%\u001b[0m \u001b[0mself\u001b[0m\u001b[1;33m.\u001b[0m\u001b[0m_geometry_column_name\u001b[0m\u001b[1;33m\u001b[0m\u001b[1;33m\u001b[0m\u001b[0m\n\u001b[0m\u001b[0;32m    206\u001b[0m             )\n\u001b[0;32m    207\u001b[0m         \u001b[1;32mreturn\u001b[0m \u001b[0mself\u001b[0m\u001b[1;33m[\u001b[0m\u001b[0mself\u001b[0m\u001b[1;33m.\u001b[0m\u001b[0m_geometry_column_name\u001b[0m\u001b[1;33m]\u001b[0m\u001b[1;33m\u001b[0m\u001b[1;33m\u001b[0m\u001b[0m\n",
      "\u001b[1;31mAttributeError\u001b[0m: No geometry data set yet (expected in column 'geometry'.)"
     ]
    }
   ],
   "source": [
    "# def dnbr_func(i):\n",
    "for i in fichas:\n",
    "    #i=224012643\n",
    "    gdf2=gdf.query(f'ficha == {i}')\n",
    "    fc = geemap.geopandas_to_ee(gdf2)\n",
    "    df3=df2[df2['FICHA'].isin(gdf['ficha'])]\n",
    "    date_inicio2 = datetime.datetime.strptime(df2.query(f'FICHA == {i}')['INICIO'].tolist()[0], '%Y-%m-%d %H:%M:%S')\n",
    "    date_control1 = datetime.datetime.strptime(df2.query(f'FICHA == {i}')['CONTROL'].tolist()[0], '%Y-%m-%d %H:%M:%S')\n",
    "    date_inicio2 =   date_inicio2 - datetime.timedelta(days=-1)\n",
    "    date_control1 = date_control1 + datetime.timedelta(days=-1)\n",
    "    date_inicio1 = date_inicio2 - datetime.timedelta(days=36)\n",
    "    date_control2 = date_control1 + datetime.timedelta(days=36)\n",
    "    date_inicio1 = date_inicio1.strftime('%Y-%m-%d')\n",
    "    date_inicio2 = date_inicio2.strftime('%Y-%m-%d')\n",
    "    date_control1 = date_control1.strftime('%Y-%m-%d')\n",
    "    date_control2 = date_control2.strftime('%Y-%m-%d')\n",
    "    prefire_start = f'{date_inicio1}'\n",
    "    prefire_end = f'{date_inicio2}'\n",
    "\n",
    "    # Now set the same parameters for AFTER the fire.\n",
    "    postfire_start = f'{date_control1}'\n",
    "    #postfire_end = time.strftime('%Y-%m-%d', time.localtime(time.time()))\n",
    "    postfire_end = f'{date_control2}'\n",
    "\n",
    "    roi = fc\n",
    "    print(i, prefire_start, prefire_end, sep=' ')\n",
    "    prefireImCol = ee.ImageCollection('COPERNICUS/S2_SR_HARMONIZED') \\\n",
    "                    .filterDate(prefire_start, prefire_end) \\\n",
    "                    .filterBounds(roi) \\\n",
    "                    .sort('system:time_start', False)\\\n",
    "                    .map(maskS2clouds)\\\n",
    "                    .map(addNBR)\n",
    "    print(i, postfire_start, postfire_end, sep=' ')\n",
    "    postfireImCol = ee.ImageCollection('COPERNICUS/S2_SR_HARMONIZED') \\\n",
    "                    .filterDate(postfire_start, postfire_end) \\\n",
    "                    .filterBounds(roi) \\\n",
    "                    .filter(ee.Filter.lt('CLOUDY_PIXEL_PERCENTAGE', 90)) \\\n",
    "                    .map(maskS2clouds)\\\n",
    "                    .map(addNBR)\n",
    "\n",
    "    #HARMONIZE .filter(ee.Filter.lt('CLOUDY_PIXEL_PERCENTAGE', 20)) \\\n",
    "    r20 = fc\\\n",
    "        .map(lambda f: f.buffer(50))\\\n",
    "        .union()\n",
    "\n",
    "    prefire = prefireImCol.mosaic().clip(r20)\n",
    "    postfire = postfireImCol.mosaic().clip(r20)\n",
    "\n",
    "    preNBR = prefire.select('nbr')\n",
    "    postNBR = postfire.select('nbr')\n",
    "    dNBR_withoutsmooth = preNBR.subtract(postNBR)\n",
    "    dNBR_unscaled = dNBR_withoutsmooth.reduceNeighborhood(\n",
    "        reducer=ee.Reducer.mean(),\n",
    "        kernel=ee.Kernel.gaussian(radius=5),\n",
    "    )\n",
    "    #dNBR_unscaled=dNBR_unscaled.clip(r20)\n",
    "    dNBR_reclass = dNBR_unscaled.gte(-0.5).add(dNBR_unscaled.gte(-0.25)).add(dNBR_unscaled.gte(-0.1)).add(dNBR_unscaled.gte(0.1)).add(dNBR_unscaled.gte(0.27)).add(dNBR_unscaled.gte(0.44)).add(dNBR_unscaled.gte(0.66))\n",
    "    #dNBR_Seguro = dNBR_unscaled.gte(0.27)\n",
    "\n",
    "    clip_fc= dNBR_reclass.clip(r20)\n",
    "    dNBR_vector= dNBR_reclass.reduceToVectors(**{\n",
    "    'geometry':r20,\n",
    "    'crs': 'EPSG:32718',\n",
    "    'scale':10,\n",
    "    'geometryType':'polygon',\n",
    "    'eightConnected': False,\n",
    "    'bestEffort':False,\n",
    "    'maxPixels':9e10,\n",
    "    'labelProperty': 'zone',\n",
    "    }\n",
    "    )\n",
    "    gdf3 = geemap.ee_to_geopandas(dNBR_vector, selectors=['id', 'name'])\n",
    "    gdf3['ficha']= f'{i}'\n",
    "    gdf3['prefire_1']=f'{prefire_start}'\n",
    "    gdf3['prefire_2']=f'{prefire_end}'\n",
    "    gdf3['postfire_1']=f'{postfire_start}'\n",
    "    gdf3['postfire_2']=f'{postfire_end}'\n",
    "    gdf3=gdf3.dissolve('zone',aggfunc='max').reset_index()\n",
    "    appended_gdf = appended_gdf.append(gdf3, ignore_index=True)\n",
    "# gdf3['dNBR_Desc'] = gdf3['zone'].map(dNBR_name)\n",
    "# gdf3.to_file(f'dNBRT2024_{i}.shp')"
   ]
  },
  {
   "cell_type": "code",
   "execution_count": 35,
   "metadata": {},
   "outputs": [
    {
     "data": {
      "text/html": [
       "<div>\n",
       "<style scoped>\n",
       "    .dataframe tbody tr th:only-of-type {\n",
       "        vertical-align: middle;\n",
       "    }\n",
       "\n",
       "    .dataframe tbody tr th {\n",
       "        vertical-align: top;\n",
       "    }\n",
       "\n",
       "    .dataframe thead th {\n",
       "        text-align: right;\n",
       "    }\n",
       "</style>\n",
       "<table border=\"1\" class=\"dataframe\">\n",
       "  <thead>\n",
       "    <tr style=\"text-align: right;\">\n",
       "      <th></th>\n",
       "      <th>zone</th>\n",
       "      <th>geometry</th>\n",
       "      <th>count</th>\n",
       "      <th>ficha</th>\n",
       "      <th>prefire_1</th>\n",
       "      <th>prefire_2</th>\n",
       "      <th>postfire_1</th>\n",
       "      <th>postfire_2</th>\n",
       "    </tr>\n",
       "  </thead>\n",
       "  <tbody>\n",
       "    <tr>\n",
       "      <th>0</th>\n",
       "      <td>3</td>\n",
       "      <td>POLYGON ((-72.43297 -36.63291, -72.43296 -36.6...</td>\n",
       "      <td>1283</td>\n",
       "      <td>224011944</td>\n",
       "      <td>2023-12-18</td>\n",
       "      <td>2024-01-23</td>\n",
       "      <td>2024-01-22</td>\n",
       "      <td>2024-02-27</td>\n",
       "    </tr>\n",
       "    <tr>\n",
       "      <th>1</th>\n",
       "      <td>4</td>\n",
       "      <td>MULTIPOLYGON (((-72.42860 -36.63299, -72.42838...</td>\n",
       "      <td>497</td>\n",
       "      <td>224011944</td>\n",
       "      <td>2023-12-18</td>\n",
       "      <td>2024-01-23</td>\n",
       "      <td>2024-01-22</td>\n",
       "      <td>2024-02-27</td>\n",
       "    </tr>\n",
       "    <tr>\n",
       "      <th>2</th>\n",
       "      <td>5</td>\n",
       "      <td>MULTIPOLYGON (((-72.42750 -36.63261, -72.42683...</td>\n",
       "      <td>93</td>\n",
       "      <td>224011944</td>\n",
       "      <td>2023-12-18</td>\n",
       "      <td>2024-01-23</td>\n",
       "      <td>2024-01-22</td>\n",
       "      <td>2024-02-27</td>\n",
       "    </tr>\n",
       "    <tr>\n",
       "      <th>3</th>\n",
       "      <td>6</td>\n",
       "      <td>MULTIPOLYGON (((-72.42762 -36.63225, -72.42763...</td>\n",
       "      <td>95</td>\n",
       "      <td>224011944</td>\n",
       "      <td>2023-12-18</td>\n",
       "      <td>2024-01-23</td>\n",
       "      <td>2024-01-22</td>\n",
       "      <td>2024-02-27</td>\n",
       "    </tr>\n",
       "    <tr>\n",
       "      <th>4</th>\n",
       "      <td>7</td>\n",
       "      <td>POLYGON ((-72.42583 -36.63221, -72.42583 -36.6...</td>\n",
       "      <td>2</td>\n",
       "      <td>224011944</td>\n",
       "      <td>2023-12-18</td>\n",
       "      <td>2024-01-23</td>\n",
       "      <td>2024-01-22</td>\n",
       "      <td>2024-02-27</td>\n",
       "    </tr>\n",
       "    <tr>\n",
       "      <th>5</th>\n",
       "      <td>2</td>\n",
       "      <td>MULTIPOLYGON (((-72.91491 -36.87017, -72.91491...</td>\n",
       "      <td>12</td>\n",
       "      <td>224011971</td>\n",
       "      <td>2023-12-19</td>\n",
       "      <td>2024-01-24</td>\n",
       "      <td>2024-01-23</td>\n",
       "      <td>2024-02-28</td>\n",
       "    </tr>\n",
       "    <tr>\n",
       "      <th>6</th>\n",
       "      <td>3</td>\n",
       "      <td>POLYGON ((-72.91642 -36.86813, -72.91641 -36.8...</td>\n",
       "      <td>1998</td>\n",
       "      <td>224011971</td>\n",
       "      <td>2023-12-19</td>\n",
       "      <td>2024-01-24</td>\n",
       "      <td>2024-01-23</td>\n",
       "      <td>2024-02-28</td>\n",
       "    </tr>\n",
       "    <tr>\n",
       "      <th>7</th>\n",
       "      <td>4</td>\n",
       "      <td>MULTIPOLYGON (((-72.91447 -36.86963, -72.91447...</td>\n",
       "      <td>167</td>\n",
       "      <td>224011971</td>\n",
       "      <td>2023-12-19</td>\n",
       "      <td>2024-01-24</td>\n",
       "      <td>2024-01-23</td>\n",
       "      <td>2024-02-28</td>\n",
       "    </tr>\n",
       "    <tr>\n",
       "      <th>8</th>\n",
       "      <td>5</td>\n",
       "      <td>MULTIPOLYGON (((-72.91493 -36.86927, -72.91482...</td>\n",
       "      <td>32</td>\n",
       "      <td>224011971</td>\n",
       "      <td>2023-12-19</td>\n",
       "      <td>2024-01-24</td>\n",
       "      <td>2024-01-23</td>\n",
       "      <td>2024-02-28</td>\n",
       "    </tr>\n",
       "    <tr>\n",
       "      <th>9</th>\n",
       "      <td>6</td>\n",
       "      <td>MULTIPOLYGON (((-72.91459 -36.86936, -72.91459...</td>\n",
       "      <td>8</td>\n",
       "      <td>224011971</td>\n",
       "      <td>2023-12-19</td>\n",
       "      <td>2024-01-24</td>\n",
       "      <td>2024-01-23</td>\n",
       "      <td>2024-02-28</td>\n",
       "    </tr>\n",
       "    <tr>\n",
       "      <th>10</th>\n",
       "      <td>3</td>\n",
       "      <td>MULTIPOLYGON (((-71.70634 -35.12246, -71.70633...</td>\n",
       "      <td>297</td>\n",
       "      <td>224011981</td>\n",
       "      <td>2023-12-19</td>\n",
       "      <td>2024-01-24</td>\n",
       "      <td>2024-01-22</td>\n",
       "      <td>2024-02-27</td>\n",
       "    </tr>\n",
       "    <tr>\n",
       "      <th>11</th>\n",
       "      <td>4</td>\n",
       "      <td>MULTIPOLYGON (((-71.70664 -35.12319, -71.70664...</td>\n",
       "      <td>224</td>\n",
       "      <td>224011981</td>\n",
       "      <td>2023-12-19</td>\n",
       "      <td>2024-01-24</td>\n",
       "      <td>2024-01-22</td>\n",
       "      <td>2024-02-27</td>\n",
       "    </tr>\n",
       "    <tr>\n",
       "      <th>12</th>\n",
       "      <td>5</td>\n",
       "      <td>MULTIPOLYGON (((-71.70602 -35.12218, -71.70601...</td>\n",
       "      <td>20</td>\n",
       "      <td>224011981</td>\n",
       "      <td>2023-12-19</td>\n",
       "      <td>2024-01-24</td>\n",
       "      <td>2024-01-22</td>\n",
       "      <td>2024-02-27</td>\n",
       "    </tr>\n",
       "  </tbody>\n",
       "</table>\n",
       "</div>"
      ],
      "text/plain": [
       "    zone                                           geometry  count      ficha  \\\n",
       "0      3  POLYGON ((-72.43297 -36.63291, -72.43296 -36.6...   1283  224011944   \n",
       "1      4  MULTIPOLYGON (((-72.42860 -36.63299, -72.42838...    497  224011944   \n",
       "2      5  MULTIPOLYGON (((-72.42750 -36.63261, -72.42683...     93  224011944   \n",
       "3      6  MULTIPOLYGON (((-72.42762 -36.63225, -72.42763...     95  224011944   \n",
       "4      7  POLYGON ((-72.42583 -36.63221, -72.42583 -36.6...      2  224011944   \n",
       "5      2  MULTIPOLYGON (((-72.91491 -36.87017, -72.91491...     12  224011971   \n",
       "6      3  POLYGON ((-72.91642 -36.86813, -72.91641 -36.8...   1998  224011971   \n",
       "7      4  MULTIPOLYGON (((-72.91447 -36.86963, -72.91447...    167  224011971   \n",
       "8      5  MULTIPOLYGON (((-72.91493 -36.86927, -72.91482...     32  224011971   \n",
       "9      6  MULTIPOLYGON (((-72.91459 -36.86936, -72.91459...      8  224011971   \n",
       "10     3  MULTIPOLYGON (((-71.70634 -35.12246, -71.70633...    297  224011981   \n",
       "11     4  MULTIPOLYGON (((-71.70664 -35.12319, -71.70664...    224  224011981   \n",
       "12     5  MULTIPOLYGON (((-71.70602 -35.12218, -71.70601...     20  224011981   \n",
       "\n",
       "     prefire_1   prefire_2  postfire_1  postfire_2  \n",
       "0   2023-12-18  2024-01-23  2024-01-22  2024-02-27  \n",
       "1   2023-12-18  2024-01-23  2024-01-22  2024-02-27  \n",
       "2   2023-12-18  2024-01-23  2024-01-22  2024-02-27  \n",
       "3   2023-12-18  2024-01-23  2024-01-22  2024-02-27  \n",
       "4   2023-12-18  2024-01-23  2024-01-22  2024-02-27  \n",
       "5   2023-12-19  2024-01-24  2024-01-23  2024-02-28  \n",
       "6   2023-12-19  2024-01-24  2024-01-23  2024-02-28  \n",
       "7   2023-12-19  2024-01-24  2024-01-23  2024-02-28  \n",
       "8   2023-12-19  2024-01-24  2024-01-23  2024-02-28  \n",
       "9   2023-12-19  2024-01-24  2024-01-23  2024-02-28  \n",
       "10  2023-12-19  2024-01-24  2024-01-22  2024-02-27  \n",
       "11  2023-12-19  2024-01-24  2024-01-22  2024-02-27  \n",
       "12  2023-12-19  2024-01-24  2024-01-22  2024-02-27  "
      ]
     },
     "execution_count": 35,
     "metadata": {},
     "output_type": "execute_result"
    }
   ],
   "source": [
    "appended_gdf"
   ]
  },
  {
   "cell_type": "code",
   "execution_count": 34,
   "metadata": {},
   "outputs": [
    {
     "data": {
      "text/plain": [
       "<AxesSubplot:>"
      ]
     },
     "execution_count": 34,
     "metadata": {},
     "output_type": "execute_result"
    },
    {
     "data": {
      "image/png": "[encoded data removed]",
      "text/plain": [
       "<Figure size 640x480 with 1 Axes>"
      ]
     },
     "metadata": {},
     "output_type": "display_data"
    }
   ],
   "source": [
    "appended_gdf.plot()"
   ]
  },
  {
   "cell_type": "code",
   "execution_count": null,
   "metadata": {},
   "outputs": [],
   "source": [
    "dnbr_func(224012590)\n",
    "#224012343 224012590 224012643, 224012647"
   ]
  },
  {
   "cell_type": "code",
   "execution_count": null,
   "metadata": {},
   "outputs": [],
   "source": [
    "df2"
   ]
  },
  {
   "cell_type": "code",
   "execution_count": null,
   "metadata": {},
   "outputs": [],
   "source": [
    "#appended_gdf['color'] = appended_gdf['zone'].map(dNBR_col)\n",
    "appended_gdf['dNBR_Desc'] = appended_gdf['zone'].map(dNBR_name)\n",
    "appended_gdf.to_file('dNBRT2024.shp')"
   ]
  },
  {
   "cell_type": "code",
   "execution_count": null,
   "metadata": {},
   "outputs": [],
   "source": [
    "appended_gdf.to_file('dNBRT2024.shp')"
   ]
  },
  {
   "cell_type": "code",
   "execution_count": null,
   "metadata": {},
   "outputs": [],
   "source": [
    "appended_gdf.plot()"
   ]
  },
  {
   "cell_type": "code",
   "execution_count": null,
   "metadata": {},
   "outputs": [],
   "source": [
    "for i in range(1,24):\n",
    "    print(i)"
   ]
  },
  {
   "cell_type": "code",
   "execution_count": null,
   "metadata": {},
   "outputs": [],
   "source": [
    "appended_gdf.query('ficha == \"224010922\"').plot()"
   ]
  },
  {
   "cell_type": "code",
   "execution_count": null,
   "metadata": {},
   "outputs": [],
   "source": [
    "gdf2=gdf.iloc[[0]]\n",
    "fc = geemap.geopandas_to_ee(gdf2)\n",
    "gdf2"
   ]
  },
  {
   "cell_type": "code",
   "execution_count": null,
   "metadata": {},
   "outputs": [],
   "source": [
    "df3=df2[df2['FICHA'].isin(gdf2['ficha'])]\n",
    "df_inicio=df3['INICIO'].tolist()\n",
    "df_control=df3['CONTROL'].tolist()\n",
    "date_inicio2 = datetime.datetime.strptime(df_inicio[0], '%Y-%m-%d %H:%M:%S')\n",
    "date_control1 = datetime.datetime.strptime(df_control[0], '%Y-%m-%d %H:%M:%S')\n",
    "date_inicio1 = date_inicio2 - datetime.timedelta(days=60)\n",
    "date_control2 = date_control1 + datetime.timedelta(days=20)\n",
    "date_inicio1 = date_inicio1.strftime('%Y-%m-%d')\n",
    "date_inicio2 = date_inicio2.strftime('%Y-%m-%d')\n",
    "date_control1 = date_control1.strftime('%Y-%m-%d')\n",
    "date_control2 = date_control2.strftime('%Y-%m-%d')\n",
    "prefire_start = f'{date_inicio1}'\n",
    "prefire_end = f'{date_inicio2}'\n",
    "\n",
    "# Now set the same parameters for AFTER the fire.\n",
    "postfire_start = f'{date_control1}'\n",
    "#postfire_end = time.strftime('%Y-%m-%d', time.localtime(time.time()))\n",
    "postfire_end = f'{date_control2}'\n",
    "\n",
    "roi = fc\n",
    "\n",
    "prefireImCol = ee.ImageCollection('COPERNICUS/S2_SR_HARMONIZED') \\\n",
    "                  .filterDate(prefire_start, prefire_end) \\\n",
    "                  .filter(ee.Filter.lt('CLOUDY_PIXEL_PERCENTAGE', 20))\\\n",
    "                  .filterBounds(roi) \\\n",
    "                  .map(maskS2clouds)\\\n",
    "                  .map(addNBR)\n",
    "                  \n",
    "postfireImCol = ee.ImageCollection('COPERNICUS/S2_SR_HARMONIZED') \\\n",
    "                  .filterDate(postfire_start, postfire_end) \\\n",
    "                  .filter(ee.Filter.lt('CLOUDY_PIXEL_PERCENTAGE', 20))\\\n",
    "                  .filterBounds(roi) \\\n",
    "                  .map(maskS2clouds)\\\n",
    "                  .map(addNBR)\n",
    "\n",
    "#HARMONIZE\n",
    "r20 = fc\\\n",
    "    .map(lambda f: f.buffer(50))\\\n",
    "    .union()\n",
    "\n",
    "prefire = prefireImCol.mosaic().clip(r20)\n",
    "postfire = postfireImCol.mosaic().clip(r20)\n",
    "\n",
    "preNBR = prefire.select('nbr')\n",
    "postNBR = postfire.select('nbr')\n",
    "dNBR_withoutsmooth = preNBR.subtract(postNBR)\n",
    "dNBR_unscaled = dNBR_withoutsmooth.reduceNeighborhood(\n",
    "    reducer=ee.Reducer.mean(),\n",
    "    kernel=ee.Kernel.gaussian(radius=5),\n",
    ")\n",
    "#dNBR_unscaled=dNBR_unscaled.clip(r20)\n",
    "dNBR_reclass = dNBR_unscaled.gte(-0.5).add(dNBR_unscaled.gte(-0.25)).add(dNBR_unscaled.gte(-0.1)).add(dNBR_unscaled.gte(0.1)).add(dNBR_unscaled.gte(0.27)).add(dNBR_unscaled.gte(0.44)).add(dNBR_unscaled.gte(0.66))\n",
    "#dNBR_Seguro = dNBR_unscaled.gte(0.27)\n",
    "\n",
    "clip_fc= dNBR_reclass.clip(r20)\n",
    "\n",
    "dNBR_vector= dNBR_reclass.reduceToVectors(**{\n",
    "'geometry':r20,\n",
    "'crs': 'EPSG:32718',\n",
    "'scale':5,\n",
    "'geometryType':'polygon',\n",
    "'eightConnected': False,\n",
    "'bestEffort':False,\n",
    "'maxPixels':9e10,\n",
    "'labelProperty': 'zone',\n",
    "}\n",
    ")\n",
    "gdf2 = geemap.ee_to_geopandas(dNBR_vector, selectors=['id', 'name'])\n",
    "gdf3=gdf2.dissolve('zone',aggfunc='max').reset_index()\n",
    "# Define your color dictionary\n",
    "dNBR_col = {\n",
    "    0: \"#ffffff\",\n",
    "    1: \"#7a8737\",\n",
    "    2: \"#acbe4d\",\n",
    "    3: \"#0ae042\",\n",
    "    4: \"#fff70b\",\n",
    "    5: \"#ffaf38\",\n",
    "    6: \"#ff641b\",\n",
    "    7: \"#a41fd6\"\n",
    "}\n",
    "\n",
    "# Create a new column 'color' mapped from 'zone' values to colors\n",
    "gdf4=gdf3.copy()\n",
    "gdf4['color'] = gdf4['zone'].map(dNBR_col)\n",
    "\n",
    "gdf4.plot(color=gdf4['color'], legend=True)"
   ]
  },
  {
   "cell_type": "code",
   "execution_count": null,
   "metadata": {},
   "outputs": [],
   "source": [
    "print(prefire_start, prefire_end, sep='  ') "
   ]
  },
  {
   "cell_type": "code",
   "execution_count": null,
   "metadata": {},
   "outputs": [],
   "source": [
    "gdf4['geometry']=gdf4.intersection(gdf.iloc[[0]].plot())"
   ]
  },
  {
   "cell_type": "code",
   "execution_count": null,
   "metadata": {},
   "outputs": [],
   "source": [
    "gdf4['dNBR_Desc'] = gdf4['zone'].map(dNBR_name)"
   ]
  },
  {
   "cell_type": "code",
   "execution_count": null,
   "metadata": {},
   "outputs": [],
   "source": [
    "gdf69=gdf.iloc[[0]]"
   ]
  },
  {
   "cell_type": "code",
   "execution_count": null,
   "metadata": {},
   "outputs": [],
   "source": [
    "\n",
    "gdf5=gpd.clip(gdf4,gdf69)\n",
    "gdf5.crs='EPSG:4326'\n"
   ]
  },
  {
   "cell_type": "code",
   "execution_count": null,
   "metadata": {},
   "outputs": [],
   "source": [
    "gdf5.plot(color=gdf5['color'], legend=True)"
   ]
  },
  {
   "cell_type": "code",
   "execution_count": null,
   "metadata": {},
   "outputs": [],
   "source": [
    "gdf3"
   ]
  },
  {
   "cell_type": "code",
   "execution_count": null,
   "metadata": {},
   "outputs": [],
   "source": [
    "#countries = ee.FeatureCollection('users/raulperezastorga/Limites_SPPP')\n",
    "#roi = countrie\n"
   ]
  },
  {
   "cell_type": "code",
   "execution_count": null,
   "metadata": {},
   "outputs": [],
   "source": [
    "gdf5.crs='EPSG:4326'\n",
    "gdf4.crs='EPSG:4326'\n",
    "gdf4.to_file('incendios_dNBR_bf.shp')\n",
    "gdf5.to_file('incendios_dNBR.shp')"
   ]
  },
  {
   "cell_type": "code",
   "execution_count": null,
   "metadata": {},
   "outputs": [],
   "source": []
  },
  {
   "cell_type": "code",
   "execution_count": null,
   "metadata": {},
   "outputs": [],
   "source": []
  },
  {
   "cell_type": "code",
   "execution_count": null,
   "metadata": {},
   "outputs": [],
   "source": []
  },
  {
   "cell_type": "code",
   "execution_count": null,
   "metadata": {},
   "outputs": [],
   "source": [
    "\n"
   ]
  },
  {
   "cell_type": "code",
   "execution_count": null,
   "metadata": {},
   "outputs": [],
   "source": []
  },
  {
   "cell_type": "code",
   "execution_count": null,
   "metadata": {},
   "outputs": [],
   "source": [
    "# firms = ee.ImageCollection('FIRMS')\n",
    "# fires_firms = ee.ImageCollection(firms\\\n",
    "#         .select('T21')\\\n",
    "#         .filterDate(prefire_start,postfire_end)\\\n",
    "#         .filterBounds(roi)) \n",
    "# fires_firmsmx = fires_firms.max().clip(roi).subtract(273.15)\n",
    "# fires_firmsrc = fires_firmsmx.gte(100)\n",
    "# fires_firmsvc= fires_firmsrc.reduceToVectors(**{\n",
    "#   'geometry':roi,\n",
    "#   'crs': 'EPSG:32718',\n",
    "#   'scale':500,\n",
    "#   'geometryType':'polygon',\n",
    "#   'eightConnected': False,\n",
    "#   'bestEffort':False,\n",
    "#   'maxPixels':9e10,\n",
    "# }\n",
    "#   )\n",
    "\n",
    "# r20=ee.FeatureCollection(fires_firmsvc.toList(fires_firmsvc.size()))\\\n",
    "#     .filterMetadata('label', 'greater_than', 0)\\\n",
    "#     .filterMetadata('count', 'greater_than', 10)\\\n",
    "#     .map(lambda f: f.buffer(500))\\\n",
    "#     .union()\\\n",
    "#     .geometry()\\\n",
    "#     .simplify(50)\n",
    "\n",
    "\n"
   ]
  },
  {
   "cell_type": "code",
   "execution_count": null,
   "metadata": {},
   "outputs": [],
   "source": []
  },
  {
   "cell_type": "code",
   "execution_count": null,
   "metadata": {},
   "outputs": [],
   "source": []
  },
  {
   "cell_type": "code",
   "execution_count": null,
   "metadata": {},
   "outputs": [],
   "source": [
    "Map = geemap.Map()\n",
    "Map"
   ]
  },
  {
   "cell_type": "code",
   "execution_count": null,
   "metadata": {},
   "outputs": [],
   "source": [
    "Map.addLayer(postfire,vizfalsoColor,\"FalsoColor post\")\n",
    "Map.addLayer(dNBR_reclass, viz_dNBR, 'dNBR Clase')\n",
    "Map.addLayer(fc, {}, \"geopandas to ee\")\n",
    "#Map.addLayer(comp,vizfire,\"FalsoColor fire\")\n",
    "Map.layers"
   ]
  },
  {
   "cell_type": "code",
   "execution_count": null,
   "metadata": {},
   "outputs": [],
   "source": [
    "\n"
   ]
  },
  {
   "cell_type": "code",
   "execution_count": null,
   "metadata": {},
   "outputs": [],
   "source": []
  },
  {
   "cell_type": "code",
   "execution_count": null,
   "metadata": {},
   "outputs": [],
   "source": [
    "gdf3=gdf2.geometry.unary_union"
   ]
  },
  {
   "cell_type": "code",
   "execution_count": null,
   "metadata": {},
   "outputs": [],
   "source": [
    "#import matplotlib.pyplot as plt\n",
    "gdf2.plot(column='zone')"
   ]
  },
  {
   "cell_type": "code",
   "execution_count": null,
   "metadata": {},
   "outputs": [],
   "source": [
    "gdf3"
   ]
  },
  {
   "cell_type": "code",
   "execution_count": null,
   "metadata": {},
   "outputs": [],
   "source": [
    "# dNBR_vector= dNBR_reclass.reduceToVectors(**{\n",
    "# 'geometry':r20,\n",
    "# 'crs': 'EPSG:32718',\n",
    "# 'scale':20,\n",
    "# 'geometryType':'polygon',\n",
    "# 'eightConnected': False,\n",
    "# 'bestEffort':False,\n",
    "# 'maxPixels':9e10,\n",
    "# }\n",
    "# )\n",
    "# dNDBR_export=ee.FeatureCollection(dNBR_vector.toList(dNBR_vector.size()))\\\n",
    "#     .map(simplifyGeom)\n",
    "# # Dissolve the simplified polygons and reduce file size\n",
    "# dissolved_polygon_fc = dissolve_by_attribute(dNDBR_export, 'label')\n",
    "\n",
    "#     #.filterMetadata('label', 'greater_than', 3)\n",
    "# geemap.ee_export_vector_to_drive(\n",
    "#     dissolved_polygon_fc, description=postfire_end+\"_dNBR_500m\", fileFormat='GeoJSON', folder=\"dNBR\"\n",
    "# )\n",
    "\n"
   ]
  },
  {
   "cell_type": "code",
   "execution_count": null,
   "metadata": {},
   "outputs": [],
   "source": [
    "# def export_drive(i):\n",
    "#   zona='{}'.format(i)\n",
    "#   area = ee.FeatureCollection('projects/gl-for-gis-dsr/assets/OrganizationalFeatures/Limite_SPPP_1')\\\n",
    "#       .filter(ee.Filter.equals(\"idzona\", int(zona)))\n",
    "#   dNBR_vector= dNBR_reclass.reduceToVectors(**{\n",
    "#     'geometry':area,\n",
    "#     'crs': 'EPSG:32718',\n",
    "#     'scale':30,\n",
    "#     'geometryType':'polygon',\n",
    "#     'eightConnected': False,\n",
    "#     'bestEffort':False,\n",
    "#     'maxPixels':9e10,\n",
    "#   }\n",
    "#     )\n",
    "#   dNDBR_export=ee.FeatureCollection(dNBR_vector.toList(dNBR_vector.size()))\n",
    "#   geemap.ee_export_vector_to_drive(\n",
    "#       dNBR_vector, description=postfire_end+\"_dNBR_\" + zona, fileFormat='GeoJSON', folder=\"dNBR\"\n",
    "#  )"
   ]
  },
  {
   "cell_type": "code",
   "execution_count": null,
   "metadata": {},
   "outputs": [],
   "source": [
    "# export_drive(4)"
   ]
  },
  {
   "cell_type": "code",
   "execution_count": null,
   "metadata": {},
   "outputs": [],
   "source": [
    "# for i in zona:\n",
    "#     export_drive(i)"
   ]
  },
  {
   "cell_type": "code",
   "execution_count": null,
   "metadata": {},
   "outputs": [],
   "source": [
    "# dNBR_vector= dNBR_reclass.reduceToVectors(**{\n",
    "# 'geometry':r20,\n",
    "# 'crs': 'EPSG:32718',\n",
    "# 'scale':30,\n",
    "# 'geometryType':'polygon',\n",
    "# 'eightConnected': False,\n",
    "# 'bestEffort':False,\n",
    "# 'maxPixels':9e10,\n",
    "# }\n",
    "# )\n",
    "# dNDBR_export=ee.FeatureCollection(dNBR_vector.toList(dNBR_vector.size()))\\\n",
    "#     .filterMetadata('label', 'greater_than', 3)\n",
    "# geemap.ee_export_vector_to_cloud_storage(\n",
    "#     dNDBR_export, description=postfire_end+\"_dNBR\", fileFormat='csv',bucket='ee_geomatica'\n",
    "# )\n",
    "\n",
    "# def export_bucket(i):\n",
    "#     sppp='{}'.format(i)\n",
    "#     area = roi\\\n",
    "#         .filter(ee.Filter.equals(\"PaisajeID\", int(sppp)))\n",
    "#     dNBR_vector= dNBR_reclass.reduceToVectors(**{\n",
    "#     'geometry':area,\n",
    "#     'crs': 'EPSG:32718',\n",
    "#     'scale':20,\n",
    "#     'geometryType':'polygon',\n",
    "#     'eightConnected': False,\n",
    "#     'bestEffort':False,\n",
    "#     'maxPixels':9e10,\n",
    "#     }\n",
    "#     )\n",
    "#     dNDBR_export=ee.FeatureCollection(dNBR_vector.toList(dNBR_vector.size()))\n",
    "#     geemap.ee_export_vector_to_cloud_storage(\n",
    "#         dNBR_vector, description=postfire_end+\"_dNBR_\" + str(sppp), fileFormat='SHP',bucket='bck-gl-for-gis-dsr-tfstate/EE_prueba/02_dNBR_vector'\n",
    "#     )"
   ]
  },
  {
   "cell_type": "code",
   "execution_count": null,
   "metadata": {},
   "outputs": [],
   "source": [
    "# ppp=list(range(21,23))\n",
    "# for i in ppp:\n",
    "#     export_drive(i)"
   ]
  },
  {
   "cell_type": "code",
   "execution_count": null,
   "metadata": {},
   "outputs": [],
   "source": [
    "#geemap.ee_search()"
   ]
  }
 ],
 "metadata": {
  "kernelspec": {
   "display_name": "Python 3",
   "language": "python",
   "name": "python3"
  },
  "language_info": {
   "codemirror_mode": {
    "name": "ipython",
    "version": 3
   },
   "file_extension": ".py",
   "mimetype": "text/x-python",
   "name": "python",
   "nbconvert_exporter": "python",
   "pygments_lexer": "ipython3",
   "version": "3.7.9"
  },
  "orig_nbformat": 4,
  "vscode": {
   "interpreter": {
    "hash": "a52339dcf69e14b46f653feba7b07f12d612c486846ee45f1b7fdc49d1492172"
   }
  }
 },
 "nbformat": 4,
 "nbformat_minor": 2
}
