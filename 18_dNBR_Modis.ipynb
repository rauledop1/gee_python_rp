{
 "cells": [
  {
   "cell_type": "code",
   "execution_count": 1,
   "metadata": {},
   "outputs": [],
   "source": [
    "import ee\n",
    "import geemap\n",
    "import time\n",
    "import requests\n",
    "import json\n",
    "import os\n",
    "from geemap import geojson_to_ee, ee_to_geojson\n",
    "from ipyleaflet import GeoJSON\n",
    "import geopandas as gpd\n",
    "import topojson as tp\n",
    "#ee.Authenticate()\n",
    "#geemap.ee_search()\n",
    "ee.Initialize()\n",
    "Map = geemap.Map()"
   ]
  },
  {
   "cell_type": "code",
   "execution_count": 2,
   "metadata": {},
   "outputs": [],
   "source": [
    "countries = ee.FeatureCollection('users/raulperezastorga/Limites_SPPP')\n",
    "roi = countries"
   ]
  },
  {
   "cell_type": "code",
   "execution_count": 3,
   "metadata": {},
   "outputs": [],
   "source": [
    "t2=2024\n",
    "t1=t2-1\n",
    "t2=str(t2)\n",
    "t1=str(t1)"
   ]
  },
  {
   "cell_type": "code",
   "execution_count": 4,
   "metadata": {},
   "outputs": [],
   "source": [
    "prefire_start = f'{t1}-07-01'\n",
    "prefire_end = f'{t2}-02-28'\n",
    "\n",
    "# Now set the same parameters for AFTER the fire.\n",
    "postfire_start = f'{t2}-03-01'\n",
    "#postfire_end = time.strftime('%Y-%m-%d', time.localtime(time.time()))\n",
    "postfire_end = f'{t2}-06-30'"
   ]
  },
  {
   "cell_type": "code",
   "execution_count": 5,
   "metadata": {},
   "outputs": [
    {
     "data": {
      "text/plain": [
       "'2023-07-01'"
      ]
     },
     "execution_count": 5,
     "metadata": {},
     "output_type": "execute_result"
    }
   ],
   "source": [
    "prefire_start"
   ]
  },
  {
   "cell_type": "code",
   "execution_count": 6,
   "metadata": {},
   "outputs": [],
   "source": [
    "vizfalsoColor = {\n",
    "  'bands': ['B8', 'B4B', 'B3'],\n",
    "  'min': 0 ,\n",
    "  'max': 0.35,\n",
    "  'gamma': [1, 1, 1]\n",
    "}\n",
    "\n",
    "vizfalsoColor2 = {\n",
    "  'bands': ['B8', 'B4', 'B3'],\n",
    "  'min': 0 ,\n",
    "  'max': 0.35,\n",
    "  'gamma': [1, 1, 1]\n",
    "}\n",
    "\n",
    "vizfire = {\n",
    "  'bands': ['B11', 'B8B', 'B4'],\n",
    "  'min': 0.17 ,\n",
    "  'max': 0.35,\n",
    "  'gamma': [1, 1, 1]\n",
    "}"
   ]
  },
  {
   "cell_type": "code",
   "execution_count": 7,
   "metadata": {},
   "outputs": [],
   "source": [
    "##functiones prepare data reduce positive false and false positive\n",
    "#dNBR for s2, we recomend use s2_sr_harmonized for better, the normalizeddifference between nir and swir\n",
    "# s2 nir=B8, swir = B12\n",
    "def addNBR_s2h(image):\n",
    "    nbr = image.normalizedDifference(['B8', 'B12']).rename(\"nbr\")\n",
    "    image = image.addBands(nbr)\n",
    "    return image\n",
    "# l8 nir=B5, swir=B7\n",
    "def addNBR_l8(image):\n",
    "    nbr = image.normalizedDifference(['B5', 'B7']).rename(\"nbr\")\n",
    "    image = image.addBands(nbr)\n",
    "    return image\n",
    "# l5 and l7 nir=B4, swir B7\n",
    "def addNBR_l5(image):\n",
    "    nbr = image.normalizedDifference(['B4', 'B7']).rename(\"nbr\")\n",
    "    image = image.addBands(nbr)\n",
    "    return image\n",
    "\n",
    "\n",
    "## define a function that masks clouds\n",
    "# for s2\n",
    "def maskS2clouds(image):\n",
    "  qa = image.select('QA60')\n",
    "\n",
    "  # Bits 10 and 11 are clouds and cirrus, respectively.\n",
    "  cloudBitMask = 1 << 10\n",
    "  cirrusBitMask = 1 << 11\n",
    "\n",
    "  # Both flags should be set to zero, indicating clear conditions.\n",
    "  mask = qa.bitwiseAnd(cloudBitMask).eq(0).And(\n",
    "             qa.bitwiseAnd(cirrusBitMask).eq(0))\n",
    "\n",
    "  # Return the masked image, scaled to [0, 1].\n",
    "  return image.updateMask(mask).divide(10000)\n",
    "\n",
    "# in landsat 8 \n",
    "# Define a function to apply the cloud mask\n",
    "def maskL8sr(image):\n",
    "    # Bits 3 and 5 are cloud shadow and cloud, respectively.\n",
    "    cloudShadowBitMask = (1 << 3)\n",
    "    cloudsBitMask = (1 << 5)\n",
    "  \n",
    "    # Get the pixel QA band\n",
    "    qa = image.select('pixel_qa')\n",
    "  \n",
    "    # Both flags should be set to zero, indicating clear conditions\n",
    "    mask = qa.bitwiseAnd(cloudShadowBitMask).eq(0) and (qa.bitwiseAnd(cloudsBitMask)).eq(0)\n",
    "\n",
    "    # Return the masked image with updated metadata\n",
    "    return image.updateMask(mask).copyProperties(image, [\"system:time_start\"])\n",
    "\n",
    "# in Landsat 5 images\n",
    "def maskL5sr(image):\n",
    "    # Bits 3, 4, and 5 are cloud, cloud shadow, and snow/ice, respectively.\n",
    "    cloudsBitMask = (1 << 3)\n",
    "    cloudShadowBitMask = (1 << 4)\n",
    "    snowIceBitMask = (1 << 5)\n",
    "  \n",
    "    # Get the pixel QA band\n",
    "    qa = image.select('pixel_qa')\n",
    "  \n",
    "    # All flags should be set to zero, indicating clear conditions\n",
    "    mask = qa.bitwiseAnd(cloudsBitMask).eq(0) and \\\n",
    "           qa.bitwiseAnd(cloudShadowBitMask).eq(0) and \\\n",
    "           qa.bitwiseAnd(snowIceBitMask).eq(0)\n",
    "\n",
    "    # Return the masked image with updated metadata\n",
    "    return image.updateMask(mask).copyProperties(image, [\"system:time_start\"])\n",
    "\n",
    "###fire masks\n",
    "#better option is modis MCD64A1 but is avaible 3 or 4 months before wildfire\n",
    "\n",
    "\n",
    "def mask_fires_modis_mcd64a1(image):\n",
    "    collection_firms = ee.ImageCollection(\"MODIS/061/MCD64A1\") \\\n",
    "        .filterBounds(roi) \\\n",
    "        .filterDate(prefire_start, postfire_end) \\\n",
    "        .select('BurnDate')\n",
    "    fire_mask = collection_firms.max().gte(0).rename('fires')\n",
    "    return image.updateMask(fire_mask)\n",
    "\n",
    "# Filter fires by FIRMS dataset\n",
    "def mask_fire_firms(image):\n",
    "    firms = ee.ImageCollection('FIRMS')\n",
    "    fires_firms = ee.ImageCollection(firms\\\n",
    "            .select('T21')\\\n",
    "            .filterDate(prefire_start,postfire_end)\\\n",
    "            .filterBounds(roi)) \n",
    "    fires_firmsmx = fires_firms.max().clip(roi).subtract(273.15)\n",
    "    fires_firmsrc = fires_firmsmx.gte(100)\n",
    "    return image.updateMask(fires_firmsrc)\n",
    "\n",
    "## Vegetation mask before fire\n",
    "# Load MODIS Land Cover Type Yearly Global dataset (MCD12Q1) for year 2019\n",
    "\n",
    "# Get the vegetation/bare cover band\n",
    "\n",
    "\n",
    "# Define a function to apply the vegetation mask to an input image\n",
    "def maskVegetation(image):\n",
    "    mcd12q1 = ee.ImageCollection('MODIS/006/MCD12Q1') \\\n",
    "        .filter(ee.Filter.date(prefire_start, prefire_end)) \\\n",
    "        .filterBounds(roi)\\\n",
    "        .first()\n",
    "    vg = mcd12q1.select('LC_Type1')\n",
    "    # Get the pixels that represent vegetation\n",
    "    mask = vg.eq(1).Or(vg.eq(2)).Or(vg.eq(3)).Or(vg.eq(4)).Or(vg.eq(5)).Or(vg.eq(6)).Or(vg.eq(7))\n",
    "    \n",
    "    # Return the masked image with updated metadata\n",
    "    return image.updateMask(mask)\n",
    "\n",
    "# mask elevation\n",
    "def mask_elevation(image):\n",
    "    elevation_data = ee.Image('USGS/SRTMGL1_003').select('elevation').clip(roi)\n",
    "    elevation_mask = elevation_data.lt(3500)\n",
    "    return image.updateMask(elevation_mask)"
   ]
  },
  {
   "cell_type": "code",
   "execution_count": 8,
   "metadata": {},
   "outputs": [
    {
     "name": "stdout",
     "output_type": "stream",
     "text": [
      "COPERNICUS/S2_SR_HARMONIZED\n"
     ]
    }
   ],
   "source": [
    "if int(t2)>2018:\n",
    "    ImCol='COPERNICUS/S2_SR_HARMONIZED'\n",
    "else:\n",
    "    ImCol='COPERNICUS/S2'\n",
    "print(ImCol)\n",
    "#from 2016\n",
    "prefireImCol = ee.ImageCollection(ImCol) \\\n",
    "                  .filterDate(prefire_start, prefire_end) \\\n",
    "                  .filter(ee.Filter.lt('CLOUDY_PIXEL_PERCENTAGE', 20)) \\\n",
    "                  .sort('CLOUDY_PIXEL_PERCENTAGE')\\\n",
    "                  .filterBounds(roi) \\\n",
    "                  .sort('system:time_start')\\\n",
    "                  .map(maskS2clouds)\\\n",
    "                  .map(mask_elevation)\\\n",
    "                  .map(mask_fires_modis_mcd64a1)\\\n",
    "                  .map(addNBR_s2h)\n",
    "                  \n",
    "postfireImCol = ee.ImageCollection(ImCol) \\\n",
    "                  .filterDate(postfire_start, postfire_end) \\\n",
    "                  .filter(ee.Filter.lt('CLOUDY_PIXEL_PERCENTAGE', 5)) \\\n",
    "                  .filterBounds(roi) \\\n",
    "                  .map(maskS2clouds)\\\n",
    "                  .map(mask_elevation)\\\n",
    "                  .map(mask_fires_modis_mcd64a1)\\\n",
    "                  .map(addNBR_s2h)\\\n",
    "                  .sort('system:time_start', False)\n",
    "\n",
    "\n",
    "#HARMONIZE\n",
    "prefire = prefireImCol.max().clip(roi)\n",
    "postfire = postfireImCol.mosaic().clip(roi)"
   ]
  },
  {
   "cell_type": "code",
   "execution_count": 9,
   "metadata": {},
   "outputs": [],
   "source": [
    "preNBR = prefire.select('nbr')\n",
    "postNBR = postfire.select('nbr')\n",
    "dNBR_withoutsmooth = preNBR.subtract(postNBR)\n",
    "dNBR_unscaled = dNBR_withoutsmooth.reduceNeighborhood(\n",
    "    reducer=ee.Reducer.mean(),\n",
    "    kernel=ee.Kernel.gaussian(radius=5),\n",
    ")\n",
    "#dNBR_unscaled=dNBR_unscaled.clip(r20)\n",
    "dNBR_reclass = dNBR_unscaled.gte(-0.5).add(dNBR_unscaled.gte(-0.25)).add(dNBR_unscaled.gte(-0.1)).add(dNBR_unscaled.gte(0.1)).add(dNBR_unscaled.gte(0.27)).add(dNBR_unscaled.gte(0.44)).add(dNBR_unscaled.gte(0.66))\n",
    "#dNBR_Seguro = dNBR_unscaled.gte(0.27)\n",
    "\n",
    "viz_dNBR={\n",
    "  'min':1,\n",
    "  'max':7,#\"#7a8737\",\"#acbe4d\",\"#0ae042\",\n",
    "  'palette':[\"#7a8737\",\"#acbe4d\",\"#0ae042\",\"#fff70b\",\"#ffaf38\",\"#ff641b\",\"#a41fd6\"]\n",
    "}"
   ]
  },
  {
   "cell_type": "code",
   "execution_count": 10,
   "metadata": {},
   "outputs": [
    {
     "data": {
      "application/vnd.jupyter.widget-view+json": {
       "model_id": "c9d8bbec4d7b434795a30e5aaf52fe4e",
       "version_major": 2,
       "version_minor": 0
      },
      "text/plain": [
       "Map(center=[20, 0], controls=(WidgetControl(options=['position', 'transparent_bg'], widget=HBox(children=(Togg…"
      ]
     },
     "metadata": {},
     "output_type": "display_data"
    }
   ],
   "source": [
    "Map = geemap.Map()\n",
    "Map"
   ]
  },
  {
   "cell_type": "code",
   "execution_count": 11,
   "metadata": {},
   "outputs": [],
   "source": [
    "Map.addLayer(dNBR_reclass, viz_dNBR, 'dNBR Clase')"
   ]
  },
  {
   "cell_type": "code",
   "execution_count": 12,
   "metadata": {},
   "outputs": [
    {
     "data": {
      "text/plain": [
       "(TileLayer(attribution='&copy; <a href=\"https://www.openstreetmap.org/copyright\">OpenStreetMap</a> contributors', base=True, max_zoom=19, min_zoom=1, name='OpenStreetMap.Mapnik', options=['attribution', 'bounds', 'detect_retina', 'max_native_zoom', 'max_zoom', 'min_native_zoom', 'min_zoom', 'no_wrap', 'tile_size', 'tms', 'zoom_offset'], url='https://tile.openstreetmap.org/{z}/{x}/{y}.png'),\n",
       " TileLayer(attribution='Google', max_zoom=22, name='Google Maps', options=['attribution', 'bounds', 'detect_retina', 'max_native_zoom', 'max_zoom', 'min_native_zoom', 'min_zoom', 'no_wrap', 'tile_size', 'tms', 'zoom_offset'], url='https://mt1.google.com/vt/lyrs=m&x={x}&y={y}&z={z}'),\n",
       " TileLayer(attribution='Google Earth Engine', max_zoom=24, name='dNBR Clase', options=['attribution', 'bounds', 'detect_retina', 'max_native_zoom', 'max_zoom', 'min_native_zoom', 'min_zoom', 'no_wrap', 'tile_size', 'tms', 'zoom_offset'], url='https://earthengine.googleapis.com/v1alpha/projects/earthengine-legacy/maps/4b880cd3432faa6baef5620707cb3246-dc78c9df240a4417b380ca202b43da0b/tiles/{z}/{x}/{y}'))"
      ]
     },
     "execution_count": 12,
     "metadata": {},
     "output_type": "execute_result"
    }
   ],
   "source": [
    "Map.layers"
   ]
  },
  {
   "cell_type": "code",
   "execution_count": 13,
   "metadata": {},
   "outputs": [
    {
     "name": "stdout",
     "output_type": "stream",
     "text": [
      "Exporting dNBR_mcd64a1_pre_2023... Please check the Task Manager from the JavaScript Code Editor.\n"
     ]
    }
   ],
   "source": [
    "dNBR_vector= dNBR_reclass.reduceToVectors(**{\n",
    "'geometry':roi,\n",
    "'crs': 'EPSG:32718',\n",
    "'scale':30,\n",
    "'geometryType':'polygon',\n",
    "'eightConnected': False,\n",
    "'bestEffort':False,\n",
    "'maxPixels':9e10,\n",
    "'labelProperty': 'id_dano',\n",
    "}\n",
    ")\n",
    "dNDBR_export=ee.FeatureCollection(dNBR_vector.toList(dNBR_vector.size()))\n",
    "#Dissolve the simplified polygons and reduce file size\n",
    "\n",
    "    #.filterMetadata('label', 'greater_than', 3)\n",
    "geemap.ee_export_vector_to_drive(\n",
    "    dNDBR_export, description=\"dNBR_mcd64a1_pre_\"+t2, fileFormat='GeoJSON', folder=\"dNBR\"\n",
    ")"
   ]
  },
  {
   "cell_type": "code",
   "execution_count": 14,
   "metadata": {},
   "outputs": [
    {
     "name": "stdout",
     "output_type": "stream",
     "text": [
      "Exporting dNBR_mcd64a1_mxmn_2023... Please check the Task Manager from the JavaScript Code Editor.\n"
     ]
    }
   ],
   "source": [
    "dNBR_vector= dNBR_reclass.reduceToVectors(**{\n",
    "'geometry':roi,\n",
    "'crs': 'EPSG:32718',\n",
    "'scale':30,\n",
    "'geometryType':'polygon',\n",
    "'eightConnected': False,\n",
    "'bestEffort':False,\n",
    "'maxPixels':9e10,\n",
    "}\n",
    ")\n",
    "dNDBR_export=ee.FeatureCollection(dNBR_vector.toList(dNBR_vector.size()))#\\\n",
    "    #.filterMetadata('label', 'greater_than', 3)\n",
    "geemap.ee_export_vector_to_cloud_storage(\n",
    "    dNDBR_export, description=\"dNBR_mcd64a1_mxmn_\"+t2, fileFormat='csv',bucket='ee_geomatica'\n",
    ")"
   ]
  }
 ],
 "metadata": {
  "kernelspec": {
   "display_name": "Python 3",
   "language": "python",
   "name": "python3"
  },
  "language_info": {
   "codemirror_mode": {
    "name": "ipython",
    "version": 3
   },
   "file_extension": ".py",
   "mimetype": "text/x-python",
   "name": "python",
   "nbconvert_exporter": "python",
   "pygments_lexer": "ipython3",
   "version": "3.7.9"
  },
  "orig_nbformat": 4
 },
 "nbformat": 4,
 "nbformat_minor": 2
}
