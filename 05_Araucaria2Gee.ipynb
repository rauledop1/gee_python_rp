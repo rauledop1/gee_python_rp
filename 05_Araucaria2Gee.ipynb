{
 "cells": [
  {
   "cell_type": "code",
   "execution_count": 1,
   "metadata": {},
   "outputs": [],
   "source": [
    "import arcpy\n",
    "import os"
   ]
  },
  {
   "cell_type": "code",
   "execution_count": 2,
   "metadata": {},
   "outputs": [],
   "source": [
    "url_feature=\"https://araucaria.arauco.com/server/rest/services/Hosted/Perimetro_R20_Oficiales_VERSION_IMAGENES/FeatureServer/0\"\n",
    "path_file=r\"D:\\Raul Perez\\scripts2023\\Gee_Arauco\\data\""
   ]
  },
  {
   "cell_type": "code",
   "execution_count": 3,
   "metadata": {},
   "outputs": [],
   "source": [
    "if os.path.exists(os.path.join(path_file, \"r20_oficial.shp\")):\n",
    "    arcpy.management.Delete(os.path.join(path_file, \"r20_oficial.shp\"))\n",
    "    \n",
    "    arcpy.conversion.FeatureClassToFeatureClass(url_feature, \n",
    "                                                path_file, \n",
    "                                                \"r20_oficial.shp\", \n",
    "                                                '', \n",
    "                                                'name_1 \"Name_1\" true true false 254 Text 0 0,First,#,https://araucaria.arauco.com/server/rest/services/Hosted/Perimetro_R20_Oficiales_VERSION_IMAGENES/FeatureServer/0,name_1,0,254;superficie \"Superficie\" true true false 0 Double 0 0,First,#,https://araucaria.arauco.com/server/rest/services/Hosted/Perimetro_R20_Oficiales_VERSION_IMAGENES/FeatureServer/0,superficie,-1,-1;origen \"Origen\" true true false 254 Text 0 0,First,#,https://araucaria.arauco.com/server/rest/services/Hosted/Perimetro_R20_Oficiales_VERSION_IMAGENES/FeatureServer/0,origen,0,254;imagen \"IMAGEN\" true true false 30 Text 0 0,First,#,https://araucaria.arauco.com/server/rest/services/Hosted/Perimetro_R20_Oficiales_VERSION_IMAGENES/FeatureServer/0,imagen,0,30;last_edite \"last_edited_user\" true true false 255 Text 0 0,First,#,https://araucaria.arauco.com/server/rest/services/Hosted/Perimetro_R20_Oficiales_VERSION_IMAGENES/FeatureServer/0,last_edited_user,0,255;last_edi_1 \"last_edited_date\" true true false 29 Date 0 0,First,#,https://araucaria.arauco.com/server/rest/services/Hosted/Perimetro_R20_Oficiales_VERSION_IMAGENES/FeatureServer/0,last_edited_date,-1,-1;gridcode \"GC\" true true false 0 Long 0 0,First,#,https://araucaria.arauco.com/server/rest/services/Hosted/Perimetro_R20_Oficiales_VERSION_IMAGENES/FeatureServer/0,gridcode,-1,-1;estado \"ESTADO\" true true false 30 Text 0 0,First,#,https://araucaria.arauco.com/server/rest/services/Hosted/Perimetro_R20_Oficiales_VERSION_IMAGENES/FeatureServer/0,estado,0,30;estado_inc \"ESTADO INCENDIO\" true true false 15 Text 0 0,First,#,https://araucaria.arauco.com/server/rest/services/Hosted/Perimetro_R20_Oficiales_VERSION_IMAGENES/FeatureServer/0,estado_incendio,0,15', '')\n",
    "else:\n",
    "    arcpy.conversion.FeatureClassToFeatureClass(url_feature, \n",
    "                                                path_file, \n",
    "                                                \"r20_oficial.shp\", \n",
    "                                                '', \n",
    "                                                'name_1 \"Name_1\" true true false 254 Text 0 0,First,#,https://araucaria.arauco.com/server/rest/services/Hosted/Perimetro_R20_Oficiales_VERSION_IMAGENES/FeatureServer/0,name_1,0,254;superficie \"Superficie\" true true false 0 Double 0 0,First,#,https://araucaria.arauco.com/server/rest/services/Hosted/Perimetro_R20_Oficiales_VERSION_IMAGENES/FeatureServer/0,superficie,-1,-1;origen \"Origen\" true true false 254 Text 0 0,First,#,https://araucaria.arauco.com/server/rest/services/Hosted/Perimetro_R20_Oficiales_VERSION_IMAGENES/FeatureServer/0,origen,0,254;imagen \"IMAGEN\" true true false 30 Text 0 0,First,#,https://araucaria.arauco.com/server/rest/services/Hosted/Perimetro_R20_Oficiales_VERSION_IMAGENES/FeatureServer/0,imagen,0,30;last_edite \"last_edited_user\" true true false 255 Text 0 0,First,#,https://araucaria.arauco.com/server/rest/services/Hosted/Perimetro_R20_Oficiales_VERSION_IMAGENES/FeatureServer/0,last_edited_user,0,255;last_edi_1 \"last_edited_date\" true true false 29 Date 0 0,First,#,https://araucaria.arauco.com/server/rest/services/Hosted/Perimetro_R20_Oficiales_VERSION_IMAGENES/FeatureServer/0,last_edited_date,-1,-1;gridcode \"GC\" true true false 0 Long 0 0,First,#,https://araucaria.arauco.com/server/rest/services/Hosted/Perimetro_R20_Oficiales_VERSION_IMAGENES/FeatureServer/0,gridcode,-1,-1;estado \"ESTADO\" true true false 30 Text 0 0,First,#,https://araucaria.arauco.com/server/rest/services/Hosted/Perimetro_R20_Oficiales_VERSION_IMAGENES/FeatureServer/0,estado,0,30;estado_inc \"ESTADO INCENDIO\" true true false 15 Text 0 0,First,#,https://araucaria.arauco.com/server/rest/services/Hosted/Perimetro_R20_Oficiales_VERSION_IMAGENES/FeatureServer/0,estado_incendio,0,15', '')\n"
   ]
  }
 ],
 "metadata": {
  "kernelspec": {
   "display_name": "Python 3",
   "language": "python",
   "name": "python3"
  },
  "language_info": {
   "codemirror_mode": {
    "name": "ipython",
    "version": 3
   },
   "file_extension": ".py",
   "mimetype": "text/x-python",
   "name": "python",
   "nbconvert_exporter": "python",
   "pygments_lexer": "ipython3",
   "version": "3.7.11"
  },
  "orig_nbformat": 4,
  "vscode": {
   "interpreter": {
    "hash": "2bf978d2ff02f8294dfb4f692a253cc99e8b078036d773992e5c77a6713879cf"
   }
  }
 },
 "nbformat": 4,
 "nbformat_minor": 2
}
