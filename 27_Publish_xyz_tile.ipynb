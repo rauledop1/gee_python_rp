{
 "cells": [
  {
   "cell_type": "code",
   "execution_count": 1,
   "metadata": {},
   "outputs": [],
   "source": [
    "import leafmap.leafmap as leafmap\n",
    "layers = list(leafmap.basemaps.keys())[17:117]"
   ]
  },
  {
   "cell_type": "code",
   "execution_count": 2,
   "metadata": {},
   "outputs": [
    {
     "name": "stdout",
     "output_type": "stream",
     "text": [
      "['USGS NAIP Imagery NDVI', 'USGS Hydrography', 'USGS 3DEP Elevation', 'ESA WorldCover 2020', 'ESA WorldCover 2020 S2 FCC', 'ESA WorldCover 2020 S2 TCC', 'ESA WorldCover 2021', 'ESA WorldCover 2021 S2 FCC', 'ESA WorldCover 2021 S2 TCC', 'BasemapAT.basemap']\n"
     ]
    }
   ],
   "source": [
    "print(layers[:10])"
   ]
  },
  {
   "cell_type": "code",
   "execution_count": 3,
   "metadata": {},
   "outputs": [
    {
     "data": {
      "application/vnd.jupyter.widget-view+json": {
       "model_id": "57fc3230e19b4e9d9e2164054fdaa00d",
       "version_major": 2,
       "version_minor": 0
      },
      "text/plain": [
       "GridspecLayout(children=(Output(layout=Layout(grid_area='widget001')), Output(layout=Layout(grid_area='widget0…"
      ]
     },
     "metadata": {},
     "output_type": "display_data"
    }
   ],
   "source": [
    "leafmap.linked_maps(rows=20, cols=5, height=\"200px\", layers=layers, labels=layers)"
   ]
  },
  {
   "cell_type": "code",
   "execution_count": 4,
   "metadata": {},
   "outputs": [
    {
     "ename": "ImportError",
     "evalue": "cannot import name 'TileLayer' from 'arcgis.raster' (c:\\Users\\raul.perez.astorga\\AppData\\Local\\ESRI\\conda\\envs\\arcgispro-py3-clone\\lib\\site-packages\\arcgis\\raster\\__init__.py)",
     "output_type": "error",
     "traceback": [
      "\u001b[1;31m---------------------------------------------------------------------------\u001b[0m",
      "\u001b[1;31mImportError\u001b[0m                               Traceback (most recent call last)",
      "\u001b[1;32m<ipython-input-4-a2f2d6661ee7>\u001b[0m in \u001b[0;36m<module>\u001b[1;34m\u001b[0m\n\u001b[0;32m      1\u001b[0m \u001b[1;32mfrom\u001b[0m \u001b[0marcgis\u001b[0m\u001b[1;33m.\u001b[0m\u001b[0mgis\u001b[0m \u001b[1;32mimport\u001b[0m \u001b[0mGIS\u001b[0m\u001b[1;33m\u001b[0m\u001b[1;33m\u001b[0m\u001b[0m\n\u001b[1;32m----> 2\u001b[1;33m \u001b[1;32mfrom\u001b[0m \u001b[0marcgis\u001b[0m\u001b[1;33m.\u001b[0m\u001b[0mraster\u001b[0m \u001b[1;32mimport\u001b[0m \u001b[0mTileLayer\u001b[0m\u001b[1;33m\u001b[0m\u001b[1;33m\u001b[0m\u001b[0m\n\u001b[0m\u001b[0;32m      3\u001b[0m \u001b[1;31m# Log in to ArcGIS Online\u001b[0m\u001b[1;33m\u001b[0m\u001b[1;33m\u001b[0m\u001b[1;33m\u001b[0m\u001b[0m\n\u001b[0;32m      4\u001b[0m \u001b[0mgis\u001b[0m \u001b[1;33m=\u001b[0m \u001b[0mGIS\u001b[0m\u001b[1;33m(\u001b[0m\u001b[1;34m\"PRO\"\u001b[0m\u001b[1;33m)\u001b[0m\u001b[1;33m\u001b[0m\u001b[1;33m\u001b[0m\u001b[0m\n\u001b[0;32m      5\u001b[0m \u001b[1;33m\u001b[0m\u001b[0m\n",
      "\u001b[1;31mImportError\u001b[0m: cannot import name 'TileLayer' from 'arcgis.raster' (c:\\Users\\raul.perez.astorga\\AppData\\Local\\ESRI\\conda\\envs\\arcgispro-py3-clone\\lib\\site-packages\\arcgis\\raster\\__init__.py)"
     ]
    }
   ],
   "source": [
    "from arcgis.gis import GIS\n",
    "from arcgis.raster import TileLayer\n",
    "# Log in to ArcGIS Online\n",
    "gis = GIS(\"PRO\")\n",
    "\n"
   ]
  },
  {
   "cell_type": "code",
   "execution_count": 16,
   "metadata": {},
   "outputs": [
    {
     "data": {
      "text/html": [
       "<div class=\"item_container\" style=\"height: auto; overflow: hidden; border: 1px solid #cfcfcf; border-radius: 2px; background: #f6fafa; line-height: 1.21429em; padding: 10px;\">\n",
       "                    <div class=\"item_left\" style=\"width: 210px; float: left;\">\n",
       "                       <a href='https://araucaria.arauco.com/portal//home/item.html?id=ec71b613931741168d8def3ba8a28f22' target='_blank'>\n",
       "                        <img src='https://araucaria.arauco.com/portal//portalimages/desktopapp.png' class=\"itemThumbnail\">\n",
       "                       </a>\n",
       "                    </div>\n",
       "\n",
       "                    <div class=\"item_right\"     style=\"float: none; width: auto; overflow: hidden;\">\n",
       "                        <a href='https://araucaria.arauco.com/portal//home/item.html?id=ec71b613931741168d8def3ba8a28f22' target='_blank'><b>XYZ Tiles 5</b>\n",
       "                        </a>\n",
       "                        <br/><img src='https://araucaria.arauco.com/portal//home/js/jsapi/esri/css/images/item_type_icons/layers16.png' style=\"vertical-align:middle;\">Tile Package by raul.perez.astorga@arauco.com\n",
       "                        <br/>Last Modified: December 14, 2023\n",
       "                        <br/>0 comments, 0 views\n",
       "                    </div>\n",
       "                </div>\n",
       "                "
      ],
      "text/plain": [
       "<Item title:\"XYZ Tiles 5\" type:Tile Package owner:raul.perez.astorga@arauco.com>"
      ]
     },
     "execution_count": 16,
     "metadata": {},
     "output_type": "execute_result"
    }
   ],
   "source": [
    "\n",
    "# Define the URL for your XYZ tiles\n",
    "tiles_url='https://earthengine.googleapis.com/v1alpha/projects/earthengine-legacy/maps/4b880cd3432faa6baef5620707cb3246-dc78c9df240a4417b380ca202b43da0b/tiles/{level}/{col}/{row}'\n",
    "\n",
    "# Create a tile layer item\n",
    "tile_properties = {\n",
    "    'title': 'XYZ Tiles 5',\n",
    "    'type': 'Tile Package',\n",
    "    'url': tiles_url\n",
    "}\n",
    "\n",
    "# Publish the tile layer to ArcGIS Online\n",
    "tile_layer = gis.content.add(item_properties=tile_properties)\n",
    "\n",
    "# Share the tile layer publicly\n",
    "tile_layer.share(everyone=True)\n",
    "\n",
    "tile_layer\n"
   ]
  },
  {
   "cell_type": "code",
   "execution_count": 17,
   "metadata": {},
   "outputs": [
    {
     "name": "stdout",
     "output_type": "stream",
     "text": [
      "Collecting leafmap"
     ]
    },
    {
     "name": "stderr",
     "output_type": "stream",
     "text": [
      "WARNING: Ignoring invalid distribution -ip (c:\\users\\raul.perez.astorga\\appdata\\local\\esri\\conda\\envs\\arcgispro-py3-clone\\lib\\site-packages)\n",
      "WARNING: Ignoring invalid distribution -ip (c:\\users\\raul.perez.astorga\\appdata\\local\\esri\\conda\\envs\\arcgispro-py3-clone\\lib\\site-packages)\n",
      "WARNING: Ignoring invalid distribution -ip (c:\\users\\raul.perez.astorga\\appdata\\local\\esri\\conda\\envs\\arcgispro-py3-clone\\lib\\site-packages)\n",
      "    WARNING: Ignoring invalid distribution -ip (c:\\users\\raul.perez.astorga\\appdata\\local\\esri\\conda\\envs\\arcgispro-py3-clone\\lib\\site-packages)\n",
      "WARNING: Ignoring invalid distribution -ip (c:\\users\\raul.perez.astorga\\appdata\\local\\esri\\conda\\envs\\arcgispro-py3-clone\\lib\\site-packages)\n",
      "WARNING: Ignoring invalid distribution -ip (c:\\users\\raul.perez.astorga\\appdata\\local\\esri\\conda\\envs\\arcgispro-py3-clone\\lib\\site-packages)\n",
      "WARNING: Ignoring invalid distribution -ip (c:\\users\\raul.perez.astorga\\appdata\\local\\esri\\conda\\envs\\arcgispro-py3-clone\\lib\\site-packages)\n",
      "WARNING: Ignoring invalid distribution -ip (c:\\users\\raul.perez.astorga\\appdata\\local\\esri\\conda\\envs\\arcgispro-py3-clone\\lib\\site-packages)\n",
      "WARNING: Ignoring invalid distribution -ip (c:\\users\\raul.perez.astorga\\appdata\\local\\esri\\conda\\envs\\arcgispro-py3-clone\\lib\\site-packages)\n",
      "WARNING: Ignoring invalid distribution -ip (c:\\users\\raul.perez.astorga\\appdata\\local\\esri\\conda\\envs\\arcgispro-py3-clone\\lib\\site-packages)\n",
      "WARNING: Ignoring invalid distribution -ip (c:\\users\\raul.perez.astorga\\appdata\\local\\esri\\conda\\envs\\arcgispro-py3-clone\\lib\\site-packages)\n"
     ]
    },
    {
     "name": "stdout",
     "output_type": "stream",
     "text": [
      "\n",
      "  Downloading leafmap-0.18.9-py2.py3-none-any.whl (1.8 MB)\n",
      "     ---------------------------------------- 1.8/1.8 MB 2.3 MB/s eta 0:00:00\n",
      "Requirement already satisfied: ipyleaflet>=0.17.0 in c:\\users\\raul.perez.astorga\\appdata\\local\\esri\\conda\\envs\\arcgispro-py3-clone\\lib\\site-packages (from leafmap) (0.18.0)\n",
      "Requirement already satisfied: matplotlib in c:\\users\\raul.perez.astorga\\appdata\\local\\esri\\conda\\envs\\arcgispro-py3-clone\\lib\\site-packages (from leafmap) (3.4.2)\n",
      "Requirement already satisfied: pyshp>=2.1.3 in c:\\users\\raul.perez.astorga\\appdata\\local\\esri\\conda\\envs\\arcgispro-py3-clone\\lib\\site-packages (from leafmap) (2.1.3)\n",
      "Requirement already satisfied: pandas in c:\\users\\raul.perez.astorga\\appdata\\local\\esri\\conda\\envs\\arcgispro-py3-clone\\lib\\site-packages (from leafmap) (1.2.3)\n",
      "Requirement already satisfied: xyzservices in c:\\users\\raul.perez.astorga\\appdata\\local\\esri\\conda\\envs\\arcgispro-py3-clone\\lib\\site-packages (from leafmap) (2023.2.0)\n",
      "Requirement already satisfied: colour in c:\\users\\raul.perez.astorga\\appdata\\local\\esri\\conda\\envs\\arcgispro-py3-clone\\lib\\site-packages (from leafmap) (0.1.5)\n",
      "Requirement already satisfied: ipyfilechooser>=0.6.0 in c:\\users\\raul.perez.astorga\\appdata\\local\\esri\\conda\\envs\\arcgispro-py3-clone\\lib\\site-packages (from leafmap) (0.6.0)\n",
      "Requirement already satisfied: python-box in c:\\users\\raul.perez.astorga\\appdata\\local\\esri\\conda\\envs\\arcgispro-py3-clone\\lib\\site-packages (from leafmap) (7.0.1)\n",
      "Requirement already satisfied: ipyevents in c:\\users\\raul.perez.astorga\\appdata\\local\\esri\\conda\\envs\\arcgispro-py3-clone\\lib\\site-packages (from leafmap) (2.0.2)\n",
      "Requirement already satisfied: scooby in c:\\users\\raul.perez.astorga\\appdata\\local\\esri\\conda\\envs\\arcgispro-py3-clone\\lib\\site-packages (from leafmap) (0.7.3)\n",
      "Collecting folium<=0.13.0,>=0.11.0\n",
      "  Using cached folium-0.13.0-py2.py3-none-any.whl (96 kB)\n",
      "Requirement already satisfied: numpy in c:\\users\\raul.perez.astorga\\appdata\\local\\esri\\conda\\envs\\arcgispro-py3-clone\\lib\\site-packages (from leafmap) (1.20.1)\n",
      "Requirement already satisfied: whiteboxgui>=0.6.0 in c:\\users\\raul.perez.astorga\\appdata\\local\\esri\\conda\\envs\\arcgispro-py3-clone\\lib\\site-packages (from leafmap) (2.3.0)\n",
      "Requirement already satisfied: bqplot in c:\\users\\raul.perez.astorga\\appdata\\local\\esri\\conda\\envs\\arcgispro-py3-clone\\lib\\site-packages (from leafmap) (0.12.42)\n",
      "Requirement already satisfied: gdown in c:\\users\\raul.perez.astorga\\appdata\\local\\esri\\conda\\envs\\arcgispro-py3-clone\\lib\\site-packages (from leafmap) (4.7.1)\n",
      "Collecting pystac-client\n",
      "  Downloading pystac_client-0.5.1-py3-none-any.whl (29 kB)\n",
      "Requirement already satisfied: ipywidgets<8.0.0 in c:\\users\\raul.perez.astorga\\appdata\\local\\esri\\conda\\envs\\arcgispro-py3-clone\\lib\\site-packages (from leafmap) (7.8.1)\n",
      "Requirement already satisfied: geojson in c:\\users\\raul.perez.astorga\\appdata\\local\\esri\\conda\\envs\\arcgispro-py3-clone\\lib\\site-packages (from leafmap) (3.1.0)\n",
      "Requirement already satisfied: requests in c:\\users\\raul.perez.astorga\\appdata\\local\\esri\\conda\\envs\\arcgispro-py3-clone\\lib\\site-packages (from folium<=0.13.0,>=0.11.0->leafmap) (2.28.1)\n",
      "Requirement already satisfied: branca>=0.3.0 in c:\\users\\raul.perez.astorga\\appdata\\local\\esri\\conda\\envs\\arcgispro-py3-clone\\lib\\site-packages (from folium<=0.13.0,>=0.11.0->leafmap) (0.7.0)\n",
      "Requirement already satisfied: jinja2>=2.9 in c:\\users\\raul.perez.astorga\\appdata\\local\\esri\\conda\\envs\\arcgispro-py3-clone\\lib\\site-packages (from folium<=0.13.0,>=0.11.0->leafmap) (2.11.3)\n",
      "Requirement already satisfied: traittypes<3,>=0.2.1 in c:\\users\\raul.perez.astorga\\appdata\\local\\esri\\conda\\envs\\arcgispro-py3-clone\\lib\\site-packages (from ipyleaflet>=0.17.0->leafmap) (0.2.1)\n",
      "Requirement already satisfied: comm>=0.1.3 in c:\\users\\raul.perez.astorga\\appdata\\local\\esri\\conda\\envs\\arcgispro-py3-clone\\lib\\site-packages (from ipywidgets<8.0.0->leafmap) (0.1.4)\n",
      "Requirement already satisfied: ipython>=4.0.0 in c:\\users\\raul.perez.astorga\\appdata\\local\\esri\\conda\\envs\\arcgispro-py3-clone\\lib\\site-packages (from ipywidgets<8.0.0->leafmap) (7.21.0)\n",
      "Requirement already satisfied: widgetsnbextension~=3.6.6 in c:\\users\\raul.perez.astorga\\appdata\\local\\esri\\conda\\envs\\arcgispro-py3-clone\\lib\\site-packages (from ipywidgets<8.0.0->leafmap) (3.6.6)\n",
      "Requirement already satisfied: jupyterlab-widgets<3,>=1.0.0 in c:\\users\\raul.perez.astorga\\appdata\\local\\esri\\conda\\envs\\arcgispro-py3-clone\\lib\\site-packages (from ipywidgets<8.0.0->leafmap) (1.1.7)\n",
      "Requirement already satisfied: traitlets>=4.3.1 in c:\\users\\raul.perez.astorga\\appdata\\local\\esri\\conda\\envs\\arcgispro-py3-clone\\lib\\site-packages (from ipywidgets<8.0.0->leafmap) (4.3.3)\n",
      "Requirement already satisfied: ipython-genutils~=0.2.0 in c:\\users\\raul.perez.astorga\\appdata\\local\\esri\\conda\\envs\\arcgispro-py3-clone\\lib\\site-packages (from ipywidgets<8.0.0->leafmap) (0.2.0)\n",
      "Requirement already satisfied: whitebox in c:\\users\\raul.perez.astorga\\appdata\\local\\esri\\conda\\envs\\arcgispro-py3-clone\\lib\\site-packages (from whiteboxgui>=0.6.0->leafmap) (2.3.1)\n",
      "Requirement already satisfied: ipytree in c:\\users\\raul.perez.astorga\\appdata\\local\\esri\\conda\\envs\\arcgispro-py3-clone\\lib\\site-packages (from whiteboxgui>=0.6.0->leafmap) (0.2.2)\n",
      "Requirement already satisfied: python-dateutil>=2.7.3 in c:\\users\\raul.perez.astorga\\appdata\\local\\esri\\conda\\envs\\arcgispro-py3-clone\\lib\\site-packages (from pandas->leafmap) (2.8.1)\n",
      "Requirement already satisfied: pytz>=2017.3 in c:\\users\\raul.perez.astorga\\appdata\\local\\esri\\conda\\envs\\arcgispro-py3-clone\\lib\\site-packages\\pytz-2020.1-py3.7.egg (from pandas->leafmap) (2020.1)\n",
      "Requirement already satisfied: filelock in c:\\users\\raul.perez.astorga\\appdata\\local\\esri\\conda\\envs\\arcgispro-py3-clone\\lib\\site-packages (from gdown->leafmap) (3.12.2)\n",
      "Requirement already satisfied: six in c:\\users\\raul.perez.astorga\\appdata\\local\\esri\\conda\\envs\\arcgispro-py3-clone\\lib\\site-packages (from gdown->leafmap) (1.16.0)\n",
      "Requirement already satisfied: beautifulsoup4 in c:\\users\\raul.perez.astorga\\appdata\\local\\esri\\conda\\envs\\arcgispro-py3-clone\\lib\\site-packages (from gdown->leafmap) (4.12.2)\n",
      "Requirement already satisfied: tqdm in c:\\users\\raul.perez.astorga\\appdata\\local\\esri\\conda\\envs\\arcgispro-py3-clone\\lib\\site-packages (from gdown->leafmap) (4.66.1)\n",
      "Requirement already satisfied: kiwisolver>=1.0.1 in c:\\users\\raul.perez.astorga\\appdata\\local\\esri\\conda\\envs\\arcgispro-py3-clone\\lib\\site-packages (from matplotlib->leafmap) (1.3.1)\n",
      "Requirement already satisfied: pyparsing>=2.2.1 in c:\\users\\raul.perez.astorga\\appdata\\local\\esri\\conda\\envs\\arcgispro-py3-clone\\lib\\site-packages (from matplotlib->leafmap) (3.0.9)\n",
      "Requirement already satisfied: cycler>=0.10 in c:\\users\\raul.perez.astorga\\appdata\\local\\esri\\conda\\envs\\arcgispro-py3-clone\\lib\\site-packages (from matplotlib->leafmap) (0.10.0)\n",
      "Requirement already satisfied: pillow>=6.2.0 in c:\\users\\raul.perez.astorga\\appdata\\local\\esri\\conda\\envs\\arcgispro-py3-clone\\lib\\site-packages (from matplotlib->leafmap) (8.3.2)\n",
      "Collecting pystac>=1.4.0\n",
      "  Downloading pystac-1.5.0-py3-none-any.whl (146 kB)\n",
      "     -------------------------------------- 146.1/146.1 kB 2.9 MB/s eta 0:00:00\n",
      "Requirement already satisfied: colorama in c:\\users\\raul.perez.astorga\\appdata\\local\\esri\\conda\\envs\\arcgispro-py3-clone\\lib\\site-packages (from ipython>=4.0.0->ipywidgets<8.0.0->leafmap) (0.4.6)\n",
      "Requirement already satisfied: decorator in c:\\users\\raul.perez.astorga\\appdata\\local\\esri\\conda\\envs\\arcgispro-py3-clone\\lib\\site-packages (from ipython>=4.0.0->ipywidgets<8.0.0->leafmap) (4.4.2)\n",
      "Requirement already satisfied: pickleshare in c:\\users\\raul.perez.astorga\\appdata\\local\\esri\\conda\\envs\\arcgispro-py3-clone\\lib\\site-packages (from ipython>=4.0.0->ipywidgets<8.0.0->leafmap) (0.7.5)\n",
      "Requirement already satisfied: pygments in c:\\users\\raul.perez.astorga\\appdata\\local\\esri\\conda\\envs\\arcgispro-py3-clone\\lib\\site-packages (from ipython>=4.0.0->ipywidgets<8.0.0->leafmap) (2.9.0)\n",
      "Requirement already satisfied: jedi>=0.16 in c:\\users\\raul.perez.astorga\\appdata\\local\\esri\\conda\\envs\\arcgispro-py3-clone\\lib\\site-packages (from ipython>=4.0.0->ipywidgets<8.0.0->leafmap) (0.18.0)\n",
      "Requirement already satisfied: setuptools>=18.5 in c:\\users\\raul.perez.astorga\\appdata\\local\\esri\\conda\\envs\\arcgispro-py3-clone\\lib\\site-packages (from ipython>=4.0.0->ipywidgets<8.0.0->leafmap) (65.6.3)\n",
      "Requirement already satisfied: prompt-toolkit!=3.0.0,!=3.0.1,<3.1.0,>=2.0.0 in c:\\users\\raul.perez.astorga\\appdata\\local\\esri\\conda\\envs\\arcgispro-py3-clone\\lib\\site-packages (from ipython>=4.0.0->ipywidgets<8.0.0->leafmap) (3.0.5)\n",
      "Requirement already satisfied: backcall in c:\\users\\raul.perez.astorga\\appdata\\local\\esri\\conda\\envs\\arcgispro-py3-clone\\lib\\site-packages (from ipython>=4.0.0->ipywidgets<8.0.0->leafmap) (0.2.0)\n",
      "Requirement already satisfied: MarkupSafe>=0.23 in c:\\users\\raul.perez.astorga\\appdata\\local\\esri\\conda\\envs\\arcgispro-py3-clone\\lib\\site-packages (from jinja2>=2.9->folium<=0.13.0,>=0.11.0->leafmap) (1.1.1)\n",
      "Requirement already satisfied: typing-extensions>=3.7 in c:\\users\\raul.perez.astorga\\appdata\\local\\esri\\conda\\envs\\arcgispro-py3-clone\\lib\\site-packages (from pystac>=1.4.0->pystac-client->leafmap) (3.7.4.3)\n",
      "Requirement already satisfied: certifi>=2017.4.17 in c:\\users\\raul.perez.astorga\\appdata\\local\\esri\\conda\\envs\\arcgispro-py3-clone\\lib\\site-packages (from requests->folium<=0.13.0,>=0.11.0->leafmap) (2022.12.7)\n",
      "Requirement already satisfied: idna<4,>=2.5 in c:\\users\\raul.perez.astorga\\appdata\\local\\esri\\conda\\envs\\arcgispro-py3-clone\\lib\\site-packages (from requests->folium<=0.13.0,>=0.11.0->leafmap) (3.4)\n",
      "Requirement already satisfied: charset-normalizer<3,>=2 in c:\\users\\raul.perez.astorga\\appdata\\local\\esri\\conda\\envs\\arcgispro-py3-clone\\lib\\site-packages (from requests->folium<=0.13.0,>=0.11.0->leafmap) (2.0.4)\n",
      "Requirement already satisfied: urllib3<1.27,>=1.21.1 in c:\\users\\raul.perez.astorga\\appdata\\local\\esri\\conda\\envs\\arcgispro-py3-clone\\lib\\site-packages (from requests->folium<=0.13.0,>=0.11.0->leafmap) (1.26.14)\n",
      "Requirement already satisfied: notebook>=4.4.1 in c:\\users\\raul.perez.astorga\\appdata\\local\\esri\\conda\\envs\\arcgispro-py3-clone\\lib\\site-packages (from widgetsnbextension~=3.6.6->ipywidgets<8.0.0->leafmap) (5.7.10)\n",
      "Requirement already satisfied: soupsieve>1.2 in c:\\users\\raul.perez.astorga\\appdata\\local\\esri\\conda\\envs\\arcgispro-py3-clone\\lib\\site-packages (from beautifulsoup4->gdown->leafmap) (2.4.1)\n",
      "Requirement already satisfied: PySocks!=1.5.7,>=1.5.6 in c:\\users\\raul.perez.astorga\\appdata\\local\\esri\\conda\\envs\\arcgispro-py3-clone\\lib\\site-packages (from requests->folium<=0.13.0,>=0.11.0->leafmap) (1.7.1)\n",
      "Requirement already satisfied: Click>=6.0 in c:\\users\\raul.perez.astorga\\appdata\\local\\esri\\conda\\envs\\arcgispro-py3-clone\\lib\\site-packages (from whitebox->whiteboxgui>=0.6.0->leafmap) (7.1.2)\n",
      "Requirement already satisfied: parso<0.9.0,>=0.8.0 in c:\\users\\raul.perez.astorga\\appdata\\local\\esri\\conda\\envs\\arcgispro-py3-clone\\lib\\site-packages (from jedi>=0.16->ipython>=4.0.0->ipywidgets<8.0.0->leafmap) (0.8.1)\n",
      "Requirement already satisfied: nbformat in c:\\users\\raul.perez.astorga\\appdata\\local\\esri\\conda\\envs\\arcgispro-py3-clone\\lib\\site-packages (from notebook>=4.4.1->widgetsnbextension~=3.6.6->ipywidgets<8.0.0->leafmap) (5.1.3)\n",
      "Requirement already satisfied: Send2Trash in c:\\users\\raul.perez.astorga\\appdata\\local\\esri\\conda\\envs\\arcgispro-py3-clone\\lib\\site-packages (from notebook>=4.4.1->widgetsnbextension~=3.6.6->ipywidgets<8.0.0->leafmap) (1.5.0)\n",
      "Requirement already satisfied: pyzmq>=17 in c:\\users\\raul.perez.astorga\\appdata\\local\\esri\\conda\\envs\\arcgispro-py3-clone\\lib\\site-packages (from notebook>=4.4.1->widgetsnbextension~=3.6.6->ipywidgets<8.0.0->leafmap) (22.2.1)\n",
      "Requirement already satisfied: tornado<7,>=4.1 in c:\\users\\raul.perez.astorga\\appdata\\local\\esri\\conda\\envs\\arcgispro-py3-clone\\lib\\site-packages (from notebook>=4.4.1->widgetsnbextension~=3.6.6->ipywidgets<8.0.0->leafmap) (6.1)\n",
      "Requirement already satisfied: terminado>=0.8.1 in c:\\users\\raul.perez.astorga\\appdata\\local\\esri\\conda\\envs\\arcgispro-py3-clone\\lib\\site-packages (from notebook>=4.4.1->widgetsnbextension~=3.6.6->ipywidgets<8.0.0->leafmap) (0.9.3)\n",
      "Requirement already satisfied: jupyter-client>=5.2.0 in c:\\users\\raul.perez.astorga\\appdata\\local\\esri\\conda\\envs\\arcgispro-py3-clone\\lib\\site-packages (from notebook>=4.4.1->widgetsnbextension~=3.6.6->ipywidgets<8.0.0->leafmap) (6.1.7)\n",
      "Requirement already satisfied: nbconvert<6.0 in c:\\users\\raul.perez.astorga\\appdata\\local\\esri\\conda\\envs\\arcgispro-py3-clone\\lib\\site-packages (from notebook>=4.4.1->widgetsnbextension~=3.6.6->ipywidgets<8.0.0->leafmap) (5.6.1)\n",
      "Requirement already satisfied: ipykernel in c:\\users\\raul.perez.astorga\\appdata\\local\\esri\\conda\\envs\\arcgispro-py3-clone\\lib\\site-packages (from notebook>=4.4.1->widgetsnbextension~=3.6.6->ipywidgets<8.0.0->leafmap) (5.1.1)\n",
      "Requirement already satisfied: jupyter-core>=4.4.0 in c:\\users\\raul.perez.astorga\\appdata\\local\\esri\\conda\\envs\\arcgispro-py3-clone\\lib\\site-packages (from notebook>=4.4.1->widgetsnbextension~=3.6.6->ipywidgets<8.0.0->leafmap) (4.6.3)\n",
      "Requirement already satisfied: prometheus-client in c:\\users\\raul.perez.astorga\\appdata\\local\\esri\\conda\\envs\\arcgispro-py3-clone\\lib\\site-packages (from notebook>=4.4.1->widgetsnbextension~=3.6.6->ipywidgets<8.0.0->leafmap) (0.8.0)\n",
      "Requirement already satisfied: wcwidth in c:\\users\\raul.perez.astorga\\appdata\\local\\esri\\conda\\envs\\arcgispro-py3-clone\\lib\\site-packages (from prompt-toolkit!=3.0.0,!=3.0.1,<3.1.0,>=2.0.0->ipython>=4.0.0->ipywidgets<8.0.0->leafmap) (0.2.5)\n",
      "Requirement already satisfied: entrypoints>=0.2.2 in c:\\users\\raul.perez.astorga\\appdata\\local\\esri\\conda\\envs\\arcgispro-py3-clone\\lib\\site-packages (from nbconvert<6.0->notebook>=4.4.1->widgetsnbextension~=3.6.6->ipywidgets<8.0.0->leafmap) (0.3)\n",
      "Requirement already satisfied: mistune<2,>=0.8.1 in c:\\users\\raul.perez.astorga\\appdata\\local\\esri\\conda\\envs\\arcgispro-py3-clone\\lib\\site-packages (from nbconvert<6.0->notebook>=4.4.1->widgetsnbextension~=3.6.6->ipywidgets<8.0.0->leafmap) (0.8.4)\n",
      "Requirement already satisfied: pandocfilters>=1.4.1 in c:\\users\\raul.perez.astorga\\appdata\\local\\esri\\conda\\envs\\arcgispro-py3-clone\\lib\\site-packages (from nbconvert<6.0->notebook>=4.4.1->widgetsnbextension~=3.6.6->ipywidgets<8.0.0->leafmap) (1.4.3)\n",
      "Requirement already satisfied: bleach in c:\\users\\raul.perez.astorga\\appdata\\local\\esri\\conda\\envs\\arcgispro-py3-clone\\lib\\site-packages (from nbconvert<6.0->notebook>=4.4.1->widgetsnbextension~=3.6.6->ipywidgets<8.0.0->leafmap) (3.3.0)\n",
      "Requirement already satisfied: defusedxml in c:\\users\\raul.perez.astorga\\appdata\\local\\esri\\conda\\envs\\arcgispro-py3-clone\\lib\\site-packages (from nbconvert<6.0->notebook>=4.4.1->widgetsnbextension~=3.6.6->ipywidgets<8.0.0->leafmap) (0.7.1)\n",
      "Requirement already satisfied: testpath in c:\\users\\raul.perez.astorga\\appdata\\local\\esri\\conda\\envs\\arcgispro-py3-clone\\lib\\site-packages (from nbconvert<6.0->notebook>=4.4.1->widgetsnbextension~=3.6.6->ipywidgets<8.0.0->leafmap) (0.4.4)\n",
      "Requirement already satisfied: jsonschema!=2.5.0,>=2.4 in c:\\users\\raul.perez.astorga\\appdata\\local\\esri\\conda\\envs\\arcgispro-py3-clone\\lib\\site-packages (from nbformat->notebook>=4.4.1->widgetsnbextension~=3.6.6->ipywidgets<8.0.0->leafmap) (3.2.0)\n",
      "Requirement already satisfied: pywinpty>=0.5 in c:\\users\\raul.perez.astorga\\appdata\\local\\esri\\conda\\envs\\arcgispro-py3-clone\\lib\\site-packages (from terminado>=0.8.1->notebook>=4.4.1->widgetsnbextension~=3.6.6->ipywidgets<8.0.0->leafmap) (0.5.7)\n",
      "Requirement already satisfied: attrs>=17.4.0 in c:\\users\\raul.perez.astorga\\appdata\\local\\esri\\conda\\envs\\arcgispro-py3-clone\\lib\\site-packages (from jsonschema!=2.5.0,>=2.4->nbformat->notebook>=4.4.1->widgetsnbextension~=3.6.6->ipywidgets<8.0.0->leafmap) (21.2.0)\n",
      "Requirement already satisfied: importlib-metadata in c:\\users\\raul.perez.astorga\\appdata\\local\\esri\\conda\\envs\\arcgispro-py3-clone\\lib\\site-packages (from jsonschema!=2.5.0,>=2.4->nbformat->notebook>=4.4.1->widgetsnbextension~=3.6.6->ipywidgets<8.0.0->leafmap) (3.7.3)\n",
      "Requirement already satisfied: pyrsistent>=0.14.0 in c:\\users\\raul.perez.astorga\\appdata\\local\\esri\\conda\\envs\\arcgispro-py3-clone\\lib\\site-packages (from jsonschema!=2.5.0,>=2.4->nbformat->notebook>=4.4.1->widgetsnbextension~=3.6.6->ipywidgets<8.0.0->leafmap) (0.17.3)\n",
      "Requirement already satisfied: packaging in c:\\users\\raul.perez.astorga\\appdata\\local\\esri\\conda\\envs\\arcgispro-py3-clone\\lib\\site-packages (from bleach->nbconvert<6.0->notebook>=4.4.1->widgetsnbextension~=3.6.6->ipywidgets<8.0.0->leafmap) (22.0)\n",
      "Requirement already satisfied: webencodings in c:\\users\\raul.perez.astorga\\appdata\\local\\esri\\conda\\envs\\arcgispro-py3-clone\\lib\\site-packages (from bleach->nbconvert<6.0->notebook>=4.4.1->widgetsnbextension~=3.6.6->ipywidgets<8.0.0->leafmap) (0.5.1)\n",
      "Requirement already satisfied: zipp>=0.5 in c:\\users\\raul.perez.astorga\\appdata\\local\\esri\\conda\\envs\\arcgispro-py3-clone\\lib\\site-packages (from importlib-metadata->jsonschema!=2.5.0,>=2.4->nbformat->notebook>=4.4.1->widgetsnbextension~=3.6.6->ipywidgets<8.0.0->leafmap) (3.4.1)\n",
      "Installing collected packages: pystac, pystac-client, folium, leafmap\n",
      "  Attempting uninstall: folium\n",
      "    Found existing installation: folium 0.15.1\n",
      "    Uninstalling folium-0.15.1:\n",
      "      Successfully uninstalled folium-0.15.1\n",
      "Successfully installed folium-0.13.0 leafmap-0.18.9 pystac-1.5.0 pystac-client-0.5.1\n"
     ]
    }
   ],
   "source": [
    "!pip install leafmap"
   ]
  },
  {
   "cell_type": "code",
   "execution_count": 15,
   "metadata": {},
   "outputs": [
    {
     "data": {
      "text/html": [
       "<div class=\"item_container\" style=\"height: auto; overflow: hidden; border: 1px solid #cfcfcf; border-radius: 2px; background: #f6fafa; line-height: 1.21429em; padding: 10px;\">\n",
       "                    <div class=\"item_left\" style=\"width: 210px; float: left;\">\n",
       "                       <a href='https://araucaria.arauco.com/portal//home/item.html?id=cf5314eb4b3b47aaaf6370598d8bc495' target='_blank'>\n",
       "                        <img src='https://araucaria.arauco.com/portal//portalimages/desktopapp.png' class=\"itemThumbnail\">\n",
       "                       </a>\n",
       "                    </div>\n",
       "\n",
       "                    <div class=\"item_right\"     style=\"float: none; width: auto; overflow: hidden;\">\n",
       "                        <a href='https://araucaria.arauco.com/portal//home/item.html?id=cf5314eb4b3b47aaaf6370598d8bc495' target='_blank'><b>XYZ Tiles 4</b>\n",
       "                        </a>\n",
       "                        <br/><img src='https://araucaria.arauco.com/portal//home/js/jsapi/esri/css/images/item_type_icons/maps16.png' style=\"vertical-align:middle;\">Web Map by raul.perez.astorga@arauco.com\n",
       "                        <br/>Last Modified: December 14, 2023\n",
       "                        <br/>0 comments, 0 views\n",
       "                    </div>\n",
       "                </div>\n",
       "                "
      ],
      "text/plain": [
       "<Item title:\"XYZ Tiles 4\" type:Web Map owner:raul.perez.astorga@arauco.com>"
      ]
     },
     "execution_count": 15,
     "metadata": {},
     "output_type": "execute_result"
    }
   ],
   "source": [
    "tile_layer"
   ]
  }
 ],
 "metadata": {
  "kernelspec": {
   "display_name": "Python 3",
   "language": "python",
   "name": "python3"
  },
  "language_info": {
   "codemirror_mode": {
    "name": "ipython",
    "version": 3
   },
   "file_extension": ".py",
   "mimetype": "text/x-python",
   "name": "python",
   "nbconvert_exporter": "python",
   "pygments_lexer": "ipython3",
   "version": "3.7.11"
  }
 },
 "nbformat": 4,
 "nbformat_minor": 2
}
