{
 "cells": [
  {
   "cell_type": "code",
   "execution_count": 1,
   "metadata": {},
   "outputs": [
    {
     "ename": "ImportError",
     "evalue": "cannot import name 'WebTileLayer'",
     "output_type": "error",
     "traceback": [
      "\u001b[1;31m---------------------------------------------------------------------------\u001b[0m",
      "\u001b[1;31mImportError\u001b[0m                               Traceback (most recent call last)",
      "\u001b[1;32m<ipython-input-1-8c3422267eb1>\u001b[0m in \u001b[0;36m<module>\u001b[1;34m\u001b[0m\n\u001b[0;32m      1\u001b[0m \u001b[1;32mimport\u001b[0m \u001b[0marcgis\u001b[0m\u001b[1;33m\u001b[0m\u001b[1;33m\u001b[0m\u001b[0m\n\u001b[0;32m      2\u001b[0m \u001b[1;32mfrom\u001b[0m \u001b[0marcgis\u001b[0m\u001b[1;33m.\u001b[0m\u001b[0mgis\u001b[0m \u001b[1;32mimport\u001b[0m \u001b[0mGIS\u001b[0m\u001b[1;33m\u001b[0m\u001b[1;33m\u001b[0m\u001b[0m\n\u001b[1;32m----> 3\u001b[1;33m \u001b[1;32mfrom\u001b[0m \u001b[0marcgis\u001b[0m\u001b[1;33m.\u001b[0m\u001b[0mmapping\u001b[0m \u001b[1;32mimport\u001b[0m \u001b[0mWebTileLayer\u001b[0m\u001b[1;33m,\u001b[0m \u001b[0mTileLayerCollection\u001b[0m\u001b[1;33m\u001b[0m\u001b[1;33m\u001b[0m\u001b[0m\n\u001b[0m",
      "\u001b[1;31mImportError\u001b[0m: cannot import name 'WebTileLayer'"
     ]
    }
   ],
   "source": [
    "import arcgis\n",
    "from arcgis.gis import GIS\n",
    "from arcgis.mapping import WebTileLayer, TileLayerCollection"
   ]
  },
  {
   "cell_type": "code",
   "execution_count": null,
   "metadata": {},
   "outputs": [],
   "source": [
    "# authenticate with your ArcGIS Online organization\n",
    "gis = GIS('Pro')"
   ]
  },
  {
   "cell_type": "code",
   "execution_count": null,
   "metadata": {},
   "outputs": [],
   "source": [
    "# create a new TileLayerCollection for your TMS service\n",
    "tms_layer_collection = TileLayerCollection()\n",
    "tms_layer_collection.title = \"dNBR \"\n",
    "tms_layer_collection.description = \"Description of Your TMS Layer\"\n",
    "\n",
    "# add your TMS as a web tile layer to the collection\n",
    "tms_url = \"https://earthengine.googleapis.com/v1alpha/projects/earthengine-legacy/maps/d36d7ef0eb64e2e59b9143fb58a9f554-d66d7e9d366288b9e6b246b10ce75894/tiles/{z}/{x}/{y}\"\n",
    "# update this with your TMS URL\n",
    "tms_layer = WebTileLayer(tms_url)\n",
    "tms_layer_collection.add_layer(tms_layer)\n",
    "\n",
    "# publish the TMS as a hosted tile layer to ArcGIS Online\n",
    "tile_layer_properties = {\n",
    "    \"name\": \"Name of Your Hosted Tile Layer\",\n",
    "    \"description\": \"Description of Your Hosted Tile Layer\",\n",
    "    \"source\": tms_layer_collection,\n",
    "    \"tile_layout\": \"strpyramid\",\n",
    "    \"refresh_interval\": 0,\n",
    "}\n",
    "hosted_tile_layer = gis.content.create_service(\n",
    "    properties=tile_layer_properties, folder=\"Name of Your Folder\", overwrite=True, \n",
    "    service_type=\"hosted\", tags=[\"tag1\", \"tag2\"])\n",
    "    \n",
    "# update the URL of your tile service as needed\n",
    "new_tms_url = \"http://new-tms-url.com/{z}/{x}/{y}.png\" # update this with your new TMS URL\n",
    "hosted_tile_layer_collection = TileLayerCollection.fromitem(hosted_tile_layer)\n",
    "hosted_tile_layer_collection.layers[0].url = new_tms_url\n",
    "hosted_tile_layer_collection.update()\n",
    "\n",
    "\n",
    "\n",
    "\n",
    "\n",
    "# Publish the TMS service\n",
    "arcpy.CreateMapTilePackage_sd(folder_name, service_name, summary, tms_url, \"\", \"\",\n",
    "                              overwrite=True, remain_packed=True)\n"
   ]
  }
 ],
 "metadata": {
  "kernelspec": {
   "display_name": "Python 3",
   "language": "python",
   "name": "python3"
  },
  "language_info": {
   "codemirror_mode": {
    "name": "ipython",
    "version": 3
   },
   "file_extension": ".py",
   "mimetype": "text/x-python",
   "name": "python",
   "nbconvert_exporter": "python",
   "pygments_lexer": "ipython3",
   "version": "3.6.8"
  },
  "orig_nbformat": 4,
  "vscode": {
   "interpreter": {
    "hash": "2bf978d2ff02f8294dfb4f692a253cc99e8b078036d773992e5c77a6713879cf"
   }
  }
 },
 "nbformat": 4,
 "nbformat_minor": 2
}
